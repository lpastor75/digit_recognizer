{
  "nbformat": 4,
  "nbformat_minor": 0,
  "metadata": {
    "colab": {
      "provenance": [],
      "gpuType": "T4",
      "include_colab_link": true
    },
    "kernelspec": {
      "display_name": "Python 3",
      "name": "python3"
    },
    "language_info": {
      "codemirror_mode": {
        "name": "ipython",
        "version": 3
      },
      "file_extension": ".py",
      "mimetype": "text/x-python",
      "name": "python",
      "nbconvert_exporter": "python",
      "pygments_lexer": "ipython3",
      "version": "3.7.7"
    },
    "accelerator": "GPU"
  },
  "cells": [
    {
      "cell_type": "markdown",
      "metadata": {
        "id": "view-in-github",
        "colab_type": "text"
      },
      "source": [
        "<a href=\"https://colab.research.google.com/github/lpastor75/digit_recognizer/blob/main/digit_recognizer.ipynb\" target=\"_parent\"><img src=\"https://colab.research.google.com/assets/colab-badge.svg\" alt=\"Open In Colab\"/></a>"
      ]
    },
    {
      "cell_type": "markdown",
      "metadata": {
        "id": "rRu78-Qg3Nrs"
      },
      "source": [
        "<h1><font color=\"#113D68\" size=5>Learn computer vision fundamentals with the famous MNIST data</font></h1>\n",
        "\n",
        "\n",
        "\n",
        "<h1><font color=\"#113D68\" size=6>Digit recognizer</font></h1>\n",
        "\n",
        "<br>\n",
        "<div style=\"text-align: right\">\n",
        "  <font color=\"#113D68\" size=3>Luis Pastor Nuevo</font><br>\n",
        "  <font color=\"#113D68\" size=3>Kaggle comnpetitions</font><br>"
      ]
    },
    {
      "cell_type": "markdown",
      "source": [
        "# Descripción de la competición.\n",
        "\n",
        "MNIST (\"Instituto Nacional de Estándares y Tecnología Modificado\") puede ser considerado como el \"hola mundo\" de la visión artificial. Desde su lanzamiento en 1999, este conjunto de datos clásico de imágenes escritas a mano ha servido como base para comparar algoritmos de clasificación. A medida que surgen nuevas técnicas de aprendizaje automático, MNIST sigue siendo un recurso confiable tanto para investigadores como para estudiantes.\n",
        "\n",
        "En esta competición, el objetivo es identificar correctamente los dígitos de un conjunto de datos de decenas de miles de imágenes escritas a mano. Es recomendable experimentar con diferentes algoritmos para aprender de primera mano qué funciona bien y cómo se comparan las técnicas.\n",
        "\n",
        "Se puede acceder a esta competición a través del siguiente enlace: https://www.kaggle.com/competitions/digit-recognizer"
      ],
      "metadata": {
        "id": "GCI3ARJURYd0"
      }
    },
    {
      "cell_type": "markdown",
      "source": [
        "## El dataset de MNIST.\n",
        "\n",
        "- Los archivos de datos train.csv y test.csv contienen imágenes en escala de grises de dígitos dibujados a mano, del 0 al 9.\n",
        "\n",
        "- Cada imagen tiene 28 píxeles de alto y 28 píxeles de ancho, para un total de 784 píxeles. Cada píxel tiene un único valor de píxel asociado, que indica la claridad u oscuridad de ese píxel, donde los números más altos significan más oscuro. Este valor de píxel es un número entero entre 0 y 255, ambos inclusive.\n",
        "\n",
        "- El conjunto de datos de entrenamiento (train.csv) tiene 785 columnas. La primera columna, llamada \"etiqueta\", es el dígito que dibujó el usuario. El resto de las columnas contienen los valores de píxel de la imagen asociada.\n",
        "\n",
        "- Cada columna de píxeles en el conjunto de entrenamiento tiene un nombre como *pixelx*, donde x es un número entero entre 0 y 783, inclusive. Para ubicar este píxel en la imagen, supongamos que hemos descompuesto x como x = i * 28 + j, donde i y j son números enteros entre 0 y 27, ambos inclusive. Luego, *pixelx* se ubica en la fila i y la columna j de una matriz de 28 x 28 (indexación por cero).\n",
        "\n",
        "Por ejemplo, *pixel31* indica el píxel que está en la cuarta columna desde la izquierda y la segunda fila desde arriba.\n"
      ],
      "metadata": {
        "id": "EuGJaY6eTbvr"
      }
    },
    {
      "cell_type": "markdown",
      "source": [
        "## Carga de datos.\n",
        "Para empezar, se carga el conjunto de datos de entrenamiento."
      ],
      "metadata": {
        "id": "C5G7SUBXWzbc"
      }
    },
    {
      "cell_type": "code",
      "metadata": {
        "id": "107M0_283Nrw"
      },
      "source": [
        "import tensorflow as tf\n",
        "import numpy as np\n",
        "import pandas as pd\n",
        "import matplotlib.pyplot as plt\n",
        "%matplotlib inline\n",
        "\n",
        "# Se establece una semilla para numpy y tensorflow, para poder reproducir la ejecución y los resultados.\n",
        "seed = 101\n",
        "np.random.seed(seed)\n",
        "tf.random.set_seed(seed)"
      ],
      "execution_count": 1,
      "outputs": []
    },
    {
      "cell_type": "code",
      "metadata": {
        "id": "7-9vhppH3Nsq",
        "colab": {
          "base_uri": "https://localhost:8080/",
          "height": 273
        },
        "outputId": "972a4795-41cb-4b7b-fcb3-31b463d73700"
      },
      "source": [
        "df_train = pd.read_csv('data/train.csv.zip')\n",
        "print(f'Dimensión de df_train: {df_train.shape}')\n",
        "df_train.head()"
      ],
      "execution_count": 2,
      "outputs": [
        {
          "output_type": "stream",
          "name": "stdout",
          "text": [
            "Dimensión de df_train: (42000, 785)\n"
          ]
        },
        {
          "output_type": "execute_result",
          "data": {
            "text/plain": [
              "   label  pixel0  pixel1  pixel2  pixel3  pixel4  pixel5  pixel6  pixel7  \\\n",
              "0      1       0       0       0       0       0       0       0       0   \n",
              "1      0       0       0       0       0       0       0       0       0   \n",
              "2      1       0       0       0       0       0       0       0       0   \n",
              "3      4       0       0       0       0       0       0       0       0   \n",
              "4      0       0       0       0       0       0       0       0       0   \n",
              "\n",
              "   pixel8  ...  pixel774  pixel775  pixel776  pixel777  pixel778  pixel779  \\\n",
              "0       0  ...         0         0         0         0         0         0   \n",
              "1       0  ...         0         0         0         0         0         0   \n",
              "2       0  ...         0         0         0         0         0         0   \n",
              "3       0  ...         0         0         0         0         0         0   \n",
              "4       0  ...         0         0         0         0         0         0   \n",
              "\n",
              "   pixel780  pixel781  pixel782  pixel783  \n",
              "0         0         0         0         0  \n",
              "1         0         0         0         0  \n",
              "2         0         0         0         0  \n",
              "3         0         0         0         0  \n",
              "4         0         0         0         0  \n",
              "\n",
              "[5 rows x 785 columns]"
            ],
            "text/html": [
              "\n",
              "  <div id=\"df-11795321-da7c-4ecc-84ad-bfeadeb974a9\" class=\"colab-df-container\">\n",
              "    <div>\n",
              "<style scoped>\n",
              "    .dataframe tbody tr th:only-of-type {\n",
              "        vertical-align: middle;\n",
              "    }\n",
              "\n",
              "    .dataframe tbody tr th {\n",
              "        vertical-align: top;\n",
              "    }\n",
              "\n",
              "    .dataframe thead th {\n",
              "        text-align: right;\n",
              "    }\n",
              "</style>\n",
              "<table border=\"1\" class=\"dataframe\">\n",
              "  <thead>\n",
              "    <tr style=\"text-align: right;\">\n",
              "      <th></th>\n",
              "      <th>label</th>\n",
              "      <th>pixel0</th>\n",
              "      <th>pixel1</th>\n",
              "      <th>pixel2</th>\n",
              "      <th>pixel3</th>\n",
              "      <th>pixel4</th>\n",
              "      <th>pixel5</th>\n",
              "      <th>pixel6</th>\n",
              "      <th>pixel7</th>\n",
              "      <th>pixel8</th>\n",
              "      <th>...</th>\n",
              "      <th>pixel774</th>\n",
              "      <th>pixel775</th>\n",
              "      <th>pixel776</th>\n",
              "      <th>pixel777</th>\n",
              "      <th>pixel778</th>\n",
              "      <th>pixel779</th>\n",
              "      <th>pixel780</th>\n",
              "      <th>pixel781</th>\n",
              "      <th>pixel782</th>\n",
              "      <th>pixel783</th>\n",
              "    </tr>\n",
              "  </thead>\n",
              "  <tbody>\n",
              "    <tr>\n",
              "      <th>0</th>\n",
              "      <td>1</td>\n",
              "      <td>0</td>\n",
              "      <td>0</td>\n",
              "      <td>0</td>\n",
              "      <td>0</td>\n",
              "      <td>0</td>\n",
              "      <td>0</td>\n",
              "      <td>0</td>\n",
              "      <td>0</td>\n",
              "      <td>0</td>\n",
              "      <td>...</td>\n",
              "      <td>0</td>\n",
              "      <td>0</td>\n",
              "      <td>0</td>\n",
              "      <td>0</td>\n",
              "      <td>0</td>\n",
              "      <td>0</td>\n",
              "      <td>0</td>\n",
              "      <td>0</td>\n",
              "      <td>0</td>\n",
              "      <td>0</td>\n",
              "    </tr>\n",
              "    <tr>\n",
              "      <th>1</th>\n",
              "      <td>0</td>\n",
              "      <td>0</td>\n",
              "      <td>0</td>\n",
              "      <td>0</td>\n",
              "      <td>0</td>\n",
              "      <td>0</td>\n",
              "      <td>0</td>\n",
              "      <td>0</td>\n",
              "      <td>0</td>\n",
              "      <td>0</td>\n",
              "      <td>...</td>\n",
              "      <td>0</td>\n",
              "      <td>0</td>\n",
              "      <td>0</td>\n",
              "      <td>0</td>\n",
              "      <td>0</td>\n",
              "      <td>0</td>\n",
              "      <td>0</td>\n",
              "      <td>0</td>\n",
              "      <td>0</td>\n",
              "      <td>0</td>\n",
              "    </tr>\n",
              "    <tr>\n",
              "      <th>2</th>\n",
              "      <td>1</td>\n",
              "      <td>0</td>\n",
              "      <td>0</td>\n",
              "      <td>0</td>\n",
              "      <td>0</td>\n",
              "      <td>0</td>\n",
              "      <td>0</td>\n",
              "      <td>0</td>\n",
              "      <td>0</td>\n",
              "      <td>0</td>\n",
              "      <td>...</td>\n",
              "      <td>0</td>\n",
              "      <td>0</td>\n",
              "      <td>0</td>\n",
              "      <td>0</td>\n",
              "      <td>0</td>\n",
              "      <td>0</td>\n",
              "      <td>0</td>\n",
              "      <td>0</td>\n",
              "      <td>0</td>\n",
              "      <td>0</td>\n",
              "    </tr>\n",
              "    <tr>\n",
              "      <th>3</th>\n",
              "      <td>4</td>\n",
              "      <td>0</td>\n",
              "      <td>0</td>\n",
              "      <td>0</td>\n",
              "      <td>0</td>\n",
              "      <td>0</td>\n",
              "      <td>0</td>\n",
              "      <td>0</td>\n",
              "      <td>0</td>\n",
              "      <td>0</td>\n",
              "      <td>...</td>\n",
              "      <td>0</td>\n",
              "      <td>0</td>\n",
              "      <td>0</td>\n",
              "      <td>0</td>\n",
              "      <td>0</td>\n",
              "      <td>0</td>\n",
              "      <td>0</td>\n",
              "      <td>0</td>\n",
              "      <td>0</td>\n",
              "      <td>0</td>\n",
              "    </tr>\n",
              "    <tr>\n",
              "      <th>4</th>\n",
              "      <td>0</td>\n",
              "      <td>0</td>\n",
              "      <td>0</td>\n",
              "      <td>0</td>\n",
              "      <td>0</td>\n",
              "      <td>0</td>\n",
              "      <td>0</td>\n",
              "      <td>0</td>\n",
              "      <td>0</td>\n",
              "      <td>0</td>\n",
              "      <td>...</td>\n",
              "      <td>0</td>\n",
              "      <td>0</td>\n",
              "      <td>0</td>\n",
              "      <td>0</td>\n",
              "      <td>0</td>\n",
              "      <td>0</td>\n",
              "      <td>0</td>\n",
              "      <td>0</td>\n",
              "      <td>0</td>\n",
              "      <td>0</td>\n",
              "    </tr>\n",
              "  </tbody>\n",
              "</table>\n",
              "<p>5 rows × 785 columns</p>\n",
              "</div>\n",
              "    <div class=\"colab-df-buttons\">\n",
              "\n",
              "  <div class=\"colab-df-container\">\n",
              "    <button class=\"colab-df-convert\" onclick=\"convertToInteractive('df-11795321-da7c-4ecc-84ad-bfeadeb974a9')\"\n",
              "            title=\"Convert this dataframe to an interactive table.\"\n",
              "            style=\"display:none;\">\n",
              "\n",
              "  <svg xmlns=\"http://www.w3.org/2000/svg\" height=\"24px\" viewBox=\"0 -960 960 960\">\n",
              "    <path d=\"M120-120v-720h720v720H120Zm60-500h600v-160H180v160Zm220 220h160v-160H400v160Zm0 220h160v-160H400v160ZM180-400h160v-160H180v160Zm440 0h160v-160H620v160ZM180-180h160v-160H180v160Zm440 0h160v-160H620v160Z\"/>\n",
              "  </svg>\n",
              "    </button>\n",
              "\n",
              "  <style>\n",
              "    .colab-df-container {\n",
              "      display:flex;\n",
              "      gap: 12px;\n",
              "    }\n",
              "\n",
              "    .colab-df-convert {\n",
              "      background-color: #E8F0FE;\n",
              "      border: none;\n",
              "      border-radius: 50%;\n",
              "      cursor: pointer;\n",
              "      display: none;\n",
              "      fill: #1967D2;\n",
              "      height: 32px;\n",
              "      padding: 0 0 0 0;\n",
              "      width: 32px;\n",
              "    }\n",
              "\n",
              "    .colab-df-convert:hover {\n",
              "      background-color: #E2EBFA;\n",
              "      box-shadow: 0px 1px 2px rgba(60, 64, 67, 0.3), 0px 1px 3px 1px rgba(60, 64, 67, 0.15);\n",
              "      fill: #174EA6;\n",
              "    }\n",
              "\n",
              "    .colab-df-buttons div {\n",
              "      margin-bottom: 4px;\n",
              "    }\n",
              "\n",
              "    [theme=dark] .colab-df-convert {\n",
              "      background-color: #3B4455;\n",
              "      fill: #D2E3FC;\n",
              "    }\n",
              "\n",
              "    [theme=dark] .colab-df-convert:hover {\n",
              "      background-color: #434B5C;\n",
              "      box-shadow: 0px 1px 3px 1px rgba(0, 0, 0, 0.15);\n",
              "      filter: drop-shadow(0px 1px 2px rgba(0, 0, 0, 0.3));\n",
              "      fill: #FFFFFF;\n",
              "    }\n",
              "  </style>\n",
              "\n",
              "    <script>\n",
              "      const buttonEl =\n",
              "        document.querySelector('#df-11795321-da7c-4ecc-84ad-bfeadeb974a9 button.colab-df-convert');\n",
              "      buttonEl.style.display =\n",
              "        google.colab.kernel.accessAllowed ? 'block' : 'none';\n",
              "\n",
              "      async function convertToInteractive(key) {\n",
              "        const element = document.querySelector('#df-11795321-da7c-4ecc-84ad-bfeadeb974a9');\n",
              "        const dataTable =\n",
              "          await google.colab.kernel.invokeFunction('convertToInteractive',\n",
              "                                                    [key], {});\n",
              "        if (!dataTable) return;\n",
              "\n",
              "        const docLinkHtml = 'Like what you see? Visit the ' +\n",
              "          '<a target=\"_blank\" href=https://colab.research.google.com/notebooks/data_table.ipynb>data table notebook</a>'\n",
              "          + ' to learn more about interactive tables.';\n",
              "        element.innerHTML = '';\n",
              "        dataTable['output_type'] = 'display_data';\n",
              "        await google.colab.output.renderOutput(dataTable, element);\n",
              "        const docLink = document.createElement('div');\n",
              "        docLink.innerHTML = docLinkHtml;\n",
              "        element.appendChild(docLink);\n",
              "      }\n",
              "    </script>\n",
              "  </div>\n",
              "\n",
              "\n",
              "<div id=\"df-7f489be0-fb8b-4ca0-9ecc-473cfbe0c73a\">\n",
              "  <button class=\"colab-df-quickchart\" onclick=\"quickchart('df-7f489be0-fb8b-4ca0-9ecc-473cfbe0c73a')\"\n",
              "            title=\"Suggest charts.\"\n",
              "            style=\"display:none;\">\n",
              "\n",
              "<svg xmlns=\"http://www.w3.org/2000/svg\" height=\"24px\"viewBox=\"0 0 24 24\"\n",
              "     width=\"24px\">\n",
              "    <g>\n",
              "        <path d=\"M19 3H5c-1.1 0-2 .9-2 2v14c0 1.1.9 2 2 2h14c1.1 0 2-.9 2-2V5c0-1.1-.9-2-2-2zM9 17H7v-7h2v7zm4 0h-2V7h2v10zm4 0h-2v-4h2v4z\"/>\n",
              "    </g>\n",
              "</svg>\n",
              "  </button>\n",
              "\n",
              "<style>\n",
              "  .colab-df-quickchart {\n",
              "      --bg-color: #E8F0FE;\n",
              "      --fill-color: #1967D2;\n",
              "      --hover-bg-color: #E2EBFA;\n",
              "      --hover-fill-color: #174EA6;\n",
              "      --disabled-fill-color: #AAA;\n",
              "      --disabled-bg-color: #DDD;\n",
              "  }\n",
              "\n",
              "  [theme=dark] .colab-df-quickchart {\n",
              "      --bg-color: #3B4455;\n",
              "      --fill-color: #D2E3FC;\n",
              "      --hover-bg-color: #434B5C;\n",
              "      --hover-fill-color: #FFFFFF;\n",
              "      --disabled-bg-color: #3B4455;\n",
              "      --disabled-fill-color: #666;\n",
              "  }\n",
              "\n",
              "  .colab-df-quickchart {\n",
              "    background-color: var(--bg-color);\n",
              "    border: none;\n",
              "    border-radius: 50%;\n",
              "    cursor: pointer;\n",
              "    display: none;\n",
              "    fill: var(--fill-color);\n",
              "    height: 32px;\n",
              "    padding: 0;\n",
              "    width: 32px;\n",
              "  }\n",
              "\n",
              "  .colab-df-quickchart:hover {\n",
              "    background-color: var(--hover-bg-color);\n",
              "    box-shadow: 0 1px 2px rgba(60, 64, 67, 0.3), 0 1px 3px 1px rgba(60, 64, 67, 0.15);\n",
              "    fill: var(--button-hover-fill-color);\n",
              "  }\n",
              "\n",
              "  .colab-df-quickchart-complete:disabled,\n",
              "  .colab-df-quickchart-complete:disabled:hover {\n",
              "    background-color: var(--disabled-bg-color);\n",
              "    fill: var(--disabled-fill-color);\n",
              "    box-shadow: none;\n",
              "  }\n",
              "\n",
              "  .colab-df-spinner {\n",
              "    border: 2px solid var(--fill-color);\n",
              "    border-color: transparent;\n",
              "    border-bottom-color: var(--fill-color);\n",
              "    animation:\n",
              "      spin 1s steps(1) infinite;\n",
              "  }\n",
              "\n",
              "  @keyframes spin {\n",
              "    0% {\n",
              "      border-color: transparent;\n",
              "      border-bottom-color: var(--fill-color);\n",
              "      border-left-color: var(--fill-color);\n",
              "    }\n",
              "    20% {\n",
              "      border-color: transparent;\n",
              "      border-left-color: var(--fill-color);\n",
              "      border-top-color: var(--fill-color);\n",
              "    }\n",
              "    30% {\n",
              "      border-color: transparent;\n",
              "      border-left-color: var(--fill-color);\n",
              "      border-top-color: var(--fill-color);\n",
              "      border-right-color: var(--fill-color);\n",
              "    }\n",
              "    40% {\n",
              "      border-color: transparent;\n",
              "      border-right-color: var(--fill-color);\n",
              "      border-top-color: var(--fill-color);\n",
              "    }\n",
              "    60% {\n",
              "      border-color: transparent;\n",
              "      border-right-color: var(--fill-color);\n",
              "    }\n",
              "    80% {\n",
              "      border-color: transparent;\n",
              "      border-right-color: var(--fill-color);\n",
              "      border-bottom-color: var(--fill-color);\n",
              "    }\n",
              "    90% {\n",
              "      border-color: transparent;\n",
              "      border-bottom-color: var(--fill-color);\n",
              "    }\n",
              "  }\n",
              "</style>\n",
              "\n",
              "  <script>\n",
              "    async function quickchart(key) {\n",
              "      const quickchartButtonEl =\n",
              "        document.querySelector('#' + key + ' button');\n",
              "      quickchartButtonEl.disabled = true;  // To prevent multiple clicks.\n",
              "      quickchartButtonEl.classList.add('colab-df-spinner');\n",
              "      try {\n",
              "        const charts = await google.colab.kernel.invokeFunction(\n",
              "            'suggestCharts', [key], {});\n",
              "      } catch (error) {\n",
              "        console.error('Error during call to suggestCharts:', error);\n",
              "      }\n",
              "      quickchartButtonEl.classList.remove('colab-df-spinner');\n",
              "      quickchartButtonEl.classList.add('colab-df-quickchart-complete');\n",
              "    }\n",
              "    (() => {\n",
              "      let quickchartButtonEl =\n",
              "        document.querySelector('#df-7f489be0-fb8b-4ca0-9ecc-473cfbe0c73a button');\n",
              "      quickchartButtonEl.style.display =\n",
              "        google.colab.kernel.accessAllowed ? 'block' : 'none';\n",
              "    })();\n",
              "  </script>\n",
              "</div>\n",
              "    </div>\n",
              "  </div>\n"
            ]
          },
          "metadata": {},
          "execution_count": 2
        }
      ]
    },
    {
      "cell_type": "markdown",
      "source": [
        "Se carga el conjunto de test."
      ],
      "metadata": {
        "id": "OxKjzYpmj-cI"
      }
    },
    {
      "cell_type": "code",
      "source": [
        "df_test = pd.read_csv('data/test.csv.zip')\n",
        "print(f'Dimensión de df_test: {df_test.shape}')\n",
        "df_test.head()"
      ],
      "metadata": {
        "colab": {
          "base_uri": "https://localhost:8080/",
          "height": 273
        },
        "id": "mMhr4n4davTh",
        "outputId": "a9b20f16-dc7a-483e-cc1e-2b43873be2b8"
      },
      "execution_count": 3,
      "outputs": [
        {
          "output_type": "stream",
          "name": "stdout",
          "text": [
            "Dimensión de df_test: (28000, 784)\n"
          ]
        },
        {
          "output_type": "execute_result",
          "data": {
            "text/plain": [
              "   pixel0  pixel1  pixel2  pixel3  pixel4  pixel5  pixel6  pixel7  pixel8  \\\n",
              "0       0       0       0       0       0       0       0       0       0   \n",
              "1       0       0       0       0       0       0       0       0       0   \n",
              "2       0       0       0       0       0       0       0       0       0   \n",
              "3       0       0       0       0       0       0       0       0       0   \n",
              "4       0       0       0       0       0       0       0       0       0   \n",
              "\n",
              "   pixel9  ...  pixel774  pixel775  pixel776  pixel777  pixel778  pixel779  \\\n",
              "0       0  ...         0         0         0         0         0         0   \n",
              "1       0  ...         0         0         0         0         0         0   \n",
              "2       0  ...         0         0         0         0         0         0   \n",
              "3       0  ...         0         0         0         0         0         0   \n",
              "4       0  ...         0         0         0         0         0         0   \n",
              "\n",
              "   pixel780  pixel781  pixel782  pixel783  \n",
              "0         0         0         0         0  \n",
              "1         0         0         0         0  \n",
              "2         0         0         0         0  \n",
              "3         0         0         0         0  \n",
              "4         0         0         0         0  \n",
              "\n",
              "[5 rows x 784 columns]"
            ],
            "text/html": [
              "\n",
              "  <div id=\"df-768f5454-a741-477a-a964-0c76bc54da80\" class=\"colab-df-container\">\n",
              "    <div>\n",
              "<style scoped>\n",
              "    .dataframe tbody tr th:only-of-type {\n",
              "        vertical-align: middle;\n",
              "    }\n",
              "\n",
              "    .dataframe tbody tr th {\n",
              "        vertical-align: top;\n",
              "    }\n",
              "\n",
              "    .dataframe thead th {\n",
              "        text-align: right;\n",
              "    }\n",
              "</style>\n",
              "<table border=\"1\" class=\"dataframe\">\n",
              "  <thead>\n",
              "    <tr style=\"text-align: right;\">\n",
              "      <th></th>\n",
              "      <th>pixel0</th>\n",
              "      <th>pixel1</th>\n",
              "      <th>pixel2</th>\n",
              "      <th>pixel3</th>\n",
              "      <th>pixel4</th>\n",
              "      <th>pixel5</th>\n",
              "      <th>pixel6</th>\n",
              "      <th>pixel7</th>\n",
              "      <th>pixel8</th>\n",
              "      <th>pixel9</th>\n",
              "      <th>...</th>\n",
              "      <th>pixel774</th>\n",
              "      <th>pixel775</th>\n",
              "      <th>pixel776</th>\n",
              "      <th>pixel777</th>\n",
              "      <th>pixel778</th>\n",
              "      <th>pixel779</th>\n",
              "      <th>pixel780</th>\n",
              "      <th>pixel781</th>\n",
              "      <th>pixel782</th>\n",
              "      <th>pixel783</th>\n",
              "    </tr>\n",
              "  </thead>\n",
              "  <tbody>\n",
              "    <tr>\n",
              "      <th>0</th>\n",
              "      <td>0</td>\n",
              "      <td>0</td>\n",
              "      <td>0</td>\n",
              "      <td>0</td>\n",
              "      <td>0</td>\n",
              "      <td>0</td>\n",
              "      <td>0</td>\n",
              "      <td>0</td>\n",
              "      <td>0</td>\n",
              "      <td>0</td>\n",
              "      <td>...</td>\n",
              "      <td>0</td>\n",
              "      <td>0</td>\n",
              "      <td>0</td>\n",
              "      <td>0</td>\n",
              "      <td>0</td>\n",
              "      <td>0</td>\n",
              "      <td>0</td>\n",
              "      <td>0</td>\n",
              "      <td>0</td>\n",
              "      <td>0</td>\n",
              "    </tr>\n",
              "    <tr>\n",
              "      <th>1</th>\n",
              "      <td>0</td>\n",
              "      <td>0</td>\n",
              "      <td>0</td>\n",
              "      <td>0</td>\n",
              "      <td>0</td>\n",
              "      <td>0</td>\n",
              "      <td>0</td>\n",
              "      <td>0</td>\n",
              "      <td>0</td>\n",
              "      <td>0</td>\n",
              "      <td>...</td>\n",
              "      <td>0</td>\n",
              "      <td>0</td>\n",
              "      <td>0</td>\n",
              "      <td>0</td>\n",
              "      <td>0</td>\n",
              "      <td>0</td>\n",
              "      <td>0</td>\n",
              "      <td>0</td>\n",
              "      <td>0</td>\n",
              "      <td>0</td>\n",
              "    </tr>\n",
              "    <tr>\n",
              "      <th>2</th>\n",
              "      <td>0</td>\n",
              "      <td>0</td>\n",
              "      <td>0</td>\n",
              "      <td>0</td>\n",
              "      <td>0</td>\n",
              "      <td>0</td>\n",
              "      <td>0</td>\n",
              "      <td>0</td>\n",
              "      <td>0</td>\n",
              "      <td>0</td>\n",
              "      <td>...</td>\n",
              "      <td>0</td>\n",
              "      <td>0</td>\n",
              "      <td>0</td>\n",
              "      <td>0</td>\n",
              "      <td>0</td>\n",
              "      <td>0</td>\n",
              "      <td>0</td>\n",
              "      <td>0</td>\n",
              "      <td>0</td>\n",
              "      <td>0</td>\n",
              "    </tr>\n",
              "    <tr>\n",
              "      <th>3</th>\n",
              "      <td>0</td>\n",
              "      <td>0</td>\n",
              "      <td>0</td>\n",
              "      <td>0</td>\n",
              "      <td>0</td>\n",
              "      <td>0</td>\n",
              "      <td>0</td>\n",
              "      <td>0</td>\n",
              "      <td>0</td>\n",
              "      <td>0</td>\n",
              "      <td>...</td>\n",
              "      <td>0</td>\n",
              "      <td>0</td>\n",
              "      <td>0</td>\n",
              "      <td>0</td>\n",
              "      <td>0</td>\n",
              "      <td>0</td>\n",
              "      <td>0</td>\n",
              "      <td>0</td>\n",
              "      <td>0</td>\n",
              "      <td>0</td>\n",
              "    </tr>\n",
              "    <tr>\n",
              "      <th>4</th>\n",
              "      <td>0</td>\n",
              "      <td>0</td>\n",
              "      <td>0</td>\n",
              "      <td>0</td>\n",
              "      <td>0</td>\n",
              "      <td>0</td>\n",
              "      <td>0</td>\n",
              "      <td>0</td>\n",
              "      <td>0</td>\n",
              "      <td>0</td>\n",
              "      <td>...</td>\n",
              "      <td>0</td>\n",
              "      <td>0</td>\n",
              "      <td>0</td>\n",
              "      <td>0</td>\n",
              "      <td>0</td>\n",
              "      <td>0</td>\n",
              "      <td>0</td>\n",
              "      <td>0</td>\n",
              "      <td>0</td>\n",
              "      <td>0</td>\n",
              "    </tr>\n",
              "  </tbody>\n",
              "</table>\n",
              "<p>5 rows × 784 columns</p>\n",
              "</div>\n",
              "    <div class=\"colab-df-buttons\">\n",
              "\n",
              "  <div class=\"colab-df-container\">\n",
              "    <button class=\"colab-df-convert\" onclick=\"convertToInteractive('df-768f5454-a741-477a-a964-0c76bc54da80')\"\n",
              "            title=\"Convert this dataframe to an interactive table.\"\n",
              "            style=\"display:none;\">\n",
              "\n",
              "  <svg xmlns=\"http://www.w3.org/2000/svg\" height=\"24px\" viewBox=\"0 -960 960 960\">\n",
              "    <path d=\"M120-120v-720h720v720H120Zm60-500h600v-160H180v160Zm220 220h160v-160H400v160Zm0 220h160v-160H400v160ZM180-400h160v-160H180v160Zm440 0h160v-160H620v160ZM180-180h160v-160H180v160Zm440 0h160v-160H620v160Z\"/>\n",
              "  </svg>\n",
              "    </button>\n",
              "\n",
              "  <style>\n",
              "    .colab-df-container {\n",
              "      display:flex;\n",
              "      gap: 12px;\n",
              "    }\n",
              "\n",
              "    .colab-df-convert {\n",
              "      background-color: #E8F0FE;\n",
              "      border: none;\n",
              "      border-radius: 50%;\n",
              "      cursor: pointer;\n",
              "      display: none;\n",
              "      fill: #1967D2;\n",
              "      height: 32px;\n",
              "      padding: 0 0 0 0;\n",
              "      width: 32px;\n",
              "    }\n",
              "\n",
              "    .colab-df-convert:hover {\n",
              "      background-color: #E2EBFA;\n",
              "      box-shadow: 0px 1px 2px rgba(60, 64, 67, 0.3), 0px 1px 3px 1px rgba(60, 64, 67, 0.15);\n",
              "      fill: #174EA6;\n",
              "    }\n",
              "\n",
              "    .colab-df-buttons div {\n",
              "      margin-bottom: 4px;\n",
              "    }\n",
              "\n",
              "    [theme=dark] .colab-df-convert {\n",
              "      background-color: #3B4455;\n",
              "      fill: #D2E3FC;\n",
              "    }\n",
              "\n",
              "    [theme=dark] .colab-df-convert:hover {\n",
              "      background-color: #434B5C;\n",
              "      box-shadow: 0px 1px 3px 1px rgba(0, 0, 0, 0.15);\n",
              "      filter: drop-shadow(0px 1px 2px rgba(0, 0, 0, 0.3));\n",
              "      fill: #FFFFFF;\n",
              "    }\n",
              "  </style>\n",
              "\n",
              "    <script>\n",
              "      const buttonEl =\n",
              "        document.querySelector('#df-768f5454-a741-477a-a964-0c76bc54da80 button.colab-df-convert');\n",
              "      buttonEl.style.display =\n",
              "        google.colab.kernel.accessAllowed ? 'block' : 'none';\n",
              "\n",
              "      async function convertToInteractive(key) {\n",
              "        const element = document.querySelector('#df-768f5454-a741-477a-a964-0c76bc54da80');\n",
              "        const dataTable =\n",
              "          await google.colab.kernel.invokeFunction('convertToInteractive',\n",
              "                                                    [key], {});\n",
              "        if (!dataTable) return;\n",
              "\n",
              "        const docLinkHtml = 'Like what you see? Visit the ' +\n",
              "          '<a target=\"_blank\" href=https://colab.research.google.com/notebooks/data_table.ipynb>data table notebook</a>'\n",
              "          + ' to learn more about interactive tables.';\n",
              "        element.innerHTML = '';\n",
              "        dataTable['output_type'] = 'display_data';\n",
              "        await google.colab.output.renderOutput(dataTable, element);\n",
              "        const docLink = document.createElement('div');\n",
              "        docLink.innerHTML = docLinkHtml;\n",
              "        element.appendChild(docLink);\n",
              "      }\n",
              "    </script>\n",
              "  </div>\n",
              "\n",
              "\n",
              "<div id=\"df-8f0ffe87-3fde-4575-9f00-dcc7724e7a79\">\n",
              "  <button class=\"colab-df-quickchart\" onclick=\"quickchart('df-8f0ffe87-3fde-4575-9f00-dcc7724e7a79')\"\n",
              "            title=\"Suggest charts.\"\n",
              "            style=\"display:none;\">\n",
              "\n",
              "<svg xmlns=\"http://www.w3.org/2000/svg\" height=\"24px\"viewBox=\"0 0 24 24\"\n",
              "     width=\"24px\">\n",
              "    <g>\n",
              "        <path d=\"M19 3H5c-1.1 0-2 .9-2 2v14c0 1.1.9 2 2 2h14c1.1 0 2-.9 2-2V5c0-1.1-.9-2-2-2zM9 17H7v-7h2v7zm4 0h-2V7h2v10zm4 0h-2v-4h2v4z\"/>\n",
              "    </g>\n",
              "</svg>\n",
              "  </button>\n",
              "\n",
              "<style>\n",
              "  .colab-df-quickchart {\n",
              "      --bg-color: #E8F0FE;\n",
              "      --fill-color: #1967D2;\n",
              "      --hover-bg-color: #E2EBFA;\n",
              "      --hover-fill-color: #174EA6;\n",
              "      --disabled-fill-color: #AAA;\n",
              "      --disabled-bg-color: #DDD;\n",
              "  }\n",
              "\n",
              "  [theme=dark] .colab-df-quickchart {\n",
              "      --bg-color: #3B4455;\n",
              "      --fill-color: #D2E3FC;\n",
              "      --hover-bg-color: #434B5C;\n",
              "      --hover-fill-color: #FFFFFF;\n",
              "      --disabled-bg-color: #3B4455;\n",
              "      --disabled-fill-color: #666;\n",
              "  }\n",
              "\n",
              "  .colab-df-quickchart {\n",
              "    background-color: var(--bg-color);\n",
              "    border: none;\n",
              "    border-radius: 50%;\n",
              "    cursor: pointer;\n",
              "    display: none;\n",
              "    fill: var(--fill-color);\n",
              "    height: 32px;\n",
              "    padding: 0;\n",
              "    width: 32px;\n",
              "  }\n",
              "\n",
              "  .colab-df-quickchart:hover {\n",
              "    background-color: var(--hover-bg-color);\n",
              "    box-shadow: 0 1px 2px rgba(60, 64, 67, 0.3), 0 1px 3px 1px rgba(60, 64, 67, 0.15);\n",
              "    fill: var(--button-hover-fill-color);\n",
              "  }\n",
              "\n",
              "  .colab-df-quickchart-complete:disabled,\n",
              "  .colab-df-quickchart-complete:disabled:hover {\n",
              "    background-color: var(--disabled-bg-color);\n",
              "    fill: var(--disabled-fill-color);\n",
              "    box-shadow: none;\n",
              "  }\n",
              "\n",
              "  .colab-df-spinner {\n",
              "    border: 2px solid var(--fill-color);\n",
              "    border-color: transparent;\n",
              "    border-bottom-color: var(--fill-color);\n",
              "    animation:\n",
              "      spin 1s steps(1) infinite;\n",
              "  }\n",
              "\n",
              "  @keyframes spin {\n",
              "    0% {\n",
              "      border-color: transparent;\n",
              "      border-bottom-color: var(--fill-color);\n",
              "      border-left-color: var(--fill-color);\n",
              "    }\n",
              "    20% {\n",
              "      border-color: transparent;\n",
              "      border-left-color: var(--fill-color);\n",
              "      border-top-color: var(--fill-color);\n",
              "    }\n",
              "    30% {\n",
              "      border-color: transparent;\n",
              "      border-left-color: var(--fill-color);\n",
              "      border-top-color: var(--fill-color);\n",
              "      border-right-color: var(--fill-color);\n",
              "    }\n",
              "    40% {\n",
              "      border-color: transparent;\n",
              "      border-right-color: var(--fill-color);\n",
              "      border-top-color: var(--fill-color);\n",
              "    }\n",
              "    60% {\n",
              "      border-color: transparent;\n",
              "      border-right-color: var(--fill-color);\n",
              "    }\n",
              "    80% {\n",
              "      border-color: transparent;\n",
              "      border-right-color: var(--fill-color);\n",
              "      border-bottom-color: var(--fill-color);\n",
              "    }\n",
              "    90% {\n",
              "      border-color: transparent;\n",
              "      border-bottom-color: var(--fill-color);\n",
              "    }\n",
              "  }\n",
              "</style>\n",
              "\n",
              "  <script>\n",
              "    async function quickchart(key) {\n",
              "      const quickchartButtonEl =\n",
              "        document.querySelector('#' + key + ' button');\n",
              "      quickchartButtonEl.disabled = true;  // To prevent multiple clicks.\n",
              "      quickchartButtonEl.classList.add('colab-df-spinner');\n",
              "      try {\n",
              "        const charts = await google.colab.kernel.invokeFunction(\n",
              "            'suggestCharts', [key], {});\n",
              "      } catch (error) {\n",
              "        console.error('Error during call to suggestCharts:', error);\n",
              "      }\n",
              "      quickchartButtonEl.classList.remove('colab-df-spinner');\n",
              "      quickchartButtonEl.classList.add('colab-df-quickchart-complete');\n",
              "    }\n",
              "    (() => {\n",
              "      let quickchartButtonEl =\n",
              "        document.querySelector('#df-8f0ffe87-3fde-4575-9f00-dcc7724e7a79 button');\n",
              "      quickchartButtonEl.style.display =\n",
              "        google.colab.kernel.accessAllowed ? 'block' : 'none';\n",
              "    })();\n",
              "  </script>\n",
              "</div>\n",
              "    </div>\n",
              "  </div>\n"
            ]
          },
          "metadata": {},
          "execution_count": 3
        }
      ]
    },
    {
      "cell_type": "markdown",
      "source": [
        "Se separa la columna con las etiquetas ('label') de las columnas con los datos de los pixeles. Se crea y_train, que es precísamente esa columna."
      ],
      "metadata": {
        "id": "TVHC8scKkNNl"
      }
    },
    {
      "cell_type": "code",
      "source": [
        "y_train = df_train['label']\n",
        "y_train.head()"
      ],
      "metadata": {
        "colab": {
          "base_uri": "https://localhost:8080/"
        },
        "id": "pmmFPrmskRkc",
        "outputId": "6d2fd1d5-8990-453e-8a33-a92f8016c39c"
      },
      "execution_count": 4,
      "outputs": [
        {
          "output_type": "execute_result",
          "data": {
            "text/plain": [
              "0    1\n",
              "1    0\n",
              "2    1\n",
              "3    4\n",
              "4    0\n",
              "Name: label, dtype: int64"
            ]
          },
          "metadata": {},
          "execution_count": 4
        }
      ]
    },
    {
      "cell_type": "code",
      "source": [
        "y_train.shape"
      ],
      "metadata": {
        "colab": {
          "base_uri": "https://localhost:8080/"
        },
        "id": "AzdHLZYRkWw8",
        "outputId": "f94d770a-18a4-4f6f-db41-de44f4547b67"
      },
      "execution_count": 5,
      "outputs": [
        {
          "output_type": "execute_result",
          "data": {
            "text/plain": [
              "(42000,)"
            ]
          },
          "metadata": {},
          "execution_count": 5
        }
      ]
    },
    {
      "cell_type": "code",
      "source": [
        "x_train = df_train.iloc[:, 1:]\n",
        "x_train.head()"
      ],
      "metadata": {
        "colab": {
          "base_uri": "https://localhost:8080/",
          "height": 255
        },
        "id": "1H4Hs40dkbIW",
        "outputId": "847525eb-04bb-47fb-a027-61cf474b862d"
      },
      "execution_count": 6,
      "outputs": [
        {
          "output_type": "execute_result",
          "data": {
            "text/plain": [
              "   pixel0  pixel1  pixel2  pixel3  pixel4  pixel5  pixel6  pixel7  pixel8  \\\n",
              "0       0       0       0       0       0       0       0       0       0   \n",
              "1       0       0       0       0       0       0       0       0       0   \n",
              "2       0       0       0       0       0       0       0       0       0   \n",
              "3       0       0       0       0       0       0       0       0       0   \n",
              "4       0       0       0       0       0       0       0       0       0   \n",
              "\n",
              "   pixel9  ...  pixel774  pixel775  pixel776  pixel777  pixel778  pixel779  \\\n",
              "0       0  ...         0         0         0         0         0         0   \n",
              "1       0  ...         0         0         0         0         0         0   \n",
              "2       0  ...         0         0         0         0         0         0   \n",
              "3       0  ...         0         0         0         0         0         0   \n",
              "4       0  ...         0         0         0         0         0         0   \n",
              "\n",
              "   pixel780  pixel781  pixel782  pixel783  \n",
              "0         0         0         0         0  \n",
              "1         0         0         0         0  \n",
              "2         0         0         0         0  \n",
              "3         0         0         0         0  \n",
              "4         0         0         0         0  \n",
              "\n",
              "[5 rows x 784 columns]"
            ],
            "text/html": [
              "\n",
              "  <div id=\"df-44c1f35e-c32a-4a6b-bb88-e39f1826a014\" class=\"colab-df-container\">\n",
              "    <div>\n",
              "<style scoped>\n",
              "    .dataframe tbody tr th:only-of-type {\n",
              "        vertical-align: middle;\n",
              "    }\n",
              "\n",
              "    .dataframe tbody tr th {\n",
              "        vertical-align: top;\n",
              "    }\n",
              "\n",
              "    .dataframe thead th {\n",
              "        text-align: right;\n",
              "    }\n",
              "</style>\n",
              "<table border=\"1\" class=\"dataframe\">\n",
              "  <thead>\n",
              "    <tr style=\"text-align: right;\">\n",
              "      <th></th>\n",
              "      <th>pixel0</th>\n",
              "      <th>pixel1</th>\n",
              "      <th>pixel2</th>\n",
              "      <th>pixel3</th>\n",
              "      <th>pixel4</th>\n",
              "      <th>pixel5</th>\n",
              "      <th>pixel6</th>\n",
              "      <th>pixel7</th>\n",
              "      <th>pixel8</th>\n",
              "      <th>pixel9</th>\n",
              "      <th>...</th>\n",
              "      <th>pixel774</th>\n",
              "      <th>pixel775</th>\n",
              "      <th>pixel776</th>\n",
              "      <th>pixel777</th>\n",
              "      <th>pixel778</th>\n",
              "      <th>pixel779</th>\n",
              "      <th>pixel780</th>\n",
              "      <th>pixel781</th>\n",
              "      <th>pixel782</th>\n",
              "      <th>pixel783</th>\n",
              "    </tr>\n",
              "  </thead>\n",
              "  <tbody>\n",
              "    <tr>\n",
              "      <th>0</th>\n",
              "      <td>0</td>\n",
              "      <td>0</td>\n",
              "      <td>0</td>\n",
              "      <td>0</td>\n",
              "      <td>0</td>\n",
              "      <td>0</td>\n",
              "      <td>0</td>\n",
              "      <td>0</td>\n",
              "      <td>0</td>\n",
              "      <td>0</td>\n",
              "      <td>...</td>\n",
              "      <td>0</td>\n",
              "      <td>0</td>\n",
              "      <td>0</td>\n",
              "      <td>0</td>\n",
              "      <td>0</td>\n",
              "      <td>0</td>\n",
              "      <td>0</td>\n",
              "      <td>0</td>\n",
              "      <td>0</td>\n",
              "      <td>0</td>\n",
              "    </tr>\n",
              "    <tr>\n",
              "      <th>1</th>\n",
              "      <td>0</td>\n",
              "      <td>0</td>\n",
              "      <td>0</td>\n",
              "      <td>0</td>\n",
              "      <td>0</td>\n",
              "      <td>0</td>\n",
              "      <td>0</td>\n",
              "      <td>0</td>\n",
              "      <td>0</td>\n",
              "      <td>0</td>\n",
              "      <td>...</td>\n",
              "      <td>0</td>\n",
              "      <td>0</td>\n",
              "      <td>0</td>\n",
              "      <td>0</td>\n",
              "      <td>0</td>\n",
              "      <td>0</td>\n",
              "      <td>0</td>\n",
              "      <td>0</td>\n",
              "      <td>0</td>\n",
              "      <td>0</td>\n",
              "    </tr>\n",
              "    <tr>\n",
              "      <th>2</th>\n",
              "      <td>0</td>\n",
              "      <td>0</td>\n",
              "      <td>0</td>\n",
              "      <td>0</td>\n",
              "      <td>0</td>\n",
              "      <td>0</td>\n",
              "      <td>0</td>\n",
              "      <td>0</td>\n",
              "      <td>0</td>\n",
              "      <td>0</td>\n",
              "      <td>...</td>\n",
              "      <td>0</td>\n",
              "      <td>0</td>\n",
              "      <td>0</td>\n",
              "      <td>0</td>\n",
              "      <td>0</td>\n",
              "      <td>0</td>\n",
              "      <td>0</td>\n",
              "      <td>0</td>\n",
              "      <td>0</td>\n",
              "      <td>0</td>\n",
              "    </tr>\n",
              "    <tr>\n",
              "      <th>3</th>\n",
              "      <td>0</td>\n",
              "      <td>0</td>\n",
              "      <td>0</td>\n",
              "      <td>0</td>\n",
              "      <td>0</td>\n",
              "      <td>0</td>\n",
              "      <td>0</td>\n",
              "      <td>0</td>\n",
              "      <td>0</td>\n",
              "      <td>0</td>\n",
              "      <td>...</td>\n",
              "      <td>0</td>\n",
              "      <td>0</td>\n",
              "      <td>0</td>\n",
              "      <td>0</td>\n",
              "      <td>0</td>\n",
              "      <td>0</td>\n",
              "      <td>0</td>\n",
              "      <td>0</td>\n",
              "      <td>0</td>\n",
              "      <td>0</td>\n",
              "    </tr>\n",
              "    <tr>\n",
              "      <th>4</th>\n",
              "      <td>0</td>\n",
              "      <td>0</td>\n",
              "      <td>0</td>\n",
              "      <td>0</td>\n",
              "      <td>0</td>\n",
              "      <td>0</td>\n",
              "      <td>0</td>\n",
              "      <td>0</td>\n",
              "      <td>0</td>\n",
              "      <td>0</td>\n",
              "      <td>...</td>\n",
              "      <td>0</td>\n",
              "      <td>0</td>\n",
              "      <td>0</td>\n",
              "      <td>0</td>\n",
              "      <td>0</td>\n",
              "      <td>0</td>\n",
              "      <td>0</td>\n",
              "      <td>0</td>\n",
              "      <td>0</td>\n",
              "      <td>0</td>\n",
              "    </tr>\n",
              "  </tbody>\n",
              "</table>\n",
              "<p>5 rows × 784 columns</p>\n",
              "</div>\n",
              "    <div class=\"colab-df-buttons\">\n",
              "\n",
              "  <div class=\"colab-df-container\">\n",
              "    <button class=\"colab-df-convert\" onclick=\"convertToInteractive('df-44c1f35e-c32a-4a6b-bb88-e39f1826a014')\"\n",
              "            title=\"Convert this dataframe to an interactive table.\"\n",
              "            style=\"display:none;\">\n",
              "\n",
              "  <svg xmlns=\"http://www.w3.org/2000/svg\" height=\"24px\" viewBox=\"0 -960 960 960\">\n",
              "    <path d=\"M120-120v-720h720v720H120Zm60-500h600v-160H180v160Zm220 220h160v-160H400v160Zm0 220h160v-160H400v160ZM180-400h160v-160H180v160Zm440 0h160v-160H620v160ZM180-180h160v-160H180v160Zm440 0h160v-160H620v160Z\"/>\n",
              "  </svg>\n",
              "    </button>\n",
              "\n",
              "  <style>\n",
              "    .colab-df-container {\n",
              "      display:flex;\n",
              "      gap: 12px;\n",
              "    }\n",
              "\n",
              "    .colab-df-convert {\n",
              "      background-color: #E8F0FE;\n",
              "      border: none;\n",
              "      border-radius: 50%;\n",
              "      cursor: pointer;\n",
              "      display: none;\n",
              "      fill: #1967D2;\n",
              "      height: 32px;\n",
              "      padding: 0 0 0 0;\n",
              "      width: 32px;\n",
              "    }\n",
              "\n",
              "    .colab-df-convert:hover {\n",
              "      background-color: #E2EBFA;\n",
              "      box-shadow: 0px 1px 2px rgba(60, 64, 67, 0.3), 0px 1px 3px 1px rgba(60, 64, 67, 0.15);\n",
              "      fill: #174EA6;\n",
              "    }\n",
              "\n",
              "    .colab-df-buttons div {\n",
              "      margin-bottom: 4px;\n",
              "    }\n",
              "\n",
              "    [theme=dark] .colab-df-convert {\n",
              "      background-color: #3B4455;\n",
              "      fill: #D2E3FC;\n",
              "    }\n",
              "\n",
              "    [theme=dark] .colab-df-convert:hover {\n",
              "      background-color: #434B5C;\n",
              "      box-shadow: 0px 1px 3px 1px rgba(0, 0, 0, 0.15);\n",
              "      filter: drop-shadow(0px 1px 2px rgba(0, 0, 0, 0.3));\n",
              "      fill: #FFFFFF;\n",
              "    }\n",
              "  </style>\n",
              "\n",
              "    <script>\n",
              "      const buttonEl =\n",
              "        document.querySelector('#df-44c1f35e-c32a-4a6b-bb88-e39f1826a014 button.colab-df-convert');\n",
              "      buttonEl.style.display =\n",
              "        google.colab.kernel.accessAllowed ? 'block' : 'none';\n",
              "\n",
              "      async function convertToInteractive(key) {\n",
              "        const element = document.querySelector('#df-44c1f35e-c32a-4a6b-bb88-e39f1826a014');\n",
              "        const dataTable =\n",
              "          await google.colab.kernel.invokeFunction('convertToInteractive',\n",
              "                                                    [key], {});\n",
              "        if (!dataTable) return;\n",
              "\n",
              "        const docLinkHtml = 'Like what you see? Visit the ' +\n",
              "          '<a target=\"_blank\" href=https://colab.research.google.com/notebooks/data_table.ipynb>data table notebook</a>'\n",
              "          + ' to learn more about interactive tables.';\n",
              "        element.innerHTML = '';\n",
              "        dataTable['output_type'] = 'display_data';\n",
              "        await google.colab.output.renderOutput(dataTable, element);\n",
              "        const docLink = document.createElement('div');\n",
              "        docLink.innerHTML = docLinkHtml;\n",
              "        element.appendChild(docLink);\n",
              "      }\n",
              "    </script>\n",
              "  </div>\n",
              "\n",
              "\n",
              "<div id=\"df-3c523b93-2aa0-43f3-89eb-4b22c7afe622\">\n",
              "  <button class=\"colab-df-quickchart\" onclick=\"quickchart('df-3c523b93-2aa0-43f3-89eb-4b22c7afe622')\"\n",
              "            title=\"Suggest charts.\"\n",
              "            style=\"display:none;\">\n",
              "\n",
              "<svg xmlns=\"http://www.w3.org/2000/svg\" height=\"24px\"viewBox=\"0 0 24 24\"\n",
              "     width=\"24px\">\n",
              "    <g>\n",
              "        <path d=\"M19 3H5c-1.1 0-2 .9-2 2v14c0 1.1.9 2 2 2h14c1.1 0 2-.9 2-2V5c0-1.1-.9-2-2-2zM9 17H7v-7h2v7zm4 0h-2V7h2v10zm4 0h-2v-4h2v4z\"/>\n",
              "    </g>\n",
              "</svg>\n",
              "  </button>\n",
              "\n",
              "<style>\n",
              "  .colab-df-quickchart {\n",
              "      --bg-color: #E8F0FE;\n",
              "      --fill-color: #1967D2;\n",
              "      --hover-bg-color: #E2EBFA;\n",
              "      --hover-fill-color: #174EA6;\n",
              "      --disabled-fill-color: #AAA;\n",
              "      --disabled-bg-color: #DDD;\n",
              "  }\n",
              "\n",
              "  [theme=dark] .colab-df-quickchart {\n",
              "      --bg-color: #3B4455;\n",
              "      --fill-color: #D2E3FC;\n",
              "      --hover-bg-color: #434B5C;\n",
              "      --hover-fill-color: #FFFFFF;\n",
              "      --disabled-bg-color: #3B4455;\n",
              "      --disabled-fill-color: #666;\n",
              "  }\n",
              "\n",
              "  .colab-df-quickchart {\n",
              "    background-color: var(--bg-color);\n",
              "    border: none;\n",
              "    border-radius: 50%;\n",
              "    cursor: pointer;\n",
              "    display: none;\n",
              "    fill: var(--fill-color);\n",
              "    height: 32px;\n",
              "    padding: 0;\n",
              "    width: 32px;\n",
              "  }\n",
              "\n",
              "  .colab-df-quickchart:hover {\n",
              "    background-color: var(--hover-bg-color);\n",
              "    box-shadow: 0 1px 2px rgba(60, 64, 67, 0.3), 0 1px 3px 1px rgba(60, 64, 67, 0.15);\n",
              "    fill: var(--button-hover-fill-color);\n",
              "  }\n",
              "\n",
              "  .colab-df-quickchart-complete:disabled,\n",
              "  .colab-df-quickchart-complete:disabled:hover {\n",
              "    background-color: var(--disabled-bg-color);\n",
              "    fill: var(--disabled-fill-color);\n",
              "    box-shadow: none;\n",
              "  }\n",
              "\n",
              "  .colab-df-spinner {\n",
              "    border: 2px solid var(--fill-color);\n",
              "    border-color: transparent;\n",
              "    border-bottom-color: var(--fill-color);\n",
              "    animation:\n",
              "      spin 1s steps(1) infinite;\n",
              "  }\n",
              "\n",
              "  @keyframes spin {\n",
              "    0% {\n",
              "      border-color: transparent;\n",
              "      border-bottom-color: var(--fill-color);\n",
              "      border-left-color: var(--fill-color);\n",
              "    }\n",
              "    20% {\n",
              "      border-color: transparent;\n",
              "      border-left-color: var(--fill-color);\n",
              "      border-top-color: var(--fill-color);\n",
              "    }\n",
              "    30% {\n",
              "      border-color: transparent;\n",
              "      border-left-color: var(--fill-color);\n",
              "      border-top-color: var(--fill-color);\n",
              "      border-right-color: var(--fill-color);\n",
              "    }\n",
              "    40% {\n",
              "      border-color: transparent;\n",
              "      border-right-color: var(--fill-color);\n",
              "      border-top-color: var(--fill-color);\n",
              "    }\n",
              "    60% {\n",
              "      border-color: transparent;\n",
              "      border-right-color: var(--fill-color);\n",
              "    }\n",
              "    80% {\n",
              "      border-color: transparent;\n",
              "      border-right-color: var(--fill-color);\n",
              "      border-bottom-color: var(--fill-color);\n",
              "    }\n",
              "    90% {\n",
              "      border-color: transparent;\n",
              "      border-bottom-color: var(--fill-color);\n",
              "    }\n",
              "  }\n",
              "</style>\n",
              "\n",
              "  <script>\n",
              "    async function quickchart(key) {\n",
              "      const quickchartButtonEl =\n",
              "        document.querySelector('#' + key + ' button');\n",
              "      quickchartButtonEl.disabled = true;  // To prevent multiple clicks.\n",
              "      quickchartButtonEl.classList.add('colab-df-spinner');\n",
              "      try {\n",
              "        const charts = await google.colab.kernel.invokeFunction(\n",
              "            'suggestCharts', [key], {});\n",
              "      } catch (error) {\n",
              "        console.error('Error during call to suggestCharts:', error);\n",
              "      }\n",
              "      quickchartButtonEl.classList.remove('colab-df-spinner');\n",
              "      quickchartButtonEl.classList.add('colab-df-quickchart-complete');\n",
              "    }\n",
              "    (() => {\n",
              "      let quickchartButtonEl =\n",
              "        document.querySelector('#df-3c523b93-2aa0-43f3-89eb-4b22c7afe622 button');\n",
              "      quickchartButtonEl.style.display =\n",
              "        google.colab.kernel.accessAllowed ? 'block' : 'none';\n",
              "    })();\n",
              "  </script>\n",
              "</div>\n",
              "    </div>\n",
              "  </div>\n"
            ]
          },
          "metadata": {},
          "execution_count": 6
        }
      ]
    },
    {
      "cell_type": "code",
      "source": [
        "x_train.shape"
      ],
      "metadata": {
        "colab": {
          "base_uri": "https://localhost:8080/"
        },
        "id": "EKR9354tkiOp",
        "outputId": "deefe6f1-984c-4a17-d063-869339b20c9a"
      },
      "execution_count": 7,
      "outputs": [
        {
          "output_type": "execute_result",
          "data": {
            "text/plain": [
              "(42000, 784)"
            ]
          },
          "metadata": {},
          "execution_count": 7
        }
      ]
    },
    {
      "cell_type": "markdown",
      "metadata": {
        "id": "vmQUOzyX3Nst"
      },
      "source": [
        "Se va a mostrar una pequeña muestra de las imágenes:"
      ]
    },
    {
      "cell_type": "code",
      "metadata": {
        "id": "a6ZSMZzL3Nsu"
      },
      "source": [
        "# Código para mostrar imágenes\n",
        "def show_images(images, gray=True):\n",
        "    fig=plt.figure(figsize=(8, 8))\n",
        "    index = np.random.randint(len(images), size=100)\n",
        "    for i in range(100):\n",
        "        fig.add_subplot(10, 10, i+1)\n",
        "        plt.axis('off')\n",
        "        if gray:\n",
        "            color = 'gray'\n",
        "        else:\n",
        "            color = None\n",
        "        plt.imshow(images.iloc[index[i]].values.reshape([28, 28]), cmap=color)\n",
        "    plt.show()"
      ],
      "execution_count": 8,
      "outputs": []
    },
    {
      "cell_type": "code",
      "source": [
        "show_images(x_train)"
      ],
      "metadata": {
        "colab": {
          "base_uri": "https://localhost:8080/",
          "height": 652
        },
        "id": "QaE_WuwVku_t",
        "outputId": "b1121d40-350a-46c5-d14f-3979ab386590"
      },
      "execution_count": 9,
      "outputs": [
        {
          "output_type": "display_data",
          "data": {
            "text/plain": [
              "<Figure size 800x800 with 100 Axes>"
            ],
            "image/png": "[encoded data removed]"
          },
          "metadata": {}
        }
      ]
    },
    {
      "cell_type": "markdown",
      "source": [
        "Se convierten los dataframes en arrays numpy, que son más adecuados para operaciones numéricas y científicas."
      ],
      "metadata": {
        "id": "CtkpLdUek6EP"
      }
    },
    {
      "cell_type": "code",
      "source": [
        "x_train = np.array(x_train)\n",
        "y_train = np.array(y_train)\n",
        "x_test = np.array(df_test)"
      ],
      "metadata": {
        "id": "bfKxdUfUk-X0"
      },
      "execution_count": 10,
      "outputs": []
    },
    {
      "cell_type": "code",
      "source": [
        "print(f\"El tipo de datos de x_train es '{type(x_train).__name__}'\")\n",
        "print(f\"El tipo de datos de y_train es '{type(y_train).__name__}'\")\n",
        "print(f\"El tipo de datos de x_test es '{type(x_test).__name__}'\")"
      ],
      "metadata": {
        "colab": {
          "base_uri": "https://localhost:8080/"
        },
        "id": "hl9F0YXylDq0",
        "outputId": "4e68fe2b-4a9e-4f26-d4ef-cdcf2313dddb"
      },
      "execution_count": 11,
      "outputs": [
        {
          "output_type": "stream",
          "name": "stdout",
          "text": [
            "El tipo de datos de x_train es 'ndarray'\n",
            "El tipo de datos de y_train es 'ndarray'\n",
            "El tipo de datos de x_test es 'ndarray'\n"
          ]
        }
      ]
    },
    {
      "cell_type": "markdown",
      "source": [
        "> **Nota**: al ser los valores entre el 0 y el 255, para que el resultado del entrenamiento sea más óptimo es preferible **normalizar** estos valores entre 0 y 1. Se puede realizar de la siguiente forma:"
      ],
      "metadata": {
        "id": "ydheaKkwlK7M"
      }
    },
    {
      "cell_type": "code",
      "source": [
        "# ejemplo de valores de imagen sin normalizar\n",
        "x_train[0]"
      ],
      "metadata": {
        "colab": {
          "base_uri": "https://localhost:8080/"
        },
        "id": "bfzsTCZqYiXW",
        "outputId": "77d52c4c-7817-4c34-e30b-69429eb84926"
      },
      "execution_count": 12,
      "outputs": [
        {
          "output_type": "execute_result",
          "data": {
            "text/plain": [
              "array([  0,   0,   0,   0,   0,   0,   0,   0,   0,   0,   0,   0,   0,\n",
              "         0,   0,   0,   0,   0,   0,   0,   0,   0,   0,   0,   0,   0,\n",
              "         0,   0,   0,   0,   0,   0,   0,   0,   0,   0,   0,   0,   0,\n",
              "         0,   0,   0,   0,   0,   0,   0,   0,   0,   0,   0,   0,   0,\n",
              "         0,   0,   0,   0,   0,   0,   0,   0,   0,   0,   0,   0,   0,\n",
              "         0,   0,   0,   0,   0,   0,   0,   0,   0,   0,   0,   0,   0,\n",
              "         0,   0,   0,   0,   0,   0,   0,   0,   0,   0,   0,   0,   0,\n",
              "         0,   0,   0,   0,   0,   0,   0,   0,   0,   0,   0,   0,   0,\n",
              "         0,   0,   0,   0,   0,   0,   0,   0,   0,   0,   0,   0,   0,\n",
              "         0,   0,   0,   0,   0,   0,   0,   0,   0,   0,   0,   0,   0,\n",
              "         0,   0, 188, 255,  94,   0,   0,   0,   0,   0,   0,   0,   0,\n",
              "         0,   0,   0,   0,   0,   0,   0,   0,   0,   0,   0,   0,   0,\n",
              "         0,   0,   0, 191, 250, 253,  93,   0,   0,   0,   0,   0,   0,\n",
              "         0,   0,   0,   0,   0,   0,   0,   0,   0,   0,   0,   0,   0,\n",
              "         0,   0,   0,   0, 123, 248, 253, 167,  10,   0,   0,   0,   0,\n",
              "         0,   0,   0,   0,   0,   0,   0,   0,   0,   0,   0,   0,   0,\n",
              "         0,   0,   0,   0,   0,  80, 247, 253, 208,  13,   0,   0,   0,\n",
              "         0,   0,   0,   0,   0,   0,   0,   0,   0,   0,   0,   0,   0,\n",
              "         0,   0,   0,   0,   0,   0,  29, 207, 253, 235,  77,   0,   0,\n",
              "         0,   0,   0,   0,   0,   0,   0,   0,   0,   0,   0,   0,   0,\n",
              "         0,   0,   0,   0,   0,   0,   0,  54, 209, 253, 253,  88,   0,\n",
              "         0,   0,   0,   0,   0,   0,   0,   0,   0,   0,   0,   0,   0,\n",
              "         0,   0,   0,   0,   0,   0,   0,   0,  93, 254, 253, 238, 170,\n",
              "        17,   0,   0,   0,   0,   0,   0,   0,   0,   0,   0,   0,   0,\n",
              "         0,   0,   0,   0,   0,   0,   0,   0,   0,  23, 210, 254, 253,\n",
              "       159,   0,   0,   0,   0,   0,   0,   0,   0,   0,   0,   0,   0,\n",
              "         0,   0,   0,   0,   0,   0,   0,   0,   0,   0,  16, 209, 253,\n",
              "       254, 240,  81,   0,   0,   0,   0,   0,   0,   0,   0,   0,   0,\n",
              "         0,   0,   0,   0,   0,   0,   0,   0,   0,   0,   0,   0,  27,\n",
              "       253, 253, 254,  13,   0,   0,   0,   0,   0,   0,   0,   0,   0,\n",
              "         0,   0,   0,   0,   0,   0,   0,   0,   0,   0,   0,   0,   0,\n",
              "        20, 206, 254, 254, 198,   7,   0,   0,   0,   0,   0,   0,   0,\n",
              "         0,   0,   0,   0,   0,   0,   0,   0,   0,   0,   0,   0,   0,\n",
              "         0,   0, 168, 253, 253, 196,   7,   0,   0,   0,   0,   0,   0,\n",
              "         0,   0,   0,   0,   0,   0,   0,   0,   0,   0,   0,   0,   0,\n",
              "         0,   0,   0,  20, 203, 253, 248,  76,   0,   0,   0,   0,   0,\n",
              "         0,   0,   0,   0,   0,   0,   0,   0,   0,   0,   0,   0,   0,\n",
              "         0,   0,   0,   0,  22, 188, 253, 245,  93,   0,   0,   0,   0,\n",
              "         0,   0,   0,   0,   0,   0,   0,   0,   0,   0,   0,   0,   0,\n",
              "         0,   0,   0,   0,   0,   0, 103, 253, 253, 191,   0,   0,   0,\n",
              "         0,   0,   0,   0,   0,   0,   0,   0,   0,   0,   0,   0,   0,\n",
              "         0,   0,   0,   0,   0,   0,   0,  89, 240, 253, 195,  25,   0,\n",
              "         0,   0,   0,   0,   0,   0,   0,   0,   0,   0,   0,   0,   0,\n",
              "         0,   0,   0,   0,   0,   0,   0,   0,  15, 220, 253, 253,  80,\n",
              "         0,   0,   0,   0,   0,   0,   0,   0,   0,   0,   0,   0,   0,\n",
              "         0,   0,   0,   0,   0,   0,   0,   0,   0,   0,  94, 253, 253,\n",
              "       253,  94,   0,   0,   0,   0,   0,   0,   0,   0,   0,   0,   0,\n",
              "         0,   0,   0,   0,   0,   0,   0,   0,   0,   0,   0,   0,  89,\n",
              "       251, 253, 250, 131,   0,   0,   0,   0,   0,   0,   0,   0,   0,\n",
              "         0,   0,   0,   0,   0,   0,   0,   0,   0,   0,   0,   0,   0,\n",
              "         0,   0, 214, 218,  95,   0,   0,   0,   0,   0,   0,   0,   0,\n",
              "         0,   0,   0,   0,   0,   0,   0,   0,   0,   0,   0,   0,   0,\n",
              "         0,   0,   0,   0,   0,   0,   0,   0,   0,   0,   0,   0,   0,\n",
              "         0,   0,   0,   0,   0,   0,   0,   0,   0,   0,   0,   0,   0,\n",
              "         0,   0,   0,   0,   0,   0,   0,   0,   0,   0,   0,   0,   0,\n",
              "         0,   0,   0,   0,   0,   0,   0,   0,   0,   0,   0,   0,   0,\n",
              "         0,   0,   0,   0,   0,   0,   0,   0,   0,   0,   0,   0,   0,\n",
              "         0,   0,   0,   0,   0,   0,   0,   0,   0,   0,   0,   0,   0,\n",
              "         0,   0,   0,   0,   0,   0,   0,   0,   0,   0,   0,   0,   0,\n",
              "         0,   0,   0,   0,   0,   0,   0,   0,   0,   0,   0,   0,   0,\n",
              "         0,   0,   0,   0])"
            ]
          },
          "metadata": {},
          "execution_count": 12
        }
      ]
    },
    {
      "cell_type": "code",
      "source": [
        "# Se normalizan los conjuntos de train y test\n",
        "x_train = x_train / 255.0\n",
        "x_test = x_test / 255.0"
      ],
      "metadata": {
        "id": "GhQO1rEBlOmA"
      },
      "execution_count": 13,
      "outputs": []
    },
    {
      "cell_type": "code",
      "source": [
        "# ejemplo de valores de imagen después de normalizar\n",
        "x_train[0]"
      ],
      "metadata": {
        "colab": {
          "base_uri": "https://localhost:8080/"
        },
        "id": "y0yMOjz7YqIQ",
        "outputId": "42ffe8a6-002a-42a2-ba4a-6e9dca8c2363"
      },
      "execution_count": 14,
      "outputs": [
        {
          "output_type": "execute_result",
          "data": {
            "text/plain": [
              "array([0.        , 0.        , 0.        , 0.        , 0.        ,\n",
              "       0.        , 0.        , 0.        , 0.        , 0.        ,\n",
              "       0.        , 0.        , 0.        , 0.        , 0.        ,\n",
              "       0.        , 0.        , 0.        , 0.        , 0.        ,\n",
              "       0.        , 0.        , 0.        , 0.        , 0.        ,\n",
              "       0.        , 0.        , 0.        , 0.        , 0.        ,\n",
              "       0.        , 0.        , 0.        , 0.        , 0.        ,\n",
              "       0.        , 0.        , 0.        , 0.        , 0.        ,\n",
              "       0.        , 0.        , 0.        , 0.        , 0.        ,\n",
              "       0.        , 0.        , 0.        , 0.        , 0.        ,\n",
              "       0.        , 0.        , 0.        , 0.        , 0.        ,\n",
              "       0.        , 0.        , 0.        , 0.        , 0.        ,\n",
              "       0.        , 0.        , 0.        , 0.        , 0.        ,\n",
              "       0.        , 0.        , 0.        , 0.        , 0.        ,\n",
              "       0.        , 0.        , 0.        , 0.        , 0.        ,\n",
              "       0.        , 0.        , 0.        , 0.        , 0.        ,\n",
              "       0.        , 0.        , 0.        , 0.        , 0.        ,\n",
              "       0.        , 0.        , 0.        , 0.        , 0.        ,\n",
              "       0.        , 0.        , 0.        , 0.        , 0.        ,\n",
              "       0.        , 0.        , 0.        , 0.        , 0.        ,\n",
              "       0.        , 0.        , 0.        , 0.        , 0.        ,\n",
              "       0.        , 0.        , 0.        , 0.        , 0.        ,\n",
              "       0.        , 0.        , 0.        , 0.        , 0.        ,\n",
              "       0.        , 0.        , 0.        , 0.        , 0.        ,\n",
              "       0.        , 0.        , 0.        , 0.        , 0.        ,\n",
              "       0.        , 0.        , 0.        , 0.        , 0.        ,\n",
              "       0.        , 0.        , 0.7372549 , 1.        , 0.36862745,\n",
              "       0.        , 0.        , 0.        , 0.        , 0.        ,\n",
              "       0.        , 0.        , 0.        , 0.        , 0.        ,\n",
              "       0.        , 0.        , 0.        , 0.        , 0.        ,\n",
              "       0.        , 0.        , 0.        , 0.        , 0.        ,\n",
              "       0.        , 0.        , 0.        , 0.        , 0.74901961,\n",
              "       0.98039216, 0.99215686, 0.36470588, 0.        , 0.        ,\n",
              "       0.        , 0.        , 0.        , 0.        , 0.        ,\n",
              "       0.        , 0.        , 0.        , 0.        , 0.        ,\n",
              "       0.        , 0.        , 0.        , 0.        , 0.        ,\n",
              "       0.        , 0.        , 0.        , 0.        , 0.        ,\n",
              "       0.        , 0.48235294, 0.97254902, 0.99215686, 0.65490196,\n",
              "       0.03921569, 0.        , 0.        , 0.        , 0.        ,\n",
              "       0.        , 0.        , 0.        , 0.        , 0.        ,\n",
              "       0.        , 0.        , 0.        , 0.        , 0.        ,\n",
              "       0.        , 0.        , 0.        , 0.        , 0.        ,\n",
              "       0.        , 0.        , 0.        , 0.31372549, 0.96862745,\n",
              "       0.99215686, 0.81568627, 0.05098039, 0.        , 0.        ,\n",
              "       0.        , 0.        , 0.        , 0.        , 0.        ,\n",
              "       0.        , 0.        , 0.        , 0.        , 0.        ,\n",
              "       0.        , 0.        , 0.        , 0.        , 0.        ,\n",
              "       0.        , 0.        , 0.        , 0.        , 0.        ,\n",
              "       0.11372549, 0.81176471, 0.99215686, 0.92156863, 0.30196078,\n",
              "       0.        , 0.        , 0.        , 0.        , 0.        ,\n",
              "       0.        , 0.        , 0.        , 0.        , 0.        ,\n",
              "       0.        , 0.        , 0.        , 0.        , 0.        ,\n",
              "       0.        , 0.        , 0.        , 0.        , 0.        ,\n",
              "       0.        , 0.        , 0.21176471, 0.81960784, 0.99215686,\n",
              "       0.99215686, 0.34509804, 0.        , 0.        , 0.        ,\n",
              "       0.        , 0.        , 0.        , 0.        , 0.        ,\n",
              "       0.        , 0.        , 0.        , 0.        , 0.        ,\n",
              "       0.        , 0.        , 0.        , 0.        , 0.        ,\n",
              "       0.        , 0.        , 0.        , 0.        , 0.36470588,\n",
              "       0.99607843, 0.99215686, 0.93333333, 0.66666667, 0.06666667,\n",
              "       0.        , 0.        , 0.        , 0.        , 0.        ,\n",
              "       0.        , 0.        , 0.        , 0.        , 0.        ,\n",
              "       0.        , 0.        , 0.        , 0.        , 0.        ,\n",
              "       0.        , 0.        , 0.        , 0.        , 0.        ,\n",
              "       0.        , 0.09019608, 0.82352941, 0.99607843, 0.99215686,\n",
              "       0.62352941, 0.        , 0.        , 0.        , 0.        ,\n",
              "       0.        , 0.        , 0.        , 0.        , 0.        ,\n",
              "       0.        , 0.        , 0.        , 0.        , 0.        ,\n",
              "       0.        , 0.        , 0.        , 0.        , 0.        ,\n",
              "       0.        , 0.        , 0.        , 0.0627451 , 0.81960784,\n",
              "       0.99215686, 0.99607843, 0.94117647, 0.31764706, 0.        ,\n",
              "       0.        , 0.        , 0.        , 0.        , 0.        ,\n",
              "       0.        , 0.        , 0.        , 0.        , 0.        ,\n",
              "       0.        , 0.        , 0.        , 0.        , 0.        ,\n",
              "       0.        , 0.        , 0.        , 0.        , 0.        ,\n",
              "       0.        , 0.10588235, 0.99215686, 0.99215686, 0.99607843,\n",
              "       0.05098039, 0.        , 0.        , 0.        , 0.        ,\n",
              "       0.        , 0.        , 0.        , 0.        , 0.        ,\n",
              "       0.        , 0.        , 0.        , 0.        , 0.        ,\n",
              "       0.        , 0.        , 0.        , 0.        , 0.        ,\n",
              "       0.        , 0.        , 0.        , 0.07843137, 0.80784314,\n",
              "       0.99607843, 0.99607843, 0.77647059, 0.02745098, 0.        ,\n",
              "       0.        , 0.        , 0.        , 0.        , 0.        ,\n",
              "       0.        , 0.        , 0.        , 0.        , 0.        ,\n",
              "       0.        , 0.        , 0.        , 0.        , 0.        ,\n",
              "       0.        , 0.        , 0.        , 0.        , 0.        ,\n",
              "       0.        , 0.65882353, 0.99215686, 0.99215686, 0.76862745,\n",
              "       0.02745098, 0.        , 0.        , 0.        , 0.        ,\n",
              "       0.        , 0.        , 0.        , 0.        , 0.        ,\n",
              "       0.        , 0.        , 0.        , 0.        , 0.        ,\n",
              "       0.        , 0.        , 0.        , 0.        , 0.        ,\n",
              "       0.        , 0.        , 0.        , 0.07843137, 0.79607843,\n",
              "       0.99215686, 0.97254902, 0.29803922, 0.        , 0.        ,\n",
              "       0.        , 0.        , 0.        , 0.        , 0.        ,\n",
              "       0.        , 0.        , 0.        , 0.        , 0.        ,\n",
              "       0.        , 0.        , 0.        , 0.        , 0.        ,\n",
              "       0.        , 0.        , 0.        , 0.        , 0.        ,\n",
              "       0.08627451, 0.7372549 , 0.99215686, 0.96078431, 0.36470588,\n",
              "       0.        , 0.        , 0.        , 0.        , 0.        ,\n",
              "       0.        , 0.        , 0.        , 0.        , 0.        ,\n",
              "       0.        , 0.        , 0.        , 0.        , 0.        ,\n",
              "       0.        , 0.        , 0.        , 0.        , 0.        ,\n",
              "       0.        , 0.        , 0.        , 0.40392157, 0.99215686,\n",
              "       0.99215686, 0.74901961, 0.        , 0.        , 0.        ,\n",
              "       0.        , 0.        , 0.        , 0.        , 0.        ,\n",
              "       0.        , 0.        , 0.        , 0.        , 0.        ,\n",
              "       0.        , 0.        , 0.        , 0.        , 0.        ,\n",
              "       0.        , 0.        , 0.        , 0.        , 0.        ,\n",
              "       0.34901961, 0.94117647, 0.99215686, 0.76470588, 0.09803922,\n",
              "       0.        , 0.        , 0.        , 0.        , 0.        ,\n",
              "       0.        , 0.        , 0.        , 0.        , 0.        ,\n",
              "       0.        , 0.        , 0.        , 0.        , 0.        ,\n",
              "       0.        , 0.        , 0.        , 0.        , 0.        ,\n",
              "       0.        , 0.        , 0.05882353, 0.8627451 , 0.99215686,\n",
              "       0.99215686, 0.31372549, 0.        , 0.        , 0.        ,\n",
              "       0.        , 0.        , 0.        , 0.        , 0.        ,\n",
              "       0.        , 0.        , 0.        , 0.        , 0.        ,\n",
              "       0.        , 0.        , 0.        , 0.        , 0.        ,\n",
              "       0.        , 0.        , 0.        , 0.        , 0.        ,\n",
              "       0.36862745, 0.99215686, 0.99215686, 0.99215686, 0.36862745,\n",
              "       0.        , 0.        , 0.        , 0.        , 0.        ,\n",
              "       0.        , 0.        , 0.        , 0.        , 0.        ,\n",
              "       0.        , 0.        , 0.        , 0.        , 0.        ,\n",
              "       0.        , 0.        , 0.        , 0.        , 0.        ,\n",
              "       0.        , 0.        , 0.        , 0.34901961, 0.98431373,\n",
              "       0.99215686, 0.98039216, 0.51372549, 0.        , 0.        ,\n",
              "       0.        , 0.        , 0.        , 0.        , 0.        ,\n",
              "       0.        , 0.        , 0.        , 0.        , 0.        ,\n",
              "       0.        , 0.        , 0.        , 0.        , 0.        ,\n",
              "       0.        , 0.        , 0.        , 0.        , 0.        ,\n",
              "       0.        , 0.        , 0.83921569, 0.85490196, 0.37254902,\n",
              "       0.        , 0.        , 0.        , 0.        , 0.        ,\n",
              "       0.        , 0.        , 0.        , 0.        , 0.        ,\n",
              "       0.        , 0.        , 0.        , 0.        , 0.        ,\n",
              "       0.        , 0.        , 0.        , 0.        , 0.        ,\n",
              "       0.        , 0.        , 0.        , 0.        , 0.        ,\n",
              "       0.        , 0.        , 0.        , 0.        , 0.        ,\n",
              "       0.        , 0.        , 0.        , 0.        , 0.        ,\n",
              "       0.        , 0.        , 0.        , 0.        , 0.        ,\n",
              "       0.        , 0.        , 0.        , 0.        , 0.        ,\n",
              "       0.        , 0.        , 0.        , 0.        , 0.        ,\n",
              "       0.        , 0.        , 0.        , 0.        , 0.        ,\n",
              "       0.        , 0.        , 0.        , 0.        , 0.        ,\n",
              "       0.        , 0.        , 0.        , 0.        , 0.        ,\n",
              "       0.        , 0.        , 0.        , 0.        , 0.        ,\n",
              "       0.        , 0.        , 0.        , 0.        , 0.        ,\n",
              "       0.        , 0.        , 0.        , 0.        , 0.        ,\n",
              "       0.        , 0.        , 0.        , 0.        , 0.        ,\n",
              "       0.        , 0.        , 0.        , 0.        , 0.        ,\n",
              "       0.        , 0.        , 0.        , 0.        , 0.        ,\n",
              "       0.        , 0.        , 0.        , 0.        , 0.        ,\n",
              "       0.        , 0.        , 0.        , 0.        , 0.        ,\n",
              "       0.        , 0.        , 0.        , 0.        , 0.        ,\n",
              "       0.        , 0.        , 0.        , 0.        , 0.        ,\n",
              "       0.        , 0.        , 0.        , 0.        , 0.        ,\n",
              "       0.        , 0.        , 0.        , 0.        , 0.        ,\n",
              "       0.        , 0.        , 0.        , 0.        ])"
            ]
          },
          "metadata": {},
          "execution_count": 14
        }
      ]
    },
    {
      "cell_type": "markdown",
      "metadata": {
        "id": "St2ah_ku3Ns9"
      },
      "source": [
        "## Construcción de la red\n",
        "\n",
        "Se definirá una red con capas convolucionales y _full connected_ como la mostrada en la imagen. La arquitectura de la red será la siguiente:\n",
        "\n",
        "* **Datos de entrada**: imágenes de dimensiones 28x28 pixeles.\n",
        "* **Datos de salida**: salida de dimensión 10 por cada categoría, donde cada valor será la probabilidad de dicho número.\n",
        "* **Capa convolucional con pooling**:\n",
        "    - La capa convolucional se definirá con 32 kernels, con un filtro de 5x5, el padding con relleno y con función de activación _ReLU_.\n",
        "    - La capa pooling se definirá con un subsampling de 2.\n",
        "* **Capa full connected**: tendrá 2 capas ocultas.\n",
        "    - 1º capa con 20 neuronas con función de activación _ReLU_.\n",
        "    - 2º capa de salida con 10 neuronas y función de activación _Softmax_.\n",
        "\n",
        "<br>\n",
        "<div align=\"center\">\n",
        "<img src=\"https://drive.google.com/uc?id=1fYcU_Djsz8szGH7D-3YnQi59YHigHm2e\" width=\"800\">\n",
        "</div>\n",
        "<br>"
      ]
    },
    {
      "cell_type": "code",
      "metadata": {
        "id": "x1OQTVyNkzJu"
      },
      "source": [
        "model = tf.keras.models.Sequential()"
      ],
      "execution_count": 15,
      "outputs": []
    },
    {
      "cell_type": "markdown",
      "metadata": {
        "id": "WBYg3-rSkzJx"
      },
      "source": [
        "Para definir una capa convolucional se usará la capa `Conv2D`, que tiene los siguientes argumentos que se pueden definir:\n",
        "\n",
        "- `filters`: Número de kernels en la capa convolucional.\n",
        "- `kernel_size`: Entero, tupla o lista de 2 enteros que define el tamaño del filtro.\n",
        "- `strides`: Entero, tupla o lista de 2 enteros con el desplazamiento del filtro.\n",
        "- `padding`: Tipo de relleno, puede tomar los valores _\"valid\"_ (sin relleno) o _\"same\"_ (con relleno).\n",
        "- `activation`: Función de activación.\n",
        "\n",
        "Para ver más información de esta capa se puede consultar el siguiente enlace: https://www.tensorflow.org/api_docs/python/tf/keras/layers/Conv2D\n",
        "\n",
        "Según la red que se quiere definir, se tienen los siguientes parámetros:\n",
        "\n",
        "- `filters`: 32, ya que se pretende tener 32 filtros.\n",
        "- `kernel_size`: (5, 5), el tamaño del kernel será 5x5.\n",
        "- `padding`: _same_, ya que se desea usar relleno.\n",
        "- `activation`: _relu_ , con función de activación _ReLU_\n",
        "\n",
        "Además, se deben añadir un parámetros para indicar el tamaño de entrada de la red (tamaño de las imágenes). Este parámetro es:\n",
        "\n",
        "- `input_shape`: (28, 28, 1), ya que las imágenes son de tamaño 28x28 con un valor por pixel (las imágenes a color tienen 3 valores RGB)."
      ]
    },
    {
      "cell_type": "code",
      "metadata": {
        "id": "NNYPgX2okzJx"
      },
      "source": [
        "model.add(tf.keras.layers.Conv2D(filters=32,\n",
        "                                 kernel_size=(5, 5),\n",
        "                                 padding=\"same\",\n",
        "                                 activation=\"relu\",\n",
        "                                 input_shape=(28,28,1)\n",
        "                                 ))"
      ],
      "execution_count": 16,
      "outputs": []
    },
    {
      "cell_type": "code",
      "metadata": {
        "id": "whGi96SzkzJ0",
        "colab": {
          "base_uri": "https://localhost:8080/"
        },
        "outputId": "1f2343b9-ea87-4b7a-abf4-d301fd08852c"
      },
      "source": [
        "model.summary()"
      ],
      "execution_count": 17,
      "outputs": [
        {
          "output_type": "stream",
          "name": "stdout",
          "text": [
            "Model: \"sequential\"\n",
            "_________________________________________________________________\n",
            " Layer (type)                Output Shape              Param #   \n",
            "=================================================================\n",
            " conv2d (Conv2D)             (None, 28, 28, 32)        832       \n",
            "                                                                 \n",
            "=================================================================\n",
            "Total params: 832\n",
            "Trainable params: 832\n",
            "Non-trainable params: 0\n",
            "_________________________________________________________________\n"
          ]
        }
      ]
    },
    {
      "cell_type": "code",
      "metadata": {
        "id": "5Nr-rccIkzJ4"
      },
      "source": [
        "model.add(tf.keras.layers.MaxPool2D(pool_size=(2, 2),\n",
        "                                    strides=(2, 2),\n",
        "                                    padding=\"same\")\n",
        "                                    )"
      ],
      "execution_count": 18,
      "outputs": []
    },
    {
      "cell_type": "code",
      "metadata": {
        "id": "imy7Qp2skzJ6",
        "colab": {
          "base_uri": "https://localhost:8080/"
        },
        "outputId": "b30a49e0-206d-4511-bc1d-1843928c0aa5"
      },
      "source": [
        "model.summary()"
      ],
      "execution_count": 19,
      "outputs": [
        {
          "output_type": "stream",
          "name": "stdout",
          "text": [
            "Model: \"sequential\"\n",
            "_________________________________________________________________\n",
            " Layer (type)                Output Shape              Param #   \n",
            "=================================================================\n",
            " conv2d (Conv2D)             (None, 28, 28, 32)        832       \n",
            "                                                                 \n",
            " max_pooling2d (MaxPooling2D  (None, 14, 14, 32)       0         \n",
            " )                                                               \n",
            "                                                                 \n",
            "=================================================================\n",
            "Total params: 832\n",
            "Trainable params: 832\n",
            "Non-trainable params: 0\n",
            "_________________________________________________________________\n"
          ]
        }
      ]
    },
    {
      "cell_type": "markdown",
      "metadata": {
        "id": "BmZ0Sj6okzJ9"
      },
      "source": [
        "A continuación se añadirán las capas _full connected_ . Para pasar de una capa convolucional a una capa _full connected_ es necesario aplanar las dimensiones con una capa `Flatten`:"
      ]
    },
    {
      "cell_type": "code",
      "metadata": {
        "id": "egRF_fIgkzJ9"
      },
      "source": [
        "model.add(tf.keras.layers.Flatten())"
      ],
      "execution_count": 20,
      "outputs": []
    },
    {
      "cell_type": "code",
      "metadata": {
        "id": "Rj_MMIFHkzKA",
        "colab": {
          "base_uri": "https://localhost:8080/"
        },
        "outputId": "3fa7f3e8-cf57-4a31-8526-ce51f87b7ab6"
      },
      "source": [
        "model.summary()"
      ],
      "execution_count": 21,
      "outputs": [
        {
          "output_type": "stream",
          "name": "stdout",
          "text": [
            "Model: \"sequential\"\n",
            "_________________________________________________________________\n",
            " Layer (type)                Output Shape              Param #   \n",
            "=================================================================\n",
            " conv2d (Conv2D)             (None, 28, 28, 32)        832       \n",
            "                                                                 \n",
            " max_pooling2d (MaxPooling2D  (None, 14, 14, 32)       0         \n",
            " )                                                               \n",
            "                                                                 \n",
            " flatten (Flatten)           (None, 6272)              0         \n",
            "                                                                 \n",
            "=================================================================\n",
            "Total params: 832\n",
            "Trainable params: 832\n",
            "Non-trainable params: 0\n",
            "_________________________________________________________________\n"
          ]
        }
      ]
    },
    {
      "cell_type": "markdown",
      "metadata": {
        "id": "b70SuRk8kzKC"
      },
      "source": [
        "Los 6.272 parámetros vienen de multiplicar 14x14x32 de la capa anterior.\n",
        "\n",
        "Una vez que se tienen los parámetros aplanados, se pueden añadir algunas capas densas, una primera capa con 20 neuronas y una capa de salida con 10 neuronas:"
      ]
    },
    {
      "cell_type": "code",
      "metadata": {
        "id": "llG-vXv23NtC"
      },
      "source": [
        "model.add(tf.keras.layers.Dense(20, activation=\"relu\"))\n",
        "model.add(tf.keras.layers.Dense(10, activation=\"softmax\"))"
      ],
      "execution_count": 22,
      "outputs": []
    },
    {
      "cell_type": "code",
      "metadata": {
        "id": "kd2icOTHkzKF",
        "colab": {
          "base_uri": "https://localhost:8080/"
        },
        "outputId": "d29a23f9-7c3f-4a46-a005-792a278e7117"
      },
      "source": [
        "model.summary()"
      ],
      "execution_count": 23,
      "outputs": [
        {
          "output_type": "stream",
          "name": "stdout",
          "text": [
            "Model: \"sequential\"\n",
            "_________________________________________________________________\n",
            " Layer (type)                Output Shape              Param #   \n",
            "=================================================================\n",
            " conv2d (Conv2D)             (None, 28, 28, 32)        832       \n",
            "                                                                 \n",
            " max_pooling2d (MaxPooling2D  (None, 14, 14, 32)       0         \n",
            " )                                                               \n",
            "                                                                 \n",
            " flatten (Flatten)           (None, 6272)              0         \n",
            "                                                                 \n",
            " dense (Dense)               (None, 20)                125460    \n",
            "                                                                 \n",
            " dense_1 (Dense)             (None, 10)                210       \n",
            "                                                                 \n",
            "=================================================================\n",
            "Total params: 126,502\n",
            "Trainable params: 126,502\n",
            "Non-trainable params: 0\n",
            "_________________________________________________________________\n"
          ]
        }
      ]
    },
    {
      "cell_type": "markdown",
      "metadata": {
        "id": "ZmhzReve1Ph-"
      },
      "source": [
        "<a id=\"section1.4\"></a>\n",
        "# <font color=\"#004D7F\" size=4>Entrenamiento</font>\n",
        "Una vez que ya se dispone de la red definida, se procede a configurar el entrenamiento. En la configuración se definirán:\n",
        "\n",
        "- `optimizer`: se usará el optimizador `adam` con un `learning rate` de 0.001.\n",
        "- `loss`: se usará como función de coste *Sparse Categorical Crossentropy*, ya que es un problema de clasificación y la salida está con etiquetas del 0 al 9.\n",
        "- `metrics`: precision.\n",
        "- `batch_size`: se establecerá un tamaño de *batch* de 32.\n",
        "- `epochs`: se establecerá el número de *epochs* en 10."
      ]
    },
    {
      "cell_type": "code",
      "metadata": {
        "id": "kSzIHbYB8otE"
      },
      "source": [
        "# Se define el optimizador cambiando el factor de entrenamiento\n",
        "opt = tf.keras.optimizers.Adam(learning_rate=0.001)\n",
        "\n",
        "# Se compila el modelo\n",
        "model.compile(optimizer=opt,\n",
        "              loss='sparse_categorical_crossentropy',\n",
        "              metrics=['accuracy'])"
      ],
      "execution_count": 24,
      "outputs": []
    },
    {
      "cell_type": "markdown",
      "metadata": {
        "id": "IFz2jPBdkzKL"
      },
      "source": [
        "Para entrenar, es necesario cambiar la dimensión de los datos de `(42000,28,28)` a `(42000,28,28,1)`, añadiendo una dimensión más que será el valor del pixel en blanco y negro. También habrá que hacerlo para los datos de test. Para ello se usará la función de los *numpy arrays* llamada `reshape` donde se le pasa cada una de las dimensiones en las que se quiere redimensionar el *array*. Los cambios que efectuados serán:\n",
        "\n",
        "- Imágenes de entrada de entrenamiento `(42000,28,28)` a `(42000,28,28,1)`.\n",
        "- Salida de entrenamiento `(42000)` a `(42000,1)`.\n",
        "- Imágenes de entrada de test `(28000,28,28)` a `(28000,28,28,1)`."
      ]
    },
    {
      "cell_type": "code",
      "metadata": {
        "id": "2GvtCaPOkzKL",
        "colab": {
          "base_uri": "https://localhost:8080/"
        },
        "outputId": "a4413cfd-c004-4ec1-ad56-49d20a1ebba9"
      },
      "source": [
        "x_train = x_train.reshape(x_train.shape[0], 28, 28, 1)\n",
        "x_train.shape"
      ],
      "execution_count": 25,
      "outputs": [
        {
          "output_type": "execute_result",
          "data": {
            "text/plain": [
              "(42000, 28, 28, 1)"
            ]
          },
          "metadata": {},
          "execution_count": 25
        }
      ]
    },
    {
      "cell_type": "code",
      "metadata": {
        "id": "TvqlDTcqkzKN",
        "colab": {
          "base_uri": "https://localhost:8080/"
        },
        "outputId": "562e4835-4add-4ffd-af21-1acaa58d706b"
      },
      "source": [
        "y_train = y_train.reshape(y_train.shape[0], 1)\n",
        "y_train.shape"
      ],
      "execution_count": 26,
      "outputs": [
        {
          "output_type": "execute_result",
          "data": {
            "text/plain": [
              "(42000, 1)"
            ]
          },
          "metadata": {},
          "execution_count": 26
        }
      ]
    },
    {
      "cell_type": "code",
      "source": [
        "x_test = x_test.reshape(x_test.shape[0], 28, 28, 1)\n",
        "x_test .shape"
      ],
      "metadata": {
        "colab": {
          "base_uri": "https://localhost:8080/"
        },
        "id": "iTmlarUGoOHo",
        "outputId": "833c910d-d0f5-4062-d1c2-d1a4c5b8bb33"
      },
      "execution_count": 27,
      "outputs": [
        {
          "output_type": "execute_result",
          "data": {
            "text/plain": [
              "(28000, 28, 28, 1)"
            ]
          },
          "metadata": {},
          "execution_count": 27
        }
      ]
    },
    {
      "cell_type": "markdown",
      "source": [
        "Con train_test_split se dividen los datos en conjunto de entrenamiento y en conjunto de validación"
      ],
      "metadata": {
        "id": "0VGjoF52oSJV"
      }
    },
    {
      "cell_type": "code",
      "source": [
        "from sklearn.model_selection import train_test_split\n",
        "X_train, X_val, Y_train, Y_val = train_test_split(x_train, y_train, test_size=0.20, random_state=42)"
      ],
      "metadata": {
        "id": "ILjNU_MtoVQH"
      },
      "execution_count": 28,
      "outputs": []
    },
    {
      "cell_type": "markdown",
      "metadata": {
        "id": "413G9PM3kzKP"
      },
      "source": [
        "Una vez redimensionados los datos y separados en conjunto de entremaniento y conjunto de validación, se procede a entrenar:"
      ]
    },
    {
      "cell_type": "code",
      "metadata": {
        "id": "5d9OiiJ00R9-",
        "colab": {
          "base_uri": "https://localhost:8080/"
        },
        "outputId": "f1d1f40b-b6a0-4a76-9e69-dab6d2ae3e59"
      },
      "source": [
        "hist = model.fit(X_train, Y_train, validation_data=(X_val, Y_val), epochs=10, batch_size=32)"
      ],
      "execution_count": 29,
      "outputs": [
        {
          "output_type": "stream",
          "name": "stdout",
          "text": [
            "Epoch 1/10\n",
            "1050/1050 [==============================] - 15s 5ms/step - loss: 0.2662 - accuracy: 0.9226 - val_loss: 0.1115 - val_accuracy: 0.9693\n",
            "Epoch 2/10\n",
            "1050/1050 [==============================] - 4s 4ms/step - loss: 0.0878 - accuracy: 0.9736 - val_loss: 0.0809 - val_accuracy: 0.9764\n",
            "Epoch 3/10\n",
            "1050/1050 [==============================] - 4s 4ms/step - loss: 0.0590 - accuracy: 0.9821 - val_loss: 0.0690 - val_accuracy: 0.9798\n",
            "Epoch 4/10\n",
            "1050/1050 [==============================] - 4s 4ms/step - loss: 0.0449 - accuracy: 0.9855 - val_loss: 0.0682 - val_accuracy: 0.9790\n",
            "Epoch 5/10\n",
            "1050/1050 [==============================] - 4s 4ms/step - loss: 0.0364 - accuracy: 0.9882 - val_loss: 0.0606 - val_accuracy: 0.9812\n",
            "Epoch 6/10\n",
            "1050/1050 [==============================] - 4s 4ms/step - loss: 0.0274 - accuracy: 0.9917 - val_loss: 0.0623 - val_accuracy: 0.9838\n",
            "Epoch 7/10\n",
            "1050/1050 [==============================] - 5s 5ms/step - loss: 0.0247 - accuracy: 0.9921 - val_loss: 0.0570 - val_accuracy: 0.9833\n",
            "Epoch 8/10\n",
            "1050/1050 [==============================] - 4s 4ms/step - loss: 0.0171 - accuracy: 0.9946 - val_loss: 0.0585 - val_accuracy: 0.9839\n",
            "Epoch 9/10\n",
            "1050/1050 [==============================] - 4s 4ms/step - loss: 0.0166 - accuracy: 0.9944 - val_loss: 0.0599 - val_accuracy: 0.9846\n",
            "Epoch 10/10\n",
            "1050/1050 [==============================] - 5s 5ms/step - loss: 0.0126 - accuracy: 0.9961 - val_loss: 0.0627 - val_accuracy: 0.9833\n"
          ]
        }
      ]
    },
    {
      "cell_type": "markdown",
      "metadata": {
        "id": "wJxtV4wZ3NtR"
      },
      "source": [
        "<a id=\"section1.5\"></a>\n",
        "# <font color=\"#004D7F\" size=4>Evaluación del modelo</font>\n",
        "\n",
        "A continuación, se evalúa cómo de bien funciona el modelo, visualizando el error y la precisión."
      ]
    },
    {
      "cell_type": "code",
      "metadata": {
        "id": "e1MrbDqs0ji8",
        "colab": {
          "base_uri": "https://localhost:8080/",
          "height": 447
        },
        "outputId": "a8de96c7-d155-4cea-cd0e-22aaca5e776b"
      },
      "source": [
        "plt.plot(hist.history['loss'], label='loss')\n",
        "plt.plot(hist.history['val_loss'], label='val_loss')\n",
        "plt.legend()"
      ],
      "execution_count": 30,
      "outputs": [
        {
          "output_type": "execute_result",
          "data": {
            "text/plain": [
              "<matplotlib.legend.Legend at 0x7a831d57a500>"
            ]
          },
          "metadata": {},
          "execution_count": 30
        },
        {
          "output_type": "display_data",
          "data": {
            "text/plain": [
              "<Figure size 640x480 with 1 Axes>"
            ],
            "image/png": "[encoded data removed]"
          },
          "metadata": {}
        }
      ]
    },
    {
      "cell_type": "code",
      "metadata": {
        "id": "DA0qYQfckzKV",
        "colab": {
          "base_uri": "https://localhost:8080/",
          "height": 447
        },
        "outputId": "f2c2b5bd-789c-4457-9eed-87059bb92e76"
      },
      "source": [
        "plt.plot(hist.history['accuracy'], label='acc')\n",
        "plt.plot(hist.history['val_accuracy'], label='val_acc')\n",
        "plt.legend()"
      ],
      "execution_count": 31,
      "outputs": [
        {
          "output_type": "execute_result",
          "data": {
            "text/plain": [
              "<matplotlib.legend.Legend at 0x7a831ec6dab0>"
            ]
          },
          "metadata": {},
          "execution_count": 31
        },
        {
          "output_type": "display_data",
          "data": {
            "text/plain": [
              "<Figure size 640x480 with 1 Axes>"
            ],
            "image/png": "[encoded data removed]"
          },
          "metadata": {}
        }
      ]
    },
    {
      "cell_type": "markdown",
      "source": [
        "## <font color=\"#004D7F\">Ajuste de modelos</font>\n",
        "\n",
        "Después de esta pequeña prueba, a modo de introducción, se va a analizar en profundidad el problema de MNIST y a tratar de mejorar los resultados obtenidos con este primer modelo. Para ello se van a seguir siempre los mismos pasos, que se detallan a continuación.\n",
        "\n",
        "### <font color=\"#004D7F\">1. Elegir una estructura de red base</font>\n",
        "\n",
        "Lo primero que se debe hacer es utilizar una estructura conocida. Se va a comenzar com un modelo de redes convolucionales, con 2 capas de convolución y 3 full-conected, tratando posteriormente de mejorar su rendimiento. Se creará una función que, al ser invocada, devuelva el modelo deseado."
      ],
      "metadata": {
        "id": "rUAGJjIubfGy"
      }
    },
    {
      "cell_type": "code",
      "source": [
        "# se define la función que creará la red\n",
        "\n",
        "def basic_model ():\n",
        "\n",
        "    model = tf.keras.models.Sequential([\n",
        "        tf.keras.layers.Conv2D(32, (3, 3), padding=\"same\", activation=\"relu\", input_shape=(28,28,1)),\n",
        "        tf.keras.layers.MaxPool2D(pool_size=(2, 2), strides=(2, 2), padding=\"same\"),\n",
        "        tf.keras.layers.Conv2D(64, (3, 3), padding=\"same\", activation=\"relu\"),\n",
        "        tf.keras.layers.MaxPool2D(pool_size=(2, 2), strides=(2, 2), padding=\"same\"),\n",
        "        tf.keras.layers.Flatten(),\n",
        "        tf.keras.layers.Dense(128, activation=\"relu\"),\n",
        "        tf.keras.layers.Dense(64, activation=\"relu\"),\n",
        "        tf.keras.layers.Dense(10, activation=\"softmax\")\n",
        "        ])\n",
        "    return model\n",
        "\n",
        "model = basic_model()\n",
        "\n",
        "model.summary()"
      ],
      "metadata": {
        "colab": {
          "base_uri": "https://localhost:8080/"
        },
        "id": "1BTKRTSKcYGh",
        "outputId": "8612e26b-a81f-4d9d-d884-2c9420489ffb"
      },
      "execution_count": 32,
      "outputs": [
        {
          "output_type": "stream",
          "name": "stdout",
          "text": [
            "Model: \"sequential_1\"\n",
            "_________________________________________________________________\n",
            " Layer (type)                Output Shape              Param #   \n",
            "=================================================================\n",
            " conv2d_1 (Conv2D)           (None, 28, 28, 32)        320       \n",
            "                                                                 \n",
            " max_pooling2d_1 (MaxPooling  (None, 14, 14, 32)       0         \n",
            " 2D)                                                             \n",
            "                                                                 \n",
            " conv2d_2 (Conv2D)           (None, 14, 14, 64)        18496     \n",
            "                                                                 \n",
            " max_pooling2d_2 (MaxPooling  (None, 7, 7, 64)         0         \n",
            " 2D)                                                             \n",
            "                                                                 \n",
            " flatten_1 (Flatten)         (None, 3136)              0         \n",
            "                                                                 \n",
            " dense_2 (Dense)             (None, 128)               401536    \n",
            "                                                                 \n",
            " dense_3 (Dense)             (None, 64)                8256      \n",
            "                                                                 \n",
            " dense_4 (Dense)             (None, 10)                650       \n",
            "                                                                 \n",
            "=================================================================\n",
            "Total params: 429,258\n",
            "Trainable params: 429,258\n",
            "Non-trainable params: 0\n",
            "_________________________________________________________________\n"
          ]
        }
      ]
    },
    {
      "cell_type": "markdown",
      "source": [
        "### <font color=\"#004D7F\">2. Se establece una función de loss adecuada al problema.</font>\n",
        "En este caso, como es un problema multiclase, se selecciona la categorical crossentropy."
      ],
      "metadata": {
        "id": "PfbnMaDNc5m7"
      }
    },
    {
      "cell_type": "code",
      "source": [
        "actual_loss = 'sparse_categorical_crossentropy'"
      ],
      "metadata": {
        "id": "xU2-s5VFc-W_"
      },
      "execution_count": 33,
      "outputs": []
    },
    {
      "cell_type": "markdown",
      "source": [
        "### <font color=\"#004D7F\">3. Overfitting sobre un pequeño conjunto de datos.</font>\n",
        "\n",
        "Este paso se suele realizar para comprobar que la estructura de la red es correcta y que el modelo aprende para los datos proporcionados. En `tf.keras`, para poder realizar esta prueba sencilla es necesario establecer el optimizer, por lo que se va a usar *Adam* con un `learning_rate=0.001` ya que siempre es una buena solución."
      ],
      "metadata": {
        "id": "aEc9oUEadDYG"
      }
    },
    {
      "cell_type": "code",
      "source": [
        "# se define el optimizador\n",
        "opt = tf.keras.optimizers.Adam(learning_rate=0.001)\n",
        "\n",
        "# se compila el modelo\n",
        "model.compile(optimizer=opt,\n",
        "              loss= actual_loss,\n",
        "              metrics=['accuracy'])"
      ],
      "metadata": {
        "id": "cL-PFlA9dOjH"
      },
      "execution_count": 35,
      "outputs": []
    },
    {
      "cell_type": "code",
      "source": [
        "# se entrena el modelo con las 1000 primeras imágenes del conjunto de entrenamiento, con unas cuantas epochs. Como son pocas imágenes el proceso es rápido.\n",
        "hist = model.fit(X_train[0:1000], Y_train[0:1000], epochs=20)"
      ],
      "metadata": {
        "colab": {
          "base_uri": "https://localhost:8080/"
        },
        "id": "y72OuyDbdUgw",
        "outputId": "83050225-91bf-42a4-9113-94c38c0b9396"
      },
      "execution_count": 36,
      "outputs": [
        {
          "output_type": "stream",
          "name": "stdout",
          "text": [
            "Epoch 1/20\n",
            "32/32 [==============================] - 2s 8ms/step - loss: 1.6041 - accuracy: 0.4690\n",
            "Epoch 2/20\n",
            "32/32 [==============================] - 0s 4ms/step - loss: 0.5439 - accuracy: 0.8220\n",
            "Epoch 3/20\n",
            "32/32 [==============================] - 0s 4ms/step - loss: 0.3592 - accuracy: 0.8890\n",
            "Epoch 4/20\n",
            "32/32 [==============================] - 0s 4ms/step - loss: 0.2187 - accuracy: 0.9310\n",
            "Epoch 5/20\n",
            "32/32 [==============================] - 0s 4ms/step - loss: 0.1580 - accuracy: 0.9530\n",
            "Epoch 6/20\n",
            "32/32 [==============================] - 0s 4ms/step - loss: 0.0981 - accuracy: 0.9720\n",
            "Epoch 7/20\n",
            "32/32 [==============================] - 0s 5ms/step - loss: 0.0803 - accuracy: 0.9810\n",
            "Epoch 8/20\n",
            "32/32 [==============================] - 0s 4ms/step - loss: 0.0382 - accuracy: 0.9930\n",
            "Epoch 9/20\n",
            "32/32 [==============================] - 0s 4ms/step - loss: 0.0409 - accuracy: 0.9890\n",
            "Epoch 10/20\n",
            "32/32 [==============================] - 0s 4ms/step - loss: 0.0228 - accuracy: 0.9960\n",
            "Epoch 11/20\n",
            "32/32 [==============================] - 0s 4ms/step - loss: 0.0200 - accuracy: 0.9940\n",
            "Epoch 12/20\n",
            "32/32 [==============================] - 0s 4ms/step - loss: 0.0215 - accuracy: 0.9960\n",
            "Epoch 13/20\n",
            "32/32 [==============================] - 0s 4ms/step - loss: 0.0084 - accuracy: 0.9980\n",
            "Epoch 14/20\n",
            "32/32 [==============================] - 0s 4ms/step - loss: 0.0031 - accuracy: 1.0000\n",
            "Epoch 15/20\n",
            "32/32 [==============================] - 0s 4ms/step - loss: 0.0019 - accuracy: 1.0000\n",
            "Epoch 16/20\n",
            "32/32 [==============================] - 0s 4ms/step - loss: 0.0016 - accuracy: 1.0000\n",
            "Epoch 17/20\n",
            "32/32 [==============================] - 0s 4ms/step - loss: 0.0013 - accuracy: 1.0000\n",
            "Epoch 18/20\n",
            "32/32 [==============================] - 0s 4ms/step - loss: 9.7735e-04 - accuracy: 1.0000\n",
            "Epoch 19/20\n",
            "32/32 [==============================] - 0s 4ms/step - loss: 8.5329e-04 - accuracy: 1.0000\n",
            "Epoch 20/20\n",
            "32/32 [==============================] - 0s 4ms/step - loss: 7.6110e-04 - accuracy: 1.0000\n"
          ]
        }
      ]
    },
    {
      "cell_type": "markdown",
      "source": [
        "Una vez comprobado que todo funciona correctamente, se va a comenzar a ajustar de verdad los parámetros para mejorar el modelo."
      ],
      "metadata": {
        "id": "Bnr_GRu7dlAu"
      }
    },
    {
      "cell_type": "markdown",
      "source": [
        "### <font color=\"#004D7F\">4. Elección de un optimizer.</font>\n",
        "\n",
        "Ya se ha establecido Adam, y parece que el learning rate puede ser adecuado. Se procede a comprobar.\n",
        "\n",
        "<div class=\"alert alert-block alert-info\">\n",
        "    \n",
        "> <i class=\"fa fa-info-circle\" aria-hidden=\"true\"></i> <font color=\"#31708f\">**IMPORTANTE**\n",
        ">\n",
        "> Es necesario reiniciar la red, ya que si ahora se vuelve a hacer fit, entrenaría a partir de lo aprendido en la celda anterior y está sobreajustada a los casos reducidos, por lo que hay que reiniciar los pesos.\n",
        "</font>\n",
        "</div>\n"
      ],
      "metadata": {
        "id": "x0ZVHKfwdp2K"
      }
    },
    {
      "cell_type": "code",
      "source": [
        "# re-definición de la red\n",
        "model = basic_model()\n",
        "\n",
        "# definición del optimizador\n",
        "opt = tf.keras.optimizers.Adam(learning_rate=0.001)\n",
        "\n",
        "# se compila el modelo\n",
        "model.compile(optimizer=opt,\n",
        "              loss= actual_loss,\n",
        "              metrics=['accuracy'])\n"
      ],
      "metadata": {
        "id": "301jfhOUd2Vx"
      },
      "execution_count": 37,
      "outputs": []
    },
    {
      "cell_type": "code",
      "source": [
        "# Ahora el proceso va a ser más lento, por lo que se va a probar con 5 epochs\n",
        "# Y, ahora si, se puede empezar a validar\n",
        "\n",
        "hist = model.fit(X_train, Y_train, validation_data=(X_val, Y_val), epochs=5)"
      ],
      "metadata": {
        "colab": {
          "base_uri": "https://localhost:8080/"
        },
        "id": "tVrQzZDOd6Um",
        "outputId": "101d6db4-6aac-4e1c-9ac0-1f962fc97f7b"
      },
      "execution_count": 38,
      "outputs": [
        {
          "output_type": "stream",
          "name": "stdout",
          "text": [
            "Epoch 1/5\n",
            "1050/1050 [==============================] - 8s 5ms/step - loss: 0.1791 - accuracy: 0.9448 - val_loss: 0.0737 - val_accuracy: 0.9773\n",
            "Epoch 2/5\n",
            "1050/1050 [==============================] - 5s 5ms/step - loss: 0.0577 - accuracy: 0.9817 - val_loss: 0.0635 - val_accuracy: 0.9796\n",
            "Epoch 3/5\n",
            "1050/1050 [==============================] - 6s 6ms/step - loss: 0.0380 - accuracy: 0.9875 - val_loss: 0.0448 - val_accuracy: 0.9867\n",
            "Epoch 4/5\n",
            "1050/1050 [==============================] - 5s 5ms/step - loss: 0.0286 - accuracy: 0.9911 - val_loss: 0.0403 - val_accuracy: 0.9877\n",
            "Epoch 5/5\n",
            "1050/1050 [==============================] - 5s 5ms/step - loss: 0.0220 - accuracy: 0.9924 - val_loss: 0.0362 - val_accuracy: 0.9881\n"
          ]
        }
      ]
    },
    {
      "cell_type": "markdown",
      "source": [
        "Efectivamente, parece que todo funciona correctamente. EL loss baja en ambos casos y el accuracy aumenta.\n",
        "\n",
        "<div class=\"alert alert-block alert-info\">\n",
        "    \n",
        "> <i class=\"fa fa-info-circle\" aria-hidden=\"true\"></i> <font color=\"#31708f\">**IMPORTANTE**</font>\n",
        ">\n",
        "> <font color=\"#31708f\">En tf.keras, la loss y las métricas del conjunto de entrenamiento se obtienen de la media de los resultados de cada batch, por lo que en las primeras epochs esto afecta significativamente a los resultados mostrados, ya que el primer batch de las epochs iniciales va a dar resultados mucho peores que los últimos.</font>\n",
        ">\n",
        "><font color=\"#31708f\">Por eso hay que tener cuidado cuando se analicen las primeras epochs frente al conjunto de validación, siendo normal que este segundo genere mejores resultados en los primeros pasos del entrenamiento. Esto solo es algo del proceso de obtención de los resultados de tf.keras. La práctica correcta sería procesar todo el conjunto de entrenamiento una vez terminada la epoch.\n",
        "</font>\n",
        "</div>\n"
      ],
      "metadata": {
        "id": "XGbHasPneHrf"
      }
    },
    {
      "cell_type": "code",
      "source": [
        "# se re-define la red\n",
        "model = basic_model()\n",
        "\n",
        "# definimos el optimizador\n",
        "opt = tf.keras.optimizers.Adam(learning_rate=0.001)\n",
        "\n",
        "# compilamos el modelo\n",
        "model.compile(optimizer=opt,\n",
        "              loss= actual_loss,\n",
        "              metrics=['accuracy'])\n"
      ],
      "metadata": {
        "id": "AYV3uDVzeubQ"
      },
      "execution_count": 39,
      "outputs": []
    },
    {
      "cell_type": "code",
      "source": [
        "# Como antes, el proceso va a ser más lento, por lo que se va a probar con 5 epochs\n",
        "\n",
        "hist = model.fit(X_train, Y_train, validation_data=(x_train, y_train), epochs=5)"
      ],
      "metadata": {
        "colab": {
          "base_uri": "https://localhost:8080/"
        },
        "id": "qzVcwcVCevoi",
        "outputId": "3f3e4757-7335-4e5c-8863-b5425c9b1198"
      },
      "execution_count": 40,
      "outputs": [
        {
          "output_type": "stream",
          "name": "stdout",
          "text": [
            "Epoch 1/5\n",
            "1050/1050 [==============================] - 13s 10ms/step - loss: 0.1874 - accuracy: 0.9435 - val_loss: 0.0615 - val_accuracy: 0.9811\n",
            "Epoch 2/5\n",
            "1050/1050 [==============================] - 7s 6ms/step - loss: 0.0562 - accuracy: 0.9827 - val_loss: 0.0510 - val_accuracy: 0.9838\n",
            "Epoch 3/5\n",
            "1050/1050 [==============================] - 10s 9ms/step - loss: 0.0388 - accuracy: 0.9868 - val_loss: 0.0264 - val_accuracy: 0.9914\n",
            "Epoch 4/5\n",
            "1050/1050 [==============================] - 9s 9ms/step - loss: 0.0287 - accuracy: 0.9907 - val_loss: 0.0252 - val_accuracy: 0.9921\n",
            "Epoch 5/5\n",
            "1050/1050 [==============================] - 11s 10ms/step - loss: 0.0217 - accuracy: 0.9932 - val_loss: 0.0221 - val_accuracy: 0.9928\n"
          ]
        }
      ]
    },
    {
      "cell_type": "markdown",
      "source": [
        "<div class=\"alert alert-block alert-info\">\n",
        "    \n",
        "> <font color=\"#31708f\">\n",
        "> Este es un proceso que no se suele realizar, ya que el procesamiento de la base de datos de entrenamiento suele ser costosa, dado que tiene que ser muy grande. Además, es algo que solo afecta significativamente a los resultados de las primeras epochs. Pero hay que tenerlo en cuenta a la hora de analizar los resultados.\n",
        "</font>\n",
        "</div>"
      ],
      "metadata": {
        "id": "54eQWmche9kE"
      }
    },
    {
      "cell_type": "markdown",
      "source": [
        "### <font color=\"#004D7F\">5. Probar diferentes configuraciones con un número pequeño de epochs.</font>\n",
        "\n",
        "Se comenzará, por ejemplo, con el tamaño de batch, poniendo los valores standard, que suelen ser 16, 32 o 64, aunque, como siempre, dependen del problema. Ya se ha probado con 32, que es el valor por defecto cuando no se especifica.\n",
        "\n",
        "#### Experimento 1\n",
        "- batch_size = 16"
      ],
      "metadata": {
        "id": "gULysML6fNOO"
      }
    },
    {
      "cell_type": "markdown",
      "source": [
        "Esta vez, además, se van a mostrar la comparativa en forma de gráfica de los resultados obtenidos tanto en entrenamiento como en validación. Para ello se definirá una función que muestre esa comparativa."
      ],
      "metadata": {
        "id": "6HhVJixsfaG5"
      }
    },
    {
      "cell_type": "code",
      "source": [
        "# función para mostrar los resultados\n",
        "\n",
        "def show_results(hist):\n",
        "    fig=plt.figure(figsize=(60, 40))\n",
        "\n",
        "    # error\n",
        "    fig.add_subplot(10, 10, 1)\n",
        "    plt.title('Loss')\n",
        "    plt.plot(hist.history['loss'], label='train')\n",
        "    plt.plot(hist.history['val_loss'], label='val')\n",
        "    plt.legend()\n",
        "\n",
        "    # precision\n",
        "    fig.add_subplot(10, 10, 2)\n",
        "    plt.title('Accuracy')\n",
        "    plt.plot(hist.history['accuracy'], label='train')\n",
        "    plt.plot(hist.history['val_accuracy'], label='val')\n",
        "    plt.legend()\n",
        "\n",
        "    plt.legend()\n",
        "    plt.show()"
      ],
      "metadata": {
        "id": "Q2o9J2MJfXdz"
      },
      "execution_count": 41,
      "outputs": []
    },
    {
      "cell_type": "code",
      "source": [
        "# se re-define la red\n",
        "model = basic_model()\n",
        "\n",
        "# se define el optimizador\n",
        "opt = tf.keras.optimizers.Adam(learning_rate=0.001)\n",
        "\n",
        "# se compila el modelo\n",
        "model.compile(optimizer=opt,\n",
        "              loss= actual_loss,\n",
        "              metrics=['accuracy'])"
      ],
      "metadata": {
        "id": "wJZFTDydfmgj"
      },
      "execution_count": 42,
      "outputs": []
    },
    {
      "cell_type": "code",
      "source": [
        "# Como se comentó anteriormente, el proceso va a ser lento, por lo que sólo se va a probar con unas 20 epochs, con un tamaño de batch de 16\n",
        "# se utiliza la validación\n",
        "\n",
        "hist = model.fit(X_train, Y_train, validation_data=(X_val, Y_val), batch_size=16, epochs=20)"
      ],
      "metadata": {
        "colab": {
          "base_uri": "https://localhost:8080/"
        },
        "id": "tAg9D0cVfs5C",
        "outputId": "6fb19e0c-4860-466c-a94a-2a0c14072ee3"
      },
      "execution_count": 43,
      "outputs": [
        {
          "output_type": "stream",
          "name": "stdout",
          "text": [
            "Epoch 1/20\n",
            "2100/2100 [==============================] - 12s 5ms/step - loss: 0.1594 - accuracy: 0.9503 - val_loss: 0.0892 - val_accuracy: 0.9710\n",
            "Epoch 2/20\n",
            "2100/2100 [==============================] - 10s 5ms/step - loss: 0.0521 - accuracy: 0.9840 - val_loss: 0.0714 - val_accuracy: 0.9805\n",
            "Epoch 3/20\n",
            "2100/2100 [==============================] - 10s 5ms/step - loss: 0.0357 - accuracy: 0.9882 - val_loss: 0.0535 - val_accuracy: 0.9848\n",
            "Epoch 4/20\n",
            "2100/2100 [==============================] - 10s 5ms/step - loss: 0.0264 - accuracy: 0.9913 - val_loss: 0.0440 - val_accuracy: 0.9874\n",
            "Epoch 5/20\n",
            "2100/2100 [==============================] - 10s 5ms/step - loss: 0.0210 - accuracy: 0.9926 - val_loss: 0.0520 - val_accuracy: 0.9852\n",
            "Epoch 6/20\n",
            "2100/2100 [==============================] - 10s 5ms/step - loss: 0.0141 - accuracy: 0.9950 - val_loss: 0.0627 - val_accuracy: 0.9845\n",
            "Epoch 7/20\n",
            "2100/2100 [==============================] - 9s 4ms/step - loss: 0.0147 - accuracy: 0.9956 - val_loss: 0.0436 - val_accuracy: 0.9881\n",
            "Epoch 8/20\n",
            "2100/2100 [==============================] - 11s 5ms/step - loss: 0.0110 - accuracy: 0.9965 - val_loss: 0.0412 - val_accuracy: 0.9900\n",
            "Epoch 9/20\n",
            "2100/2100 [==============================] - 10s 5ms/step - loss: 0.0107 - accuracy: 0.9968 - val_loss: 0.0541 - val_accuracy: 0.9889\n",
            "Epoch 10/20\n",
            "2100/2100 [==============================] - 11s 5ms/step - loss: 0.0095 - accuracy: 0.9968 - val_loss: 0.0606 - val_accuracy: 0.9860\n",
            "Epoch 11/20\n",
            "2100/2100 [==============================] - 9s 4ms/step - loss: 0.0087 - accuracy: 0.9974 - val_loss: 0.0908 - val_accuracy: 0.9812\n",
            "Epoch 12/20\n",
            "2100/2100 [==============================] - 10s 5ms/step - loss: 0.0072 - accuracy: 0.9977 - val_loss: 0.0575 - val_accuracy: 0.9865\n",
            "Epoch 13/20\n",
            "2100/2100 [==============================] - 10s 5ms/step - loss: 0.0075 - accuracy: 0.9980 - val_loss: 0.0596 - val_accuracy: 0.9882\n",
            "Epoch 14/20\n",
            "2100/2100 [==============================] - 10s 5ms/step - loss: 0.0064 - accuracy: 0.9985 - val_loss: 0.0795 - val_accuracy: 0.9893\n",
            "Epoch 15/20\n",
            "2100/2100 [==============================] - 10s 5ms/step - loss: 0.0089 - accuracy: 0.9975 - val_loss: 0.0605 - val_accuracy: 0.9901\n",
            "Epoch 16/20\n",
            "2100/2100 [==============================] - 10s 5ms/step - loss: 0.0076 - accuracy: 0.9978 - val_loss: 0.0507 - val_accuracy: 0.9892\n",
            "Epoch 17/20\n",
            "2100/2100 [==============================] - 10s 5ms/step - loss: 0.0046 - accuracy: 0.9988 - val_loss: 0.0495 - val_accuracy: 0.9905\n",
            "Epoch 18/20\n",
            "2100/2100 [==============================] - 10s 5ms/step - loss: 0.0051 - accuracy: 0.9985 - val_loss: 0.0592 - val_accuracy: 0.9906\n",
            "Epoch 19/20\n",
            "2100/2100 [==============================] - 10s 5ms/step - loss: 0.0057 - accuracy: 0.9983 - val_loss: 0.0631 - val_accuracy: 0.9888\n",
            "Epoch 20/20\n",
            "2100/2100 [==============================] - 10s 5ms/step - loss: 0.0053 - accuracy: 0.9986 - val_loss: 0.0772 - val_accuracy: 0.9876\n"
          ]
        }
      ]
    },
    {
      "cell_type": "code",
      "source": [
        "show_results(hist)"
      ],
      "metadata": {
        "colab": {
          "base_uri": "https://localhost:8080/",
          "height": 344
        },
        "id": "NxHOtRakgK56",
        "outputId": "3d5eaa28-bb7f-4291-ff9c-4d8ee0c09236"
      },
      "execution_count": 44,
      "outputs": [
        {
          "output_type": "display_data",
          "data": {
            "text/plain": [
              "<Figure size 6000x4000 with 2 Axes>"
            ],
            "image/png": "[encoded data removed]"
          },
          "metadata": {}
        }
      ]
    },
    {
      "cell_type": "markdown",
      "source": [
        "#### Experimento 2\n",
        "- batch_size = 64"
      ],
      "metadata": {
        "id": "LC9dkv1Hgzg5"
      }
    },
    {
      "cell_type": "code",
      "source": [
        "# se re-define la red\n",
        "model = basic_model()\n",
        "\n",
        "# se define el optimizador\n",
        "opt = tf.keras.optimizers.Adam(learning_rate=0.001)\n",
        "\n",
        "# se compila el modelo\n",
        "model.compile(optimizer=opt,\n",
        "              loss= actual_loss,\n",
        "              metrics=['accuracy'])"
      ],
      "metadata": {
        "id": "IgUFGa1Tg8rg"
      },
      "execution_count": 45,
      "outputs": []
    },
    {
      "cell_type": "code",
      "source": [
        "# Se va a probar con unas 20 epochs\n",
        "# Se realizará validación\n",
        "\n",
        "hist = model.fit(X_train, Y_train, validation_data=(X_val, Y_val), batch_size=64, epochs=20)"
      ],
      "metadata": {
        "colab": {
          "base_uri": "https://localhost:8080/"
        },
        "id": "qnT160sNhEA3",
        "outputId": "d3a50ee4-8fc2-4e92-a8a1-5d0ae8b3851c"
      },
      "execution_count": 46,
      "outputs": [
        {
          "output_type": "stream",
          "name": "stdout",
          "text": [
            "Epoch 1/20\n",
            "525/525 [==============================] - 5s 5ms/step - loss: 0.2215 - accuracy: 0.9332 - val_loss: 0.0865 - val_accuracy: 0.9731\n",
            "Epoch 2/20\n",
            "525/525 [==============================] - 2s 5ms/step - loss: 0.0620 - accuracy: 0.9814 - val_loss: 0.0588 - val_accuracy: 0.9824\n",
            "Epoch 3/20\n",
            "525/525 [==============================] - 3s 7ms/step - loss: 0.0399 - accuracy: 0.9873 - val_loss: 0.0480 - val_accuracy: 0.9840\n",
            "Epoch 4/20\n",
            "525/525 [==============================] - 2s 5ms/step - loss: 0.0290 - accuracy: 0.9904 - val_loss: 0.0471 - val_accuracy: 0.9861\n",
            "Epoch 5/20\n",
            "525/525 [==============================] - 2s 5ms/step - loss: 0.0222 - accuracy: 0.9924 - val_loss: 0.0405 - val_accuracy: 0.9870\n",
            "Epoch 6/20\n",
            "525/525 [==============================] - 2s 5ms/step - loss: 0.0174 - accuracy: 0.9944 - val_loss: 0.0504 - val_accuracy: 0.9850\n",
            "Epoch 7/20\n",
            "525/525 [==============================] - 3s 5ms/step - loss: 0.0146 - accuracy: 0.9953 - val_loss: 0.0360 - val_accuracy: 0.9892\n",
            "Epoch 8/20\n",
            "525/525 [==============================] - 3s 6ms/step - loss: 0.0117 - accuracy: 0.9959 - val_loss: 0.0473 - val_accuracy: 0.9864\n",
            "Epoch 9/20\n",
            "525/525 [==============================] - 2s 5ms/step - loss: 0.0113 - accuracy: 0.9960 - val_loss: 0.0389 - val_accuracy: 0.9885\n",
            "Epoch 10/20\n",
            "525/525 [==============================] - 2s 5ms/step - loss: 0.0130 - accuracy: 0.9954 - val_loss: 0.0470 - val_accuracy: 0.9868\n",
            "Epoch 11/20\n",
            "525/525 [==============================] - 2s 5ms/step - loss: 0.0058 - accuracy: 0.9981 - val_loss: 0.0618 - val_accuracy: 0.9857\n",
            "Epoch 12/20\n",
            "525/525 [==============================] - 3s 5ms/step - loss: 0.0080 - accuracy: 0.9974 - val_loss: 0.0777 - val_accuracy: 0.9811\n",
            "Epoch 13/20\n",
            "525/525 [==============================] - 3s 5ms/step - loss: 0.0063 - accuracy: 0.9981 - val_loss: 0.0485 - val_accuracy: 0.9882\n",
            "Epoch 14/20\n",
            "525/525 [==============================] - 2s 5ms/step - loss: 0.0062 - accuracy: 0.9977 - val_loss: 0.0457 - val_accuracy: 0.9880\n",
            "Epoch 15/20\n",
            "525/525 [==============================] - 2s 5ms/step - loss: 0.0040 - accuracy: 0.9989 - val_loss: 0.0605 - val_accuracy: 0.9867\n",
            "Epoch 16/20\n",
            "525/525 [==============================] - 2s 5ms/step - loss: 0.0077 - accuracy: 0.9976 - val_loss: 0.0567 - val_accuracy: 0.9863\n",
            "Epoch 17/20\n",
            "525/525 [==============================] - 3s 6ms/step - loss: 0.0061 - accuracy: 0.9981 - val_loss: 0.0528 - val_accuracy: 0.9871\n",
            "Epoch 18/20\n",
            "525/525 [==============================] - 3s 5ms/step - loss: 0.0049 - accuracy: 0.9986 - val_loss: 0.0428 - val_accuracy: 0.9900\n",
            "Epoch 19/20\n",
            "525/525 [==============================] - 3s 5ms/step - loss: 9.8986e-04 - accuracy: 0.9997 - val_loss: 0.0535 - val_accuracy: 0.9886\n",
            "Epoch 20/20\n",
            "525/525 [==============================] - 2s 5ms/step - loss: 0.0076 - accuracy: 0.9974 - val_loss: 0.0514 - val_accuracy: 0.9889\n"
          ]
        }
      ]
    },
    {
      "cell_type": "code",
      "source": [
        "show_results(hist)"
      ],
      "metadata": {
        "colab": {
          "base_uri": "https://localhost:8080/",
          "height": 344
        },
        "id": "suAjXrr_hSM9",
        "outputId": "2e86a992-8430-445e-c196-179f9aa5dc1f"
      },
      "execution_count": 47,
      "outputs": [
        {
          "output_type": "display_data",
          "data": {
            "text/plain": [
              "<Figure size 6000x4000 with 2 Axes>"
            ],
            "image/png": "[encoded data removed]"
          },
          "metadata": {}
        }
      ]
    },
    {
      "cell_type": "markdown",
      "source": [
        "Parece que lo que mejor para el entrenamiento es un batch_size de 16, aunque no se puede descartar el de 32, ya que da mejor resultado en validación. Por eso, se va a probar ahora con una modificación del valor del learning rate, dejando el batch_size en 32, pero no se descartará el de 16 para pruebas posteriores.\n",
        "\n",
        "#### Experimento 3\n",
        "- batch_size = 32\n",
        "- learning_rate = 0.005"
      ],
      "metadata": {
        "id": "TCZvLVpthfcQ"
      }
    },
    {
      "cell_type": "code",
      "source": [
        "# se re-define la red\n",
        "model = basic_model()\n",
        "\n",
        "# se define el optimizador\n",
        "opt = tf.keras.optimizers.Adam(learning_rate=0.005)\n",
        "\n",
        "# se compila el modelo\n",
        "model.compile(optimizer=opt,\n",
        "              loss= actual_loss,\n",
        "              metrics=['accuracy'])"
      ],
      "metadata": {
        "id": "CYFFUkrphkDn"
      },
      "execution_count": 48,
      "outputs": []
    },
    {
      "cell_type": "code",
      "source": [
        "# Se prueba con unas 20 epochs\n",
        "\n",
        "hist = model.fit(X_train, Y_train, validation_data=(X_val, Y_val), epochs=20)"
      ],
      "metadata": {
        "colab": {
          "base_uri": "https://localhost:8080/"
        },
        "id": "H1bN4isWh1qV",
        "outputId": "85af10bb-ad8f-460e-cfbc-ff018f05f0ac"
      },
      "execution_count": 49,
      "outputs": [
        {
          "output_type": "stream",
          "name": "stdout",
          "text": [
            "Epoch 1/20\n",
            "1050/1050 [==============================] - 8s 5ms/step - loss: 0.1490 - accuracy: 0.9563 - val_loss: 0.1005 - val_accuracy: 0.9710\n",
            "Epoch 2/20\n",
            "1050/1050 [==============================] - 5s 4ms/step - loss: 0.0722 - accuracy: 0.9790 - val_loss: 0.0943 - val_accuracy: 0.9723\n",
            "Epoch 3/20\n",
            "1050/1050 [==============================] - 5s 4ms/step - loss: 0.0517 - accuracy: 0.9846 - val_loss: 0.0602 - val_accuracy: 0.9829\n",
            "Epoch 4/20\n",
            "1050/1050 [==============================] - 5s 5ms/step - loss: 0.0502 - accuracy: 0.9863 - val_loss: 0.0763 - val_accuracy: 0.9789\n",
            "Epoch 5/20\n",
            "1050/1050 [==============================] - 5s 4ms/step - loss: 0.0430 - accuracy: 0.9880 - val_loss: 0.0568 - val_accuracy: 0.9862\n",
            "Epoch 6/20\n",
            "1050/1050 [==============================] - 5s 5ms/step - loss: 0.0356 - accuracy: 0.9902 - val_loss: 0.0866 - val_accuracy: 0.9798\n",
            "Epoch 7/20\n",
            "1050/1050 [==============================] - 5s 4ms/step - loss: 0.0319 - accuracy: 0.9919 - val_loss: 0.0793 - val_accuracy: 0.9819\n",
            "Epoch 8/20\n",
            "1050/1050 [==============================] - 5s 4ms/step - loss: 0.0365 - accuracy: 0.9906 - val_loss: 0.0734 - val_accuracy: 0.9831\n",
            "Epoch 9/20\n",
            "1050/1050 [==============================] - 5s 5ms/step - loss: 0.0272 - accuracy: 0.9928 - val_loss: 0.0559 - val_accuracy: 0.9871\n",
            "Epoch 10/20\n",
            "1050/1050 [==============================] - 5s 4ms/step - loss: 0.0258 - accuracy: 0.9933 - val_loss: 0.0859 - val_accuracy: 0.9829\n",
            "Epoch 11/20\n",
            "1050/1050 [==============================] - 6s 6ms/step - loss: 0.0277 - accuracy: 0.9933 - val_loss: 0.0600 - val_accuracy: 0.9877\n",
            "Epoch 12/20\n",
            "1050/1050 [==============================] - 5s 4ms/step - loss: 0.0198 - accuracy: 0.9954 - val_loss: 0.0708 - val_accuracy: 0.9868\n",
            "Epoch 13/20\n",
            "1050/1050 [==============================] - 5s 4ms/step - loss: 0.0268 - accuracy: 0.9939 - val_loss: 0.0810 - val_accuracy: 0.9855\n",
            "Epoch 14/20\n",
            "1050/1050 [==============================] - 6s 6ms/step - loss: 0.0176 - accuracy: 0.9962 - val_loss: 0.0778 - val_accuracy: 0.9874\n",
            "Epoch 15/20\n",
            "1050/1050 [==============================] - 5s 5ms/step - loss: 0.0230 - accuracy: 0.9948 - val_loss: 0.1074 - val_accuracy: 0.9862\n",
            "Epoch 16/20\n",
            "1050/1050 [==============================] - 5s 5ms/step - loss: 0.0287 - accuracy: 0.9942 - val_loss: 0.0927 - val_accuracy: 0.9849\n",
            "Epoch 17/20\n",
            "1050/1050 [==============================] - 5s 4ms/step - loss: 0.0283 - accuracy: 0.9943 - val_loss: 0.0842 - val_accuracy: 0.9851\n",
            "Epoch 18/20\n",
            "1050/1050 [==============================] - 5s 5ms/step - loss: 0.0211 - accuracy: 0.9958 - val_loss: 0.0877 - val_accuracy: 0.9856\n",
            "Epoch 19/20\n",
            "1050/1050 [==============================] - 5s 5ms/step - loss: 0.0175 - accuracy: 0.9961 - val_loss: 0.1096 - val_accuracy: 0.9826\n",
            "Epoch 20/20\n",
            "1050/1050 [==============================] - 5s 4ms/step - loss: 0.0212 - accuracy: 0.9962 - val_loss: 0.1504 - val_accuracy: 0.9837\n"
          ]
        }
      ]
    },
    {
      "cell_type": "code",
      "source": [
        "show_results(hist)"
      ],
      "metadata": {
        "colab": {
          "base_uri": "https://localhost:8080/",
          "height": 344
        },
        "id": "0MQejc0Ph-hM",
        "outputId": "e270ad12-90b3-4106-b319-60fa6f3cc400"
      },
      "execution_count": 50,
      "outputs": [
        {
          "output_type": "display_data",
          "data": {
            "text/plain": [
              "<Figure size 6000x4000 with 2 Axes>"
            ],
            "image/png": "[encoded data removed]"
          },
          "metadata": {}
        }
      ]
    },
    {
      "cell_type": "markdown",
      "source": [
        "Parece que no ha funcionado todo lo bien que debería, el learning rate es demasiado alto, por eso aparecen esos saltos y oscilaciones tan grandes.Se probará bajando un poco el valor.\n",
        "\n",
        "\n",
        "#### Experimento 4\n",
        "- batch_size = 32\n",
        "- learning_rate = 0.0005"
      ],
      "metadata": {
        "id": "nY7zjORdh_uJ"
      }
    },
    {
      "cell_type": "code",
      "source": [
        "# se re-define la red\n",
        "model = basic_model()\n",
        "\n",
        "# se define el optimizador\n",
        "opt = tf.keras.optimizers.Adam(learning_rate=0.0005)\n",
        "\n",
        "# se compila el modelo\n",
        "model.compile(optimizer=opt,\n",
        "              loss= actual_loss,\n",
        "              metrics=['accuracy'])"
      ],
      "metadata": {
        "id": "py4cjw_viwBT"
      },
      "execution_count": 51,
      "outputs": []
    },
    {
      "cell_type": "code",
      "source": [
        "# Se prueba con unas 20 epochs\n",
        "\n",
        "hist = model.fit(X_train, Y_train, validation_data=(X_val, Y_val), epochs=20)"
      ],
      "metadata": {
        "colab": {
          "base_uri": "https://localhost:8080/"
        },
        "id": "850QiPQRi2T2",
        "outputId": "46e64c5c-b16b-4daa-bad1-5aecb6083aba"
      },
      "execution_count": 52,
      "outputs": [
        {
          "output_type": "stream",
          "name": "stdout",
          "text": [
            "Epoch 1/20\n",
            "1050/1050 [==============================] - 8s 5ms/step - loss: 0.2408 - accuracy: 0.9276 - val_loss: 0.0882 - val_accuracy: 0.9736\n",
            "Epoch 2/20\n",
            "1050/1050 [==============================] - 5s 4ms/step - loss: 0.0684 - accuracy: 0.9791 - val_loss: 0.0833 - val_accuracy: 0.9739\n",
            "Epoch 3/20\n",
            "1050/1050 [==============================] - 5s 5ms/step - loss: 0.0481 - accuracy: 0.9852 - val_loss: 0.0456 - val_accuracy: 0.9850\n",
            "Epoch 4/20\n",
            "1050/1050 [==============================] - 5s 5ms/step - loss: 0.0364 - accuracy: 0.9886 - val_loss: 0.0404 - val_accuracy: 0.9858\n",
            "Epoch 5/20\n",
            "1050/1050 [==============================] - 5s 4ms/step - loss: 0.0273 - accuracy: 0.9914 - val_loss: 0.0414 - val_accuracy: 0.9877\n",
            "Epoch 6/20\n",
            "1050/1050 [==============================] - 5s 5ms/step - loss: 0.0204 - accuracy: 0.9935 - val_loss: 0.0497 - val_accuracy: 0.9838\n",
            "Epoch 7/20\n",
            "1050/1050 [==============================] - 5s 4ms/step - loss: 0.0192 - accuracy: 0.9938 - val_loss: 0.0398 - val_accuracy: 0.9876\n",
            "Epoch 8/20\n",
            "1050/1050 [==============================] - 5s 4ms/step - loss: 0.0135 - accuracy: 0.9954 - val_loss: 0.0473 - val_accuracy: 0.9865\n",
            "Epoch 9/20\n",
            "1050/1050 [==============================] - 5s 5ms/step - loss: 0.0107 - accuracy: 0.9967 - val_loss: 0.0431 - val_accuracy: 0.9879\n",
            "Epoch 10/20\n",
            "1050/1050 [==============================] - 5s 5ms/step - loss: 0.0090 - accuracy: 0.9970 - val_loss: 0.0525 - val_accuracy: 0.9882\n",
            "Epoch 11/20\n",
            "1050/1050 [==============================] - 5s 5ms/step - loss: 0.0083 - accuracy: 0.9974 - val_loss: 0.0510 - val_accuracy: 0.9858\n",
            "Epoch 12/20\n",
            "1050/1050 [==============================] - 5s 5ms/step - loss: 0.0073 - accuracy: 0.9980 - val_loss: 0.0454 - val_accuracy: 0.9880\n",
            "Epoch 13/20\n",
            "1050/1050 [==============================] - 5s 5ms/step - loss: 0.0058 - accuracy: 0.9977 - val_loss: 0.0535 - val_accuracy: 0.9874\n",
            "Epoch 14/20\n",
            "1050/1050 [==============================] - 5s 5ms/step - loss: 0.0062 - accuracy: 0.9979 - val_loss: 0.0428 - val_accuracy: 0.9901\n",
            "Epoch 15/20\n",
            "1050/1050 [==============================] - 5s 5ms/step - loss: 0.0051 - accuracy: 0.9983 - val_loss: 0.0477 - val_accuracy: 0.9876\n",
            "Epoch 16/20\n",
            "1050/1050 [==============================] - 5s 5ms/step - loss: 0.0054 - accuracy: 0.9981 - val_loss: 0.0495 - val_accuracy: 0.9870\n",
            "Epoch 17/20\n",
            "1050/1050 [==============================] - 5s 4ms/step - loss: 0.0050 - accuracy: 0.9984 - val_loss: 0.0600 - val_accuracy: 0.9874\n",
            "Epoch 18/20\n",
            "1050/1050 [==============================] - 6s 5ms/step - loss: 0.0034 - accuracy: 0.9991 - val_loss: 0.0451 - val_accuracy: 0.9906\n",
            "Epoch 19/20\n",
            "1050/1050 [==============================] - 5s 4ms/step - loss: 4.1723e-04 - accuracy: 0.9999 - val_loss: 0.0448 - val_accuracy: 0.9914\n",
            "Epoch 20/20\n",
            "1050/1050 [==============================] - 5s 4ms/step - loss: 0.0063 - accuracy: 0.9981 - val_loss: 0.0502 - val_accuracy: 0.9900\n"
          ]
        }
      ]
    },
    {
      "cell_type": "code",
      "source": [
        "show_results(hist)"
      ],
      "metadata": {
        "colab": {
          "base_uri": "https://localhost:8080/",
          "height": 344
        },
        "id": "GfPWnBzri_e4",
        "outputId": "04373006-d9c7-4220-f267-9de3462645e9"
      },
      "execution_count": 53,
      "outputs": [
        {
          "output_type": "display_data",
          "data": {
            "text/plain": [
              "<Figure size 6000x4000 with 2 Axes>"
            ],
            "image/png": "[encoded data removed]"
          },
          "metadata": {}
        }
      ]
    },
    {
      "cell_type": "markdown",
      "source": [
        "Este valor ha funcionado algo mejor, aunque el mejor valor para el learning rate parece ser 0.001. Todo un acierto empezar con dicho valor.\n",
        "\n",
        "\n",
        "Antes de terminar con esto, se va a hacer una última prueba donde se va a incluir el batch normalization en la red.\n",
        "\n",
        "#### Experimento 5\n",
        "- batch_size = 32\n",
        "- learning_rate = 0.001\n",
        "- BatchNormalization"
      ],
      "metadata": {
        "id": "ZLyx4rNYjEB5"
      }
    },
    {
      "cell_type": "code",
      "source": [
        "# hay que hacerlo antes de la activación,\n",
        "# por lo que hay que quitar el parámetro de la capa conv y dense\n",
        "\n",
        "model = tf.keras.models.Sequential([\n",
        "    tf.keras.layers.Conv2D(32, (3, 3), padding=\"same\", input_shape=(28,28,1)),\n",
        "    tf.keras.layers.BatchNormalization(),\n",
        "    tf.keras.layers.Activation('relu'),\n",
        "    tf.keras.layers.MaxPool2D(pool_size=(2, 2), strides=(2, 2), padding=\"same\"),\n",
        "\n",
        "    tf.keras.layers.Conv2D(64, (3, 3), padding=\"same\"),\n",
        "    tf.keras.layers.BatchNormalization(),\n",
        "    tf.keras.layers.Activation('relu'),\n",
        "    tf.keras.layers.MaxPool2D(pool_size=(2, 2), strides=(2, 2), padding=\"same\"),\n",
        "\n",
        "    tf.keras.layers.Flatten(),\n",
        "\n",
        "    tf.keras.layers.Dense(128),\n",
        "    tf.keras.layers.BatchNormalization(),\n",
        "    tf.keras.layers.Activation('relu'),\n",
        "\n",
        "    tf.keras.layers.Dense(64),\n",
        "    tf.keras.layers.BatchNormalization(),\n",
        "    tf.keras.layers.Activation('relu'),\n",
        "\n",
        "    tf.keras.layers.Dense(10, activation=\"softmax\")\n",
        "])\n",
        "\n",
        "# se define el optimizador\n",
        "opt = tf.keras.optimizers.Adam(learning_rate=0.001)\n",
        "\n",
        "# se compila el modelo\n",
        "model.compile(optimizer=opt,\n",
        "              loss= actual_loss,\n",
        "              metrics=['accuracy'])"
      ],
      "metadata": {
        "id": "08jIGK3njti3"
      },
      "execution_count": 54,
      "outputs": []
    },
    {
      "cell_type": "code",
      "source": [
        "# Se prueba con unas 20 epochs\n",
        "\n",
        "hist = model.fit(X_train, Y_train, validation_data=(X_val, Y_val), epochs=20)"
      ],
      "metadata": {
        "colab": {
          "base_uri": "https://localhost:8080/"
        },
        "id": "RDd2jedQj8WC",
        "outputId": "a6712ec2-dd10-48d6-a94c-e083b63551d0"
      },
      "execution_count": 55,
      "outputs": [
        {
          "output_type": "stream",
          "name": "stdout",
          "text": [
            "Epoch 1/20\n",
            "1050/1050 [==============================] - 10s 7ms/step - loss: 0.1509 - accuracy: 0.9607 - val_loss: 0.0562 - val_accuracy: 0.9843\n",
            "Epoch 2/20\n",
            "1050/1050 [==============================] - 7s 7ms/step - loss: 0.0565 - accuracy: 0.9831 - val_loss: 0.0404 - val_accuracy: 0.9873\n",
            "Epoch 3/20\n",
            "1050/1050 [==============================] - 8s 8ms/step - loss: 0.0397 - accuracy: 0.9879 - val_loss: 0.0366 - val_accuracy: 0.9892\n",
            "Epoch 4/20\n",
            "1050/1050 [==============================] - 7s 7ms/step - loss: 0.0305 - accuracy: 0.9905 - val_loss: 0.0579 - val_accuracy: 0.9827\n",
            "Epoch 5/20\n",
            "1050/1050 [==============================] - 7s 6ms/step - loss: 0.0263 - accuracy: 0.9915 - val_loss: 0.0436 - val_accuracy: 0.9867\n",
            "Epoch 6/20\n",
            "1050/1050 [==============================] - 7s 7ms/step - loss: 0.0175 - accuracy: 0.9942 - val_loss: 0.0381 - val_accuracy: 0.9880\n",
            "Epoch 7/20\n",
            "1050/1050 [==============================] - 6s 6ms/step - loss: 0.0186 - accuracy: 0.9939 - val_loss: 0.0319 - val_accuracy: 0.9901\n",
            "Epoch 8/20\n",
            "1050/1050 [==============================] - 7s 7ms/step - loss: 0.0136 - accuracy: 0.9954 - val_loss: 0.0531 - val_accuracy: 0.9856\n",
            "Epoch 9/20\n",
            "1050/1050 [==============================] - 6s 6ms/step - loss: 0.0136 - accuracy: 0.9954 - val_loss: 0.0465 - val_accuracy: 0.9873\n",
            "Epoch 10/20\n",
            "1050/1050 [==============================] - 7s 7ms/step - loss: 0.0103 - accuracy: 0.9966 - val_loss: 0.0410 - val_accuracy: 0.9887\n",
            "Epoch 11/20\n",
            "1050/1050 [==============================] - 6s 6ms/step - loss: 0.0096 - accuracy: 0.9969 - val_loss: 0.0358 - val_accuracy: 0.9896\n",
            "Epoch 12/20\n",
            "1050/1050 [==============================] - 10s 9ms/step - loss: 0.0101 - accuracy: 0.9969 - val_loss: 0.0372 - val_accuracy: 0.9893\n",
            "Epoch 13/20\n",
            "1050/1050 [==============================] - 7s 7ms/step - loss: 0.0083 - accuracy: 0.9975 - val_loss: 0.0415 - val_accuracy: 0.9873\n",
            "Epoch 14/20\n",
            "1050/1050 [==============================] - 6s 6ms/step - loss: 0.0090 - accuracy: 0.9972 - val_loss: 0.0326 - val_accuracy: 0.9905\n",
            "Epoch 15/20\n",
            "1050/1050 [==============================] - 7s 7ms/step - loss: 0.0076 - accuracy: 0.9976 - val_loss: 0.0334 - val_accuracy: 0.9901\n",
            "Epoch 16/20\n",
            "1050/1050 [==============================] - 6s 6ms/step - loss: 0.0046 - accuracy: 0.9985 - val_loss: 0.0303 - val_accuracy: 0.9926\n",
            "Epoch 17/20\n",
            "1050/1050 [==============================] - 7s 7ms/step - loss: 0.0080 - accuracy: 0.9973 - val_loss: 0.0561 - val_accuracy: 0.9839\n",
            "Epoch 18/20\n",
            "1050/1050 [==============================] - 6s 6ms/step - loss: 0.0058 - accuracy: 0.9979 - val_loss: 0.0257 - val_accuracy: 0.9935\n",
            "Epoch 19/20\n",
            "1050/1050 [==============================] - 7s 7ms/step - loss: 0.0048 - accuracy: 0.9984 - val_loss: 0.0385 - val_accuracy: 0.9908\n",
            "Epoch 20/20\n",
            "1050/1050 [==============================] - 6s 6ms/step - loss: 0.0045 - accuracy: 0.9984 - val_loss: 0.0364 - val_accuracy: 0.9913\n"
          ]
        }
      ]
    },
    {
      "cell_type": "code",
      "source": [
        "show_results(hist)"
      ],
      "metadata": {
        "colab": {
          "base_uri": "https://localhost:8080/",
          "height": 344
        },
        "id": "YoAIHGbGkI-y",
        "outputId": "590394be-e062-47f8-d665-4fb2a5315b34"
      },
      "execution_count": 56,
      "outputs": [
        {
          "output_type": "display_data",
          "data": {
            "text/plain": [
              "<Figure size 6000x4000 with 2 Axes>"
            ],
            "image/png": "[encoded data removed]"
          },
          "metadata": {}
        }
      ]
    },
    {
      "cell_type": "markdown",
      "source": [
        "Se aprecia algo de sobreajuste. Se va a probar a eliminar dicho sobreajuste añadiendo dropout.\n",
        "\n",
        "#### Experimento 6\n",
        "- batch_size = 32\n",
        "- learning_rate = 0.001\n",
        "- BatchNormalization\n",
        "- Dropout = 0.25"
      ],
      "metadata": {
        "id": "XsSN1HxEkMh1"
      }
    },
    {
      "cell_type": "code",
      "source": [
        "# Se tiene que tener en cuenta que hay que hacerlo antes de la activación,\n",
        "# por lo que hay que quitar el parámetro de la capa conv y dense\n",
        "\n",
        "model = tf.keras.models.Sequential([\n",
        "    tf.keras.layers.Conv2D(32, (3, 3), padding=\"same\", input_shape=(28, 28, 1)),\n",
        "    tf.keras.layers.BatchNormalization(),\n",
        "    tf.keras.layers.Activation('relu'),\n",
        "    tf.keras.layers.MaxPool2D(pool_size=(2, 2), strides=(2, 2), padding=\"same\"),\n",
        "\n",
        "    tf.keras.layers.Conv2D(64, (3, 3), padding=\"same\"),\n",
        "    tf.keras.layers.BatchNormalization(),\n",
        "    tf.keras.layers.Activation('relu'),\n",
        "    tf.keras.layers.MaxPool2D(pool_size=(2, 2), strides=(2, 2), padding=\"same\"),\n",
        "\n",
        "    tf.keras.layers.Flatten(),\n",
        "\n",
        "    tf.keras.layers.Dense(128, activation='relu'),\n",
        "    tf.keras.layers.Dropout(0.25),\n",
        "\n",
        "    tf.keras.layers.Dense(64, activation='relu'),\n",
        "    tf.keras.layers.Dropout(0.25),\n",
        "\n",
        "    tf.keras.layers.Dense(10, activation=\"softmax\")\n",
        "])\n",
        "\n",
        "# se define el optimizador\n",
        "opt = tf.keras.optimizers.Adam(learning_rate=0.001)\n",
        "\n",
        "# se compila el modelo\n",
        "model.compile(optimizer=opt,\n",
        "              loss= actual_loss,\n",
        "              metrics=['accuracy'])"
      ],
      "metadata": {
        "id": "Q2v0WKDgljBJ"
      },
      "execution_count": 57,
      "outputs": []
    },
    {
      "cell_type": "code",
      "source": [
        "hist = model.fit(X_train, Y_train, validation_data=(X_val, Y_val), epochs=20)"
      ],
      "metadata": {
        "colab": {
          "base_uri": "https://localhost:8080/"
        },
        "id": "dU6SH9aulqES",
        "outputId": "c523556d-9811-496a-afb6-bc533ac975d3"
      },
      "execution_count": 58,
      "outputs": [
        {
          "output_type": "stream",
          "name": "stdout",
          "text": [
            "Epoch 1/20\n",
            "1050/1050 [==============================] - 9s 6ms/step - loss: 0.3355 - accuracy: 0.8957 - val_loss: 0.0997 - val_accuracy: 0.9729\n",
            "Epoch 2/20\n",
            "1050/1050 [==============================] - 5s 5ms/step - loss: 0.1217 - accuracy: 0.9640 - val_loss: 0.0820 - val_accuracy: 0.9736\n",
            "Epoch 3/20\n",
            "1050/1050 [==============================] - 6s 6ms/step - loss: 0.0867 - accuracy: 0.9756 - val_loss: 0.0458 - val_accuracy: 0.9852\n",
            "Epoch 4/20\n",
            "1050/1050 [==============================] - 5s 5ms/step - loss: 0.0724 - accuracy: 0.9798 - val_loss: 0.0564 - val_accuracy: 0.9843\n",
            "Epoch 5/20\n",
            "1050/1050 [==============================] - 8s 7ms/step - loss: 0.0647 - accuracy: 0.9811 - val_loss: 0.0771 - val_accuracy: 0.9757\n",
            "Epoch 6/20\n",
            "1050/1050 [==============================] - 7s 6ms/step - loss: 0.0563 - accuracy: 0.9837 - val_loss: 0.0841 - val_accuracy: 0.9764\n",
            "Epoch 7/20\n",
            "1050/1050 [==============================] - 6s 6ms/step - loss: 0.0480 - accuracy: 0.9865 - val_loss: 0.0373 - val_accuracy: 0.9899\n",
            "Epoch 8/20\n",
            "1050/1050 [==============================] - 5s 5ms/step - loss: 0.0436 - accuracy: 0.9868 - val_loss: 0.0854 - val_accuracy: 0.9754\n",
            "Epoch 9/20\n",
            "1050/1050 [==============================] - 6s 6ms/step - loss: 0.0406 - accuracy: 0.9886 - val_loss: 0.0358 - val_accuracy: 0.9901\n",
            "Epoch 10/20\n",
            "1050/1050 [==============================] - 5s 5ms/step - loss: 0.0357 - accuracy: 0.9898 - val_loss: 0.0463 - val_accuracy: 0.9887\n",
            "Epoch 11/20\n",
            "1050/1050 [==============================] - 7s 6ms/step - loss: 0.0322 - accuracy: 0.9911 - val_loss: 0.0381 - val_accuracy: 0.9900\n",
            "Epoch 12/20\n",
            "1050/1050 [==============================] - 6s 6ms/step - loss: 0.0286 - accuracy: 0.9914 - val_loss: 0.0407 - val_accuracy: 0.9904\n",
            "Epoch 13/20\n",
            "1050/1050 [==============================] - 7s 6ms/step - loss: 0.0288 - accuracy: 0.9915 - val_loss: 0.0431 - val_accuracy: 0.9892\n",
            "Epoch 14/20\n",
            "1050/1050 [==============================] - 5s 5ms/step - loss: 0.0235 - accuracy: 0.9933 - val_loss: 0.0456 - val_accuracy: 0.9893\n",
            "Epoch 15/20\n",
            "1050/1050 [==============================] - 6s 6ms/step - loss: 0.0245 - accuracy: 0.9924 - val_loss: 0.0441 - val_accuracy: 0.9896\n",
            "Epoch 16/20\n",
            "1050/1050 [==============================] - 5s 5ms/step - loss: 0.0251 - accuracy: 0.9928 - val_loss: 0.0480 - val_accuracy: 0.9877\n",
            "Epoch 17/20\n",
            "1050/1050 [==============================] - 6s 6ms/step - loss: 0.0220 - accuracy: 0.9938 - val_loss: 0.0437 - val_accuracy: 0.9887\n",
            "Epoch 18/20\n",
            "1050/1050 [==============================] - 6s 6ms/step - loss: 0.0200 - accuracy: 0.9944 - val_loss: 0.0375 - val_accuracy: 0.9901\n",
            "Epoch 19/20\n",
            "1050/1050 [==============================] - 6s 6ms/step - loss: 0.0182 - accuracy: 0.9939 - val_loss: 0.0544 - val_accuracy: 0.9886\n",
            "Epoch 20/20\n",
            "1050/1050 [==============================] - 6s 5ms/step - loss: 0.0153 - accuracy: 0.9952 - val_loss: 0.0414 - val_accuracy: 0.9899\n"
          ]
        }
      ]
    },
    {
      "cell_type": "code",
      "source": [
        "show_results(hist)"
      ],
      "metadata": {
        "colab": {
          "base_uri": "https://localhost:8080/",
          "height": 344
        },
        "id": "qQca6n86lvo3",
        "outputId": "b63a817f-c971-457b-e802-8cd4c58eedb8"
      },
      "execution_count": 59,
      "outputs": [
        {
          "output_type": "display_data",
          "data": {
            "text/plain": [
              "<Figure size 6000x4000 with 2 Axes>"
            ],
            "image/png": "[encoded data removed]"
          },
          "metadata": {}
        }
      ]
    },
    {
      "cell_type": "markdown",
      "source": [
        "Con la siguiente línea de código se guarda este modelo, ya que con él se obtienen buenos resultados. Se consiguió un score de **99.039** en la competición de *Kaggle*."
      ],
      "metadata": {
        "id": "Fu44nQSbl5ER"
      }
    },
    {
      "cell_type": "code",
      "source": [
        "model.save('my_model_experimento_6.keras')"
      ],
      "metadata": {
        "id": "MORcHYQyl3_Z"
      },
      "execution_count": 60,
      "outputs": []
    },
    {
      "cell_type": "markdown",
      "source": [
        "A continuaión se dejará sólo la capa de *dropout*, eliminando la de *batch* *normalization*."
      ],
      "metadata": {
        "id": "SRUZWNDems6O"
      }
    },
    {
      "cell_type": "markdown",
      "source": [
        "#### Experimento 7\n",
        "- batch_size = 32\n",
        "- learning_rate = 0.001\n",
        "- Dropout = 0.25"
      ],
      "metadata": {
        "id": "UlynR_9Jmde-"
      }
    },
    {
      "cell_type": "code",
      "source": [
        "# Hay que hacerlo antes de la activación,\n",
        "# por lo que hay que quitar el parámetro de la capa conv y dense\n",
        "\n",
        "model2 = tf.keras.models.Sequential([\n",
        "    tf.keras.layers.Conv2D(32, (3, 3), padding=\"same\", activation='relu', input_shape=(28,28,1)),\n",
        "    tf.keras.layers.MaxPool2D(pool_size=(2, 2), strides=(2, 2), padding=\"same\"),\n",
        "\n",
        "    tf.keras.layers.Conv2D(64, (3, 3), activation='relu', padding=\"same\"),\n",
        "    tf.keras.layers.MaxPool2D(pool_size=(2, 2), strides=(2, 2), padding=\"same\"),\n",
        "\n",
        "    tf.keras.layers.Flatten(),\n",
        "\n",
        "    tf.keras.layers.Dense(128, activation='relu'),\n",
        "    tf.keras.layers.Dropout(0.25),\n",
        "\n",
        "    tf.keras.layers.Dense(64, activation='relu'),\n",
        "    tf.keras.layers.Dropout(0.25),\n",
        "\n",
        "    tf.keras.layers.Dense(10, activation=\"softmax\")\n",
        "])\n",
        "\n",
        "# Se define el optimizador\n",
        "opt = tf.keras.optimizers.Adam(learning_rate=0.001)\n",
        "\n",
        "# Se compila el modelo\n",
        "model2.compile(optimizer=opt,\n",
        "              loss= actual_loss,\n",
        "              metrics=['accuracy'])"
      ],
      "metadata": {
        "id": "TtuXcD2jmmYR"
      },
      "execution_count": 61,
      "outputs": []
    },
    {
      "cell_type": "code",
      "source": [
        "hist = model2.fit(X_train, Y_train, validation_data=(X_val, Y_val), epochs=20)"
      ],
      "metadata": {
        "colab": {
          "base_uri": "https://localhost:8080/"
        },
        "id": "IlsP8VJOnFGV",
        "outputId": "4a9a3f9f-0e3b-4cc4-bc25-a57236415c06"
      },
      "execution_count": 62,
      "outputs": [
        {
          "output_type": "stream",
          "name": "stdout",
          "text": [
            "Epoch 1/20\n",
            "1050/1050 [==============================] - 7s 5ms/step - loss: 0.2710 - accuracy: 0.9169 - val_loss: 0.0769 - val_accuracy: 0.9780\n",
            "Epoch 2/20\n",
            "1050/1050 [==============================] - 5s 5ms/step - loss: 0.0870 - accuracy: 0.9749 - val_loss: 0.0607 - val_accuracy: 0.9827\n",
            "Epoch 3/20\n",
            "1050/1050 [==============================] - 6s 6ms/step - loss: 0.0601 - accuracy: 0.9816 - val_loss: 0.0387 - val_accuracy: 0.9873\n",
            "Epoch 4/20\n",
            "1050/1050 [==============================] - 7s 7ms/step - loss: 0.0479 - accuracy: 0.9862 - val_loss: 0.0379 - val_accuracy: 0.9877\n",
            "Epoch 5/20\n",
            "1050/1050 [==============================] - 6s 6ms/step - loss: 0.0402 - accuracy: 0.9880 - val_loss: 0.0368 - val_accuracy: 0.9892\n",
            "Epoch 6/20\n",
            "1050/1050 [==============================] - 6s 6ms/step - loss: 0.0311 - accuracy: 0.9911 - val_loss: 0.0479 - val_accuracy: 0.9869\n",
            "Epoch 7/20\n",
            "1050/1050 [==============================] - 6s 5ms/step - loss: 0.0299 - accuracy: 0.9912 - val_loss: 0.0379 - val_accuracy: 0.9896\n",
            "Epoch 8/20\n",
            "1050/1050 [==============================] - 7s 7ms/step - loss: 0.0254 - accuracy: 0.9922 - val_loss: 0.0434 - val_accuracy: 0.9890\n",
            "Epoch 9/20\n",
            "1050/1050 [==============================] - 5s 5ms/step - loss: 0.0228 - accuracy: 0.9932 - val_loss: 0.0412 - val_accuracy: 0.9895\n",
            "Epoch 10/20\n",
            "1050/1050 [==============================] - 5s 5ms/step - loss: 0.0194 - accuracy: 0.9937 - val_loss: 0.0408 - val_accuracy: 0.9904\n",
            "Epoch 11/20\n",
            "1050/1050 [==============================] - 5s 5ms/step - loss: 0.0152 - accuracy: 0.9955 - val_loss: 0.0421 - val_accuracy: 0.9902\n",
            "Epoch 12/20\n",
            "1050/1050 [==============================] - 5s 5ms/step - loss: 0.0192 - accuracy: 0.9939 - val_loss: 0.0368 - val_accuracy: 0.9892\n",
            "Epoch 13/20\n",
            "1050/1050 [==============================] - 5s 5ms/step - loss: 0.0136 - accuracy: 0.9954 - val_loss: 0.0545 - val_accuracy: 0.9875\n",
            "Epoch 14/20\n",
            "1050/1050 [==============================] - 4s 4ms/step - loss: 0.0166 - accuracy: 0.9951 - val_loss: 0.0481 - val_accuracy: 0.9876\n",
            "Epoch 15/20\n",
            "1050/1050 [==============================] - 6s 5ms/step - loss: 0.0148 - accuracy: 0.9956 - val_loss: 0.0436 - val_accuracy: 0.9898\n",
            "Epoch 16/20\n",
            "1050/1050 [==============================] - 5s 5ms/step - loss: 0.0135 - accuracy: 0.9961 - val_loss: 0.0536 - val_accuracy: 0.9882\n",
            "Epoch 17/20\n",
            "1050/1050 [==============================] - 7s 7ms/step - loss: 0.0100 - accuracy: 0.9971 - val_loss: 0.0472 - val_accuracy: 0.9895\n",
            "Epoch 18/20\n",
            "1050/1050 [==============================] - 5s 4ms/step - loss: 0.0099 - accuracy: 0.9971 - val_loss: 0.0569 - val_accuracy: 0.9885\n",
            "Epoch 19/20\n",
            "1050/1050 [==============================] - 5s 4ms/step - loss: 0.0109 - accuracy: 0.9970 - val_loss: 0.0493 - val_accuracy: 0.9905\n",
            "Epoch 20/20\n",
            "1050/1050 [==============================] - 7s 6ms/step - loss: 0.0112 - accuracy: 0.9966 - val_loss: 0.0542 - val_accuracy: 0.9895\n"
          ]
        }
      ]
    },
    {
      "cell_type": "code",
      "source": [
        "show_results(hist)"
      ],
      "metadata": {
        "colab": {
          "base_uri": "https://localhost:8080/",
          "height": 344
        },
        "id": "LUVs7YXznI7P",
        "outputId": "fa1e8125-367b-440d-d1a1-08efaee8d348"
      },
      "execution_count": 63,
      "outputs": [
        {
          "output_type": "display_data",
          "data": {
            "text/plain": [
              "<Figure size 6000x4000 with 2 Axes>"
            ],
            "image/png": "[encoded data removed]"
          },
          "metadata": {}
        }
      ]
    },
    {
      "cell_type": "markdown",
      "source": [
        "Se guardará también este modelo, ya que genera buenos resultados también. Con este modelo se consiguió un score de **98.921** en la competición de *Kaggle*."
      ],
      "metadata": {
        "id": "sq6w2_sKnPkL"
      }
    },
    {
      "cell_type": "code",
      "source": [
        "model2.save('my_model_experimento_7.keras')"
      ],
      "metadata": {
        "id": "Gcw9cAVDnY6o"
      },
      "execution_count": 64,
      "outputs": []
    },
    {
      "cell_type": "markdown",
      "source": [
        "#### Experimento 8\n",
        "- batch_size = 32\n",
        "- learning_rate = 0.001\n",
        "- Dropout = 0.25\n",
        "- Epochs = 40"
      ],
      "metadata": {
        "id": "PKWB-Vpwn15r"
      }
    },
    {
      "cell_type": "code",
      "source": [
        "model3 = tf.keras.models.Sequential([\n",
        "    tf.keras.layers.Conv2D(32, (3, 3), padding=\"same\", input_shape=(28, 28, 1)),\n",
        "    tf.keras.layers.BatchNormalization(),\n",
        "    tf.keras.layers.Activation('relu'),\n",
        "    tf.keras.layers.MaxPool2D(pool_size=(2, 2), strides=(2, 2), padding=\"same\"),\n",
        "\n",
        "    tf.keras.layers.Conv2D(64, (3, 3), padding=\"same\"),\n",
        "    tf.keras.layers.BatchNormalization(),\n",
        "    tf.keras.layers.Activation('relu'),\n",
        "    tf.keras.layers.MaxPool2D(pool_size=(2, 2), strides=(2, 2), padding=\"same\"),\n",
        "\n",
        "    tf.keras.layers.Flatten(),\n",
        "\n",
        "    tf.keras.layers.Dense(128, activation='relu'),\n",
        "    tf.keras.layers.Dropout(0.25),\n",
        "\n",
        "    tf.keras.layers.Dense(64, activation='relu'),\n",
        "    tf.keras.layers.Dropout(0.25),\n",
        "\n",
        "    tf.keras.layers.Dense(10, activation=\"softmax\")\n",
        "])\n",
        "\n",
        "# se define el optimizador\n",
        "opt = tf.keras.optimizers.Adam(learning_rate=0.0005)\n",
        "\n",
        "# se compila el modelo\n",
        "model3.compile(optimizer=opt,\n",
        "              loss= actual_loss,\n",
        "              metrics=['accuracy'])"
      ],
      "metadata": {
        "id": "-J3XcgmWn3g0"
      },
      "execution_count": 65,
      "outputs": []
    },
    {
      "cell_type": "code",
      "source": [
        "hist = model3.fit(X_train, Y_train, validation_data=(X_val, Y_val), epochs=40)"
      ],
      "metadata": {
        "colab": {
          "base_uri": "https://localhost:8080/"
        },
        "id": "r0EdbrELoECs",
        "outputId": "7305a6ae-a748-43ba-9bec-7f5abe351c1a"
      },
      "execution_count": 66,
      "outputs": [
        {
          "output_type": "stream",
          "name": "stdout",
          "text": [
            "Epoch 1/40\n",
            "1050/1050 [==============================] - 10s 7ms/step - loss: 0.3594 - accuracy: 0.8887 - val_loss: 0.1043 - val_accuracy: 0.9705\n",
            "Epoch 2/40\n",
            "1050/1050 [==============================] - 5s 5ms/step - loss: 0.1283 - accuracy: 0.9626 - val_loss: 0.0660 - val_accuracy: 0.9821\n",
            "Epoch 3/40\n",
            "1050/1050 [==============================] - 6s 6ms/step - loss: 0.0916 - accuracy: 0.9740 - val_loss: 0.0567 - val_accuracy: 0.9833\n",
            "Epoch 4/40\n",
            "1050/1050 [==============================] - 5s 5ms/step - loss: 0.0774 - accuracy: 0.9782 - val_loss: 0.0527 - val_accuracy: 0.9843\n",
            "Epoch 5/40\n",
            "1050/1050 [==============================] - 6s 6ms/step - loss: 0.0648 - accuracy: 0.9812 - val_loss: 0.0406 - val_accuracy: 0.9888\n",
            "Epoch 6/40\n",
            "1050/1050 [==============================] - 6s 6ms/step - loss: 0.0534 - accuracy: 0.9844 - val_loss: 0.0486 - val_accuracy: 0.9862\n",
            "Epoch 7/40\n",
            "1050/1050 [==============================] - 6s 5ms/step - loss: 0.0478 - accuracy: 0.9858 - val_loss: 0.0597 - val_accuracy: 0.9838\n",
            "Epoch 8/40\n",
            "1050/1050 [==============================] - 6s 5ms/step - loss: 0.0440 - accuracy: 0.9871 - val_loss: 0.0412 - val_accuracy: 0.9888\n",
            "Epoch 9/40\n",
            "1050/1050 [==============================] - 5s 5ms/step - loss: 0.0397 - accuracy: 0.9877 - val_loss: 0.0457 - val_accuracy: 0.9882\n",
            "Epoch 10/40\n",
            "1050/1050 [==============================] - 6s 6ms/step - loss: 0.0338 - accuracy: 0.9900 - val_loss: 0.0465 - val_accuracy: 0.9870\n",
            "Epoch 11/40\n",
            "1050/1050 [==============================] - 5s 5ms/step - loss: 0.0333 - accuracy: 0.9895 - val_loss: 0.0635 - val_accuracy: 0.9836\n",
            "Epoch 12/40\n",
            "1050/1050 [==============================] - 6s 6ms/step - loss: 0.0260 - accuracy: 0.9923 - val_loss: 0.0453 - val_accuracy: 0.9885\n",
            "Epoch 13/40\n",
            "1050/1050 [==============================] - 6s 6ms/step - loss: 0.0259 - accuracy: 0.9923 - val_loss: 0.0512 - val_accuracy: 0.9885\n",
            "Epoch 14/40\n",
            "1050/1050 [==============================] - 6s 6ms/step - loss: 0.0234 - accuracy: 0.9931 - val_loss: 0.0360 - val_accuracy: 0.9901\n",
            "Epoch 15/40\n",
            "1050/1050 [==============================] - 6s 6ms/step - loss: 0.0226 - accuracy: 0.9931 - val_loss: 0.0369 - val_accuracy: 0.9914\n",
            "Epoch 16/40\n",
            "1050/1050 [==============================] - 6s 6ms/step - loss: 0.0177 - accuracy: 0.9944 - val_loss: 0.0583 - val_accuracy: 0.9877\n",
            "Epoch 17/40\n",
            "1050/1050 [==============================] - 5s 5ms/step - loss: 0.0167 - accuracy: 0.9948 - val_loss: 0.0452 - val_accuracy: 0.9906\n",
            "Epoch 18/40\n",
            "1050/1050 [==============================] - 7s 6ms/step - loss: 0.0196 - accuracy: 0.9945 - val_loss: 0.0469 - val_accuracy: 0.9911\n",
            "Epoch 19/40\n",
            "1050/1050 [==============================] - 5s 5ms/step - loss: 0.0174 - accuracy: 0.9943 - val_loss: 0.0663 - val_accuracy: 0.9871\n",
            "Epoch 20/40\n",
            "1050/1050 [==============================] - 6s 6ms/step - loss: 0.0165 - accuracy: 0.9951 - val_loss: 0.0514 - val_accuracy: 0.9886\n",
            "Epoch 21/40\n",
            "1050/1050 [==============================] - 5s 5ms/step - loss: 0.0150 - accuracy: 0.9955 - val_loss: 0.0380 - val_accuracy: 0.9917\n",
            "Epoch 22/40\n",
            "1050/1050 [==============================] - 6s 6ms/step - loss: 0.0135 - accuracy: 0.9957 - val_loss: 0.0537 - val_accuracy: 0.9886\n",
            "Epoch 23/40\n",
            "1050/1050 [==============================] - 5s 5ms/step - loss: 0.0150 - accuracy: 0.9954 - val_loss: 0.0426 - val_accuracy: 0.9906\n",
            "Epoch 24/40\n",
            "1050/1050 [==============================] - 5s 5ms/step - loss: 0.0128 - accuracy: 0.9960 - val_loss: 0.0444 - val_accuracy: 0.9915\n",
            "Epoch 25/40\n",
            "1050/1050 [==============================] - 6s 6ms/step - loss: 0.0147 - accuracy: 0.9957 - val_loss: 0.0449 - val_accuracy: 0.9899\n",
            "Epoch 26/40\n",
            "1050/1050 [==============================] - 6s 6ms/step - loss: 0.0097 - accuracy: 0.9969 - val_loss: 0.0376 - val_accuracy: 0.9912\n",
            "Epoch 27/40\n",
            "1050/1050 [==============================] - 6s 6ms/step - loss: 0.0123 - accuracy: 0.9962 - val_loss: 0.0507 - val_accuracy: 0.9904\n",
            "Epoch 28/40\n",
            "1050/1050 [==============================] - 5s 5ms/step - loss: 0.0100 - accuracy: 0.9967 - val_loss: 0.0420 - val_accuracy: 0.9925\n",
            "Epoch 29/40\n",
            "1050/1050 [==============================] - 6s 6ms/step - loss: 0.0112 - accuracy: 0.9968 - val_loss: 0.0613 - val_accuracy: 0.9900\n",
            "Epoch 30/40\n",
            "1050/1050 [==============================] - 5s 5ms/step - loss: 0.0109 - accuracy: 0.9966 - val_loss: 0.0574 - val_accuracy: 0.9906\n",
            "Epoch 31/40\n",
            "1050/1050 [==============================] - 6s 6ms/step - loss: 0.0100 - accuracy: 0.9971 - val_loss: 0.0423 - val_accuracy: 0.9925\n",
            "Epoch 32/40\n",
            "1050/1050 [==============================] - 5s 5ms/step - loss: 0.0085 - accuracy: 0.9974 - val_loss: 0.0530 - val_accuracy: 0.9900\n",
            "Epoch 33/40\n",
            "1050/1050 [==============================] - 7s 6ms/step - loss: 0.0113 - accuracy: 0.9966 - val_loss: 0.0486 - val_accuracy: 0.9902\n",
            "Epoch 34/40\n",
            "1050/1050 [==============================] - 6s 6ms/step - loss: 0.0083 - accuracy: 0.9976 - val_loss: 0.0444 - val_accuracy: 0.9921\n",
            "Epoch 35/40\n",
            "1050/1050 [==============================] - 6s 6ms/step - loss: 0.0082 - accuracy: 0.9974 - val_loss: 0.0466 - val_accuracy: 0.9913\n",
            "Epoch 36/40\n",
            "1050/1050 [==============================] - 5s 5ms/step - loss: 0.0078 - accuracy: 0.9975 - val_loss: 0.0435 - val_accuracy: 0.9911\n",
            "Epoch 37/40\n",
            "1050/1050 [==============================] - 6s 6ms/step - loss: 0.0087 - accuracy: 0.9977 - val_loss: 0.0613 - val_accuracy: 0.9899\n",
            "Epoch 38/40\n",
            "1050/1050 [==============================] - 5s 5ms/step - loss: 0.0059 - accuracy: 0.9985 - val_loss: 0.0467 - val_accuracy: 0.9913\n",
            "Epoch 39/40\n",
            "1050/1050 [==============================] - 5s 5ms/step - loss: 0.0079 - accuracy: 0.9975 - val_loss: 0.0528 - val_accuracy: 0.9905\n",
            "Epoch 40/40\n",
            "1050/1050 [==============================] - 6s 5ms/step - loss: 0.0064 - accuracy: 0.9980 - val_loss: 0.0510 - val_accuracy: 0.9920\n"
          ]
        }
      ]
    },
    {
      "cell_type": "code",
      "source": [
        "show_results(hist)"
      ],
      "metadata": {
        "colab": {
          "base_uri": "https://localhost:8080/",
          "height": 344
        },
        "id": "pGU2L6ceoI4_",
        "outputId": "b6650314-d55c-46f9-c819-ffda554be4ce"
      },
      "execution_count": 67,
      "outputs": [
        {
          "output_type": "display_data",
          "data": {
            "text/plain": [
              "<Figure size 6000x4000 with 2 Axes>"
            ],
            "image/png": "[encoded data removed]"
          },
          "metadata": {}
        }
      ]
    },
    {
      "cell_type": "markdown",
      "source": [
        "Se guardará también este modelo, ya que genera buenos resultados también. Con este modelo se consiguió un score de **98.964** en la competición de *Kaggle*."
      ],
      "metadata": {
        "id": "-1WQO4piz0Ky"
      }
    },
    {
      "cell_type": "code",
      "source": [
        "model3.save('my_model_experimento_8.keras')"
      ],
      "metadata": {
        "id": "G1NuJFUFpp0g"
      },
      "execution_count": 68,
      "outputs": []
    },
    {
      "cell_type": "markdown",
      "source": [
        "<a id=\"section1.6\"></a>\n",
        "# <font color=\"#004D7F\" size=4>Predicciones</font>\n",
        "\n",
        "A continuación se van a realizar las predicciones del conjunto de test."
      ],
      "metadata": {
        "id": "hxbQYYiCtIgK"
      }
    },
    {
      "cell_type": "code",
      "source": [
        "# predicción del primer elemento del conjunto de test\n",
        "\n",
        "model.predict(x_test[:1])"
      ],
      "metadata": {
        "colab": {
          "base_uri": "https://localhost:8080/"
        },
        "id": "7vnMJ4h8uS6Z",
        "outputId": "efe268cd-dfcc-40c6-cf82-4098bc22f662"
      },
      "execution_count": 69,
      "outputs": [
        {
          "output_type": "stream",
          "name": "stdout",
          "text": [
            "1/1 [==============================] - 0s 188ms/step\n"
          ]
        },
        {
          "output_type": "execute_result",
          "data": {
            "text/plain": [
              "array([[1.0872281e-19, 9.4901689e-21, 1.0000000e+00, 1.1467002e-19,\n",
              "        5.3805243e-21, 4.8474354e-29, 1.2987531e-25, 1.6358828e-17,\n",
              "        6.3614739e-18, 5.9416173e-32]], dtype=float32)"
            ]
          },
          "metadata": {},
          "execution_count": 69
        }
      ]
    },
    {
      "cell_type": "markdown",
      "source": [
        "Como se observa, el método predict devuelve un array con el porcentaje de posibilidades de cada una de las 10 etiquetas (números del 0 al 9). Sería cuestión de quedarse con el elemento mayor, que representaría el mayor porcentaje.\n",
        "\n",
        "Para la primera imagen del conjunto de test, el modelo predice un 2 como etiqueta de la imagen, con un porcentaje del 100 por 100 prácticamente."
      ],
      "metadata": {
        "id": "Ki9O8NLlxL5n"
      }
    },
    {
      "cell_type": "markdown",
      "source": [
        "A continuación se realiza, con ese mismo modelo, la predicción para las 28000 imágenes del conjunto de test:"
      ],
      "metadata": {
        "id": "0dOSl7DUyPur"
      }
    },
    {
      "cell_type": "code",
      "source": [
        "test_pred = [p.argmax() for p in model.predict(x_test[:])]"
      ],
      "metadata": {
        "colab": {
          "base_uri": "https://localhost:8080/"
        },
        "id": "qWVUmZHYyWMj",
        "outputId": "8d21148d-0e21-4caa-8973-63b611fcba16"
      },
      "execution_count": 70,
      "outputs": [
        {
          "output_type": "stream",
          "name": "stdout",
          "text": [
            "875/875 [==============================] - 2s 3ms/step\n"
          ]
        }
      ]
    },
    {
      "cell_type": "code",
      "source": [
        "# Se carga el dataset que habrá que modificar para subirlo a la competición de Kaggle.\n",
        "\n",
        "df_sample_submission = pd.read_csv('data/sample_submission.csv')\n",
        "print(f'Dimensión de df_sample_submission: {df_sample_submission.shape}')\n",
        "df_sample_submission.head()"
      ],
      "metadata": {
        "colab": {
          "base_uri": "https://localhost:8080/",
          "height": 223
        },
        "id": "t9wCIDbayap6",
        "outputId": "eddc7a05-6433-4ebb-8184-d3c54063f254"
      },
      "execution_count": 71,
      "outputs": [
        {
          "output_type": "stream",
          "name": "stdout",
          "text": [
            "Dimensión de df_sample_submission: (28000, 2)\n"
          ]
        },
        {
          "output_type": "execute_result",
          "data": {
            "text/plain": [
              "   ImageId  Label\n",
              "0        1      0\n",
              "1        2      0\n",
              "2        3      0\n",
              "3        4      0\n",
              "4        5      0"
            ],
            "text/html": [
              "\n",
              "  <div id=\"df-af7f5d5a-a522-49c8-8851-d8876593cfef\" class=\"colab-df-container\">\n",
              "    <div>\n",
              "<style scoped>\n",
              "    .dataframe tbody tr th:only-of-type {\n",
              "        vertical-align: middle;\n",
              "    }\n",
              "\n",
              "    .dataframe tbody tr th {\n",
              "        vertical-align: top;\n",
              "    }\n",
              "\n",
              "    .dataframe thead th {\n",
              "        text-align: right;\n",
              "    }\n",
              "</style>\n",
              "<table border=\"1\" class=\"dataframe\">\n",
              "  <thead>\n",
              "    <tr style=\"text-align: right;\">\n",
              "      <th></th>\n",
              "      <th>ImageId</th>\n",
              "      <th>Label</th>\n",
              "    </tr>\n",
              "  </thead>\n",
              "  <tbody>\n",
              "    <tr>\n",
              "      <th>0</th>\n",
              "      <td>1</td>\n",
              "      <td>0</td>\n",
              "    </tr>\n",
              "    <tr>\n",
              "      <th>1</th>\n",
              "      <td>2</td>\n",
              "      <td>0</td>\n",
              "    </tr>\n",
              "    <tr>\n",
              "      <th>2</th>\n",
              "      <td>3</td>\n",
              "      <td>0</td>\n",
              "    </tr>\n",
              "    <tr>\n",
              "      <th>3</th>\n",
              "      <td>4</td>\n",
              "      <td>0</td>\n",
              "    </tr>\n",
              "    <tr>\n",
              "      <th>4</th>\n",
              "      <td>5</td>\n",
              "      <td>0</td>\n",
              "    </tr>\n",
              "  </tbody>\n",
              "</table>\n",
              "</div>\n",
              "    <div class=\"colab-df-buttons\">\n",
              "\n",
              "  <div class=\"colab-df-container\">\n",
              "    <button class=\"colab-df-convert\" onclick=\"convertToInteractive('df-af7f5d5a-a522-49c8-8851-d8876593cfef')\"\n",
              "            title=\"Convert this dataframe to an interactive table.\"\n",
              "            style=\"display:none;\">\n",
              "\n",
              "  <svg xmlns=\"http://www.w3.org/2000/svg\" height=\"24px\" viewBox=\"0 -960 960 960\">\n",
              "    <path d=\"M120-120v-720h720v720H120Zm60-500h600v-160H180v160Zm220 220h160v-160H400v160Zm0 220h160v-160H400v160ZM180-400h160v-160H180v160Zm440 0h160v-160H620v160ZM180-180h160v-160H180v160Zm440 0h160v-160H620v160Z\"/>\n",
              "  </svg>\n",
              "    </button>\n",
              "\n",
              "  <style>\n",
              "    .colab-df-container {\n",
              "      display:flex;\n",
              "      gap: 12px;\n",
              "    }\n",
              "\n",
              "    .colab-df-convert {\n",
              "      background-color: #E8F0FE;\n",
              "      border: none;\n",
              "      border-radius: 50%;\n",
              "      cursor: pointer;\n",
              "      display: none;\n",
              "      fill: #1967D2;\n",
              "      height: 32px;\n",
              "      padding: 0 0 0 0;\n",
              "      width: 32px;\n",
              "    }\n",
              "\n",
              "    .colab-df-convert:hover {\n",
              "      background-color: #E2EBFA;\n",
              "      box-shadow: 0px 1px 2px rgba(60, 64, 67, 0.3), 0px 1px 3px 1px rgba(60, 64, 67, 0.15);\n",
              "      fill: #174EA6;\n",
              "    }\n",
              "\n",
              "    .colab-df-buttons div {\n",
              "      margin-bottom: 4px;\n",
              "    }\n",
              "\n",
              "    [theme=dark] .colab-df-convert {\n",
              "      background-color: #3B4455;\n",
              "      fill: #D2E3FC;\n",
              "    }\n",
              "\n",
              "    [theme=dark] .colab-df-convert:hover {\n",
              "      background-color: #434B5C;\n",
              "      box-shadow: 0px 1px 3px 1px rgba(0, 0, 0, 0.15);\n",
              "      filter: drop-shadow(0px 1px 2px rgba(0, 0, 0, 0.3));\n",
              "      fill: #FFFFFF;\n",
              "    }\n",
              "  </style>\n",
              "\n",
              "    <script>\n",
              "      const buttonEl =\n",
              "        document.querySelector('#df-af7f5d5a-a522-49c8-8851-d8876593cfef button.colab-df-convert');\n",
              "      buttonEl.style.display =\n",
              "        google.colab.kernel.accessAllowed ? 'block' : 'none';\n",
              "\n",
              "      async function convertToInteractive(key) {\n",
              "        const element = document.querySelector('#df-af7f5d5a-a522-49c8-8851-d8876593cfef');\n",
              "        const dataTable =\n",
              "          await google.colab.kernel.invokeFunction('convertToInteractive',\n",
              "                                                    [key], {});\n",
              "        if (!dataTable) return;\n",
              "\n",
              "        const docLinkHtml = 'Like what you see? Visit the ' +\n",
              "          '<a target=\"_blank\" href=https://colab.research.google.com/notebooks/data_table.ipynb>data table notebook</a>'\n",
              "          + ' to learn more about interactive tables.';\n",
              "        element.innerHTML = '';\n",
              "        dataTable['output_type'] = 'display_data';\n",
              "        await google.colab.output.renderOutput(dataTable, element);\n",
              "        const docLink = document.createElement('div');\n",
              "        docLink.innerHTML = docLinkHtml;\n",
              "        element.appendChild(docLink);\n",
              "      }\n",
              "    </script>\n",
              "  </div>\n",
              "\n",
              "\n",
              "<div id=\"df-3bd84c45-89f6-4df9-8914-64817f96204d\">\n",
              "  <button class=\"colab-df-quickchart\" onclick=\"quickchart('df-3bd84c45-89f6-4df9-8914-64817f96204d')\"\n",
              "            title=\"Suggest charts.\"\n",
              "            style=\"display:none;\">\n",
              "\n",
              "<svg xmlns=\"http://www.w3.org/2000/svg\" height=\"24px\"viewBox=\"0 0 24 24\"\n",
              "     width=\"24px\">\n",
              "    <g>\n",
              "        <path d=\"M19 3H5c-1.1 0-2 .9-2 2v14c0 1.1.9 2 2 2h14c1.1 0 2-.9 2-2V5c0-1.1-.9-2-2-2zM9 17H7v-7h2v7zm4 0h-2V7h2v10zm4 0h-2v-4h2v4z\"/>\n",
              "    </g>\n",
              "</svg>\n",
              "  </button>\n",
              "\n",
              "<style>\n",
              "  .colab-df-quickchart {\n",
              "      --bg-color: #E8F0FE;\n",
              "      --fill-color: #1967D2;\n",
              "      --hover-bg-color: #E2EBFA;\n",
              "      --hover-fill-color: #174EA6;\n",
              "      --disabled-fill-color: #AAA;\n",
              "      --disabled-bg-color: #DDD;\n",
              "  }\n",
              "\n",
              "  [theme=dark] .colab-df-quickchart {\n",
              "      --bg-color: #3B4455;\n",
              "      --fill-color: #D2E3FC;\n",
              "      --hover-bg-color: #434B5C;\n",
              "      --hover-fill-color: #FFFFFF;\n",
              "      --disabled-bg-color: #3B4455;\n",
              "      --disabled-fill-color: #666;\n",
              "  }\n",
              "\n",
              "  .colab-df-quickchart {\n",
              "    background-color: var(--bg-color);\n",
              "    border: none;\n",
              "    border-radius: 50%;\n",
              "    cursor: pointer;\n",
              "    display: none;\n",
              "    fill: var(--fill-color);\n",
              "    height: 32px;\n",
              "    padding: 0;\n",
              "    width: 32px;\n",
              "  }\n",
              "\n",
              "  .colab-df-quickchart:hover {\n",
              "    background-color: var(--hover-bg-color);\n",
              "    box-shadow: 0 1px 2px rgba(60, 64, 67, 0.3), 0 1px 3px 1px rgba(60, 64, 67, 0.15);\n",
              "    fill: var(--button-hover-fill-color);\n",
              "  }\n",
              "\n",
              "  .colab-df-quickchart-complete:disabled,\n",
              "  .colab-df-quickchart-complete:disabled:hover {\n",
              "    background-color: var(--disabled-bg-color);\n",
              "    fill: var(--disabled-fill-color);\n",
              "    box-shadow: none;\n",
              "  }\n",
              "\n",
              "  .colab-df-spinner {\n",
              "    border: 2px solid var(--fill-color);\n",
              "    border-color: transparent;\n",
              "    border-bottom-color: var(--fill-color);\n",
              "    animation:\n",
              "      spin 1s steps(1) infinite;\n",
              "  }\n",
              "\n",
              "  @keyframes spin {\n",
              "    0% {\n",
              "      border-color: transparent;\n",
              "      border-bottom-color: var(--fill-color);\n",
              "      border-left-color: var(--fill-color);\n",
              "    }\n",
              "    20% {\n",
              "      border-color: transparent;\n",
              "      border-left-color: var(--fill-color);\n",
              "      border-top-color: var(--fill-color);\n",
              "    }\n",
              "    30% {\n",
              "      border-color: transparent;\n",
              "      border-left-color: var(--fill-color);\n",
              "      border-top-color: var(--fill-color);\n",
              "      border-right-color: var(--fill-color);\n",
              "    }\n",
              "    40% {\n",
              "      border-color: transparent;\n",
              "      border-right-color: var(--fill-color);\n",
              "      border-top-color: var(--fill-color);\n",
              "    }\n",
              "    60% {\n",
              "      border-color: transparent;\n",
              "      border-right-color: var(--fill-color);\n",
              "    }\n",
              "    80% {\n",
              "      border-color: transparent;\n",
              "      border-right-color: var(--fill-color);\n",
              "      border-bottom-color: var(--fill-color);\n",
              "    }\n",
              "    90% {\n",
              "      border-color: transparent;\n",
              "      border-bottom-color: var(--fill-color);\n",
              "    }\n",
              "  }\n",
              "</style>\n",
              "\n",
              "  <script>\n",
              "    async function quickchart(key) {\n",
              "      const quickchartButtonEl =\n",
              "        document.querySelector('#' + key + ' button');\n",
              "      quickchartButtonEl.disabled = true;  // To prevent multiple clicks.\n",
              "      quickchartButtonEl.classList.add('colab-df-spinner');\n",
              "      try {\n",
              "        const charts = await google.colab.kernel.invokeFunction(\n",
              "            'suggestCharts', [key], {});\n",
              "      } catch (error) {\n",
              "        console.error('Error during call to suggestCharts:', error);\n",
              "      }\n",
              "      quickchartButtonEl.classList.remove('colab-df-spinner');\n",
              "      quickchartButtonEl.classList.add('colab-df-quickchart-complete');\n",
              "    }\n",
              "    (() => {\n",
              "      let quickchartButtonEl =\n",
              "        document.querySelector('#df-3bd84c45-89f6-4df9-8914-64817f96204d button');\n",
              "      quickchartButtonEl.style.display =\n",
              "        google.colab.kernel.accessAllowed ? 'block' : 'none';\n",
              "    })();\n",
              "  </script>\n",
              "</div>\n",
              "    </div>\n",
              "  </div>\n"
            ]
          },
          "metadata": {},
          "execution_count": 71
        }
      ]
    },
    {
      "cell_type": "code",
      "source": [
        "df_sample_submission['Label'] = test_pred\n",
        "df_sample_submission.head()"
      ],
      "metadata": {
        "colab": {
          "base_uri": "https://localhost:8080/",
          "height": 206
        },
        "id": "dvSvNUODtLvY",
        "outputId": "2888a6ad-8144-4b20-a106-5e54beee7301"
      },
      "execution_count": 72,
      "outputs": [
        {
          "output_type": "execute_result",
          "data": {
            "text/plain": [
              "   ImageId  Label\n",
              "0        1      2\n",
              "1        2      0\n",
              "2        3      9\n",
              "3        4      9\n",
              "4        5      3"
            ],
            "text/html": [
              "\n",
              "  <div id=\"df-f78d7fe0-979e-495e-ad67-dcea57b5c32e\" class=\"colab-df-container\">\n",
              "    <div>\n",
              "<style scoped>\n",
              "    .dataframe tbody tr th:only-of-type {\n",
              "        vertical-align: middle;\n",
              "    }\n",
              "\n",
              "    .dataframe tbody tr th {\n",
              "        vertical-align: top;\n",
              "    }\n",
              "\n",
              "    .dataframe thead th {\n",
              "        text-align: right;\n",
              "    }\n",
              "</style>\n",
              "<table border=\"1\" class=\"dataframe\">\n",
              "  <thead>\n",
              "    <tr style=\"text-align: right;\">\n",
              "      <th></th>\n",
              "      <th>ImageId</th>\n",
              "      <th>Label</th>\n",
              "    </tr>\n",
              "  </thead>\n",
              "  <tbody>\n",
              "    <tr>\n",
              "      <th>0</th>\n",
              "      <td>1</td>\n",
              "      <td>2</td>\n",
              "    </tr>\n",
              "    <tr>\n",
              "      <th>1</th>\n",
              "      <td>2</td>\n",
              "      <td>0</td>\n",
              "    </tr>\n",
              "    <tr>\n",
              "      <th>2</th>\n",
              "      <td>3</td>\n",
              "      <td>9</td>\n",
              "    </tr>\n",
              "    <tr>\n",
              "      <th>3</th>\n",
              "      <td>4</td>\n",
              "      <td>9</td>\n",
              "    </tr>\n",
              "    <tr>\n",
              "      <th>4</th>\n",
              "      <td>5</td>\n",
              "      <td>3</td>\n",
              "    </tr>\n",
              "  </tbody>\n",
              "</table>\n",
              "</div>\n",
              "    <div class=\"colab-df-buttons\">\n",
              "\n",
              "  <div class=\"colab-df-container\">\n",
              "    <button class=\"colab-df-convert\" onclick=\"convertToInteractive('df-f78d7fe0-979e-495e-ad67-dcea57b5c32e')\"\n",
              "            title=\"Convert this dataframe to an interactive table.\"\n",
              "            style=\"display:none;\">\n",
              "\n",
              "  <svg xmlns=\"http://www.w3.org/2000/svg\" height=\"24px\" viewBox=\"0 -960 960 960\">\n",
              "    <path d=\"M120-120v-720h720v720H120Zm60-500h600v-160H180v160Zm220 220h160v-160H400v160Zm0 220h160v-160H400v160ZM180-400h160v-160H180v160Zm440 0h160v-160H620v160ZM180-180h160v-160H180v160Zm440 0h160v-160H620v160Z\"/>\n",
              "  </svg>\n",
              "    </button>\n",
              "\n",
              "  <style>\n",
              "    .colab-df-container {\n",
              "      display:flex;\n",
              "      gap: 12px;\n",
              "    }\n",
              "\n",
              "    .colab-df-convert {\n",
              "      background-color: #E8F0FE;\n",
              "      border: none;\n",
              "      border-radius: 50%;\n",
              "      cursor: pointer;\n",
              "      display: none;\n",
              "      fill: #1967D2;\n",
              "      height: 32px;\n",
              "      padding: 0 0 0 0;\n",
              "      width: 32px;\n",
              "    }\n",
              "\n",
              "    .colab-df-convert:hover {\n",
              "      background-color: #E2EBFA;\n",
              "      box-shadow: 0px 1px 2px rgba(60, 64, 67, 0.3), 0px 1px 3px 1px rgba(60, 64, 67, 0.15);\n",
              "      fill: #174EA6;\n",
              "    }\n",
              "\n",
              "    .colab-df-buttons div {\n",
              "      margin-bottom: 4px;\n",
              "    }\n",
              "\n",
              "    [theme=dark] .colab-df-convert {\n",
              "      background-color: #3B4455;\n",
              "      fill: #D2E3FC;\n",
              "    }\n",
              "\n",
              "    [theme=dark] .colab-df-convert:hover {\n",
              "      background-color: #434B5C;\n",
              "      box-shadow: 0px 1px 3px 1px rgba(0, 0, 0, 0.15);\n",
              "      filter: drop-shadow(0px 1px 2px rgba(0, 0, 0, 0.3));\n",
              "      fill: #FFFFFF;\n",
              "    }\n",
              "  </style>\n",
              "\n",
              "    <script>\n",
              "      const buttonEl =\n",
              "        document.querySelector('#df-f78d7fe0-979e-495e-ad67-dcea57b5c32e button.colab-df-convert');\n",
              "      buttonEl.style.display =\n",
              "        google.colab.kernel.accessAllowed ? 'block' : 'none';\n",
              "\n",
              "      async function convertToInteractive(key) {\n",
              "        const element = document.querySelector('#df-f78d7fe0-979e-495e-ad67-dcea57b5c32e');\n",
              "        const dataTable =\n",
              "          await google.colab.kernel.invokeFunction('convertToInteractive',\n",
              "                                                    [key], {});\n",
              "        if (!dataTable) return;\n",
              "\n",
              "        const docLinkHtml = 'Like what you see? Visit the ' +\n",
              "          '<a target=\"_blank\" href=https://colab.research.google.com/notebooks/data_table.ipynb>data table notebook</a>'\n",
              "          + ' to learn more about interactive tables.';\n",
              "        element.innerHTML = '';\n",
              "        dataTable['output_type'] = 'display_data';\n",
              "        await google.colab.output.renderOutput(dataTable, element);\n",
              "        const docLink = document.createElement('div');\n",
              "        docLink.innerHTML = docLinkHtml;\n",
              "        element.appendChild(docLink);\n",
              "      }\n",
              "    </script>\n",
              "  </div>\n",
              "\n",
              "\n",
              "<div id=\"df-2a55482a-b194-4370-af65-69b9f711ff11\">\n",
              "  <button class=\"colab-df-quickchart\" onclick=\"quickchart('df-2a55482a-b194-4370-af65-69b9f711ff11')\"\n",
              "            title=\"Suggest charts.\"\n",
              "            style=\"display:none;\">\n",
              "\n",
              "<svg xmlns=\"http://www.w3.org/2000/svg\" height=\"24px\"viewBox=\"0 0 24 24\"\n",
              "     width=\"24px\">\n",
              "    <g>\n",
              "        <path d=\"M19 3H5c-1.1 0-2 .9-2 2v14c0 1.1.9 2 2 2h14c1.1 0 2-.9 2-2V5c0-1.1-.9-2-2-2zM9 17H7v-7h2v7zm4 0h-2V7h2v10zm4 0h-2v-4h2v4z\"/>\n",
              "    </g>\n",
              "</svg>\n",
              "  </button>\n",
              "\n",
              "<style>\n",
              "  .colab-df-quickchart {\n",
              "      --bg-color: #E8F0FE;\n",
              "      --fill-color: #1967D2;\n",
              "      --hover-bg-color: #E2EBFA;\n",
              "      --hover-fill-color: #174EA6;\n",
              "      --disabled-fill-color: #AAA;\n",
              "      --disabled-bg-color: #DDD;\n",
              "  }\n",
              "\n",
              "  [theme=dark] .colab-df-quickchart {\n",
              "      --bg-color: #3B4455;\n",
              "      --fill-color: #D2E3FC;\n",
              "      --hover-bg-color: #434B5C;\n",
              "      --hover-fill-color: #FFFFFF;\n",
              "      --disabled-bg-color: #3B4455;\n",
              "      --disabled-fill-color: #666;\n",
              "  }\n",
              "\n",
              "  .colab-df-quickchart {\n",
              "    background-color: var(--bg-color);\n",
              "    border: none;\n",
              "    border-radius: 50%;\n",
              "    cursor: pointer;\n",
              "    display: none;\n",
              "    fill: var(--fill-color);\n",
              "    height: 32px;\n",
              "    padding: 0;\n",
              "    width: 32px;\n",
              "  }\n",
              "\n",
              "  .colab-df-quickchart:hover {\n",
              "    background-color: var(--hover-bg-color);\n",
              "    box-shadow: 0 1px 2px rgba(60, 64, 67, 0.3), 0 1px 3px 1px rgba(60, 64, 67, 0.15);\n",
              "    fill: var(--button-hover-fill-color);\n",
              "  }\n",
              "\n",
              "  .colab-df-quickchart-complete:disabled,\n",
              "  .colab-df-quickchart-complete:disabled:hover {\n",
              "    background-color: var(--disabled-bg-color);\n",
              "    fill: var(--disabled-fill-color);\n",
              "    box-shadow: none;\n",
              "  }\n",
              "\n",
              "  .colab-df-spinner {\n",
              "    border: 2px solid var(--fill-color);\n",
              "    border-color: transparent;\n",
              "    border-bottom-color: var(--fill-color);\n",
              "    animation:\n",
              "      spin 1s steps(1) infinite;\n",
              "  }\n",
              "\n",
              "  @keyframes spin {\n",
              "    0% {\n",
              "      border-color: transparent;\n",
              "      border-bottom-color: var(--fill-color);\n",
              "      border-left-color: var(--fill-color);\n",
              "    }\n",
              "    20% {\n",
              "      border-color: transparent;\n",
              "      border-left-color: var(--fill-color);\n",
              "      border-top-color: var(--fill-color);\n",
              "    }\n",
              "    30% {\n",
              "      border-color: transparent;\n",
              "      border-left-color: var(--fill-color);\n",
              "      border-top-color: var(--fill-color);\n",
              "      border-right-color: var(--fill-color);\n",
              "    }\n",
              "    40% {\n",
              "      border-color: transparent;\n",
              "      border-right-color: var(--fill-color);\n",
              "      border-top-color: var(--fill-color);\n",
              "    }\n",
              "    60% {\n",
              "      border-color: transparent;\n",
              "      border-right-color: var(--fill-color);\n",
              "    }\n",
              "    80% {\n",
              "      border-color: transparent;\n",
              "      border-right-color: var(--fill-color);\n",
              "      border-bottom-color: var(--fill-color);\n",
              "    }\n",
              "    90% {\n",
              "      border-color: transparent;\n",
              "      border-bottom-color: var(--fill-color);\n",
              "    }\n",
              "  }\n",
              "</style>\n",
              "\n",
              "  <script>\n",
              "    async function quickchart(key) {\n",
              "      const quickchartButtonEl =\n",
              "        document.querySelector('#' + key + ' button');\n",
              "      quickchartButtonEl.disabled = true;  // To prevent multiple clicks.\n",
              "      quickchartButtonEl.classList.add('colab-df-spinner');\n",
              "      try {\n",
              "        const charts = await google.colab.kernel.invokeFunction(\n",
              "            'suggestCharts', [key], {});\n",
              "      } catch (error) {\n",
              "        console.error('Error during call to suggestCharts:', error);\n",
              "      }\n",
              "      quickchartButtonEl.classList.remove('colab-df-spinner');\n",
              "      quickchartButtonEl.classList.add('colab-df-quickchart-complete');\n",
              "    }\n",
              "    (() => {\n",
              "      let quickchartButtonEl =\n",
              "        document.querySelector('#df-2a55482a-b194-4370-af65-69b9f711ff11 button');\n",
              "      quickchartButtonEl.style.display =\n",
              "        google.colab.kernel.accessAllowed ? 'block' : 'none';\n",
              "    })();\n",
              "  </script>\n",
              "</div>\n",
              "    </div>\n",
              "  </div>\n"
            ]
          },
          "metadata": {},
          "execution_count": 72
        }
      ]
    },
    {
      "cell_type": "markdown",
      "source": [
        "Este es el dataset que se debe subir a Kaggle para que el modelo sea evaluado y aparecer en la clasificación."
      ],
      "metadata": {
        "id": "nZMy0BT3zLZr"
      }
    },
    {
      "cell_type": "markdown",
      "source": [
        "Se guarda el dataset para descargarlo en local y subirlo posteriormente a Kaggle:"
      ],
      "metadata": {
        "id": "zh5-gdgPzbbC"
      }
    },
    {
      "cell_type": "code",
      "source": [
        "df_sample_submission.to_csv(\"submission_ex6.csv\", index=False)"
      ],
      "metadata": {
        "id": "xr2cjem6zj9Y"
      },
      "execution_count": 73,
      "outputs": []
    }
  ]
}